{
  "nbformat": 4,
  "nbformat_minor": 0,
  "metadata": {
    "colab": {
      "provenance": []
    },
    "kernelspec": {
      "name": "python3",
      "display_name": "Python 3"
    },
    "language_info": {
      "name": "python"
    }
  },
  "cells": [
    {
      "cell_type": "code",
      "execution_count": 1,
      "metadata": {
        "id": "zEzTvJ8ulPi0"
      },
      "outputs": [],
      "source": [
        "import pandas as pd\n",
        "import numpy as np\n",
        "import warnings\n",
        "import matplotlib.pyplot as plt\n",
        "from sklearn.model_selection import train_test_split\n",
        "from sklearn.ensemble import RandomForestClassifier\n",
        "from sklearn.metrics import classification_report, accuracy_score\n",
        "import joblib\n",
        "\n",
        "# Suprimir todos os warnings\n",
        "warnings.filterwarnings(\"ignore\")"
      ]
    },
    {
      "cell_type": "markdown",
      "source": [
        "# 4 - Baseado nesses dados, faça um modelo que estime a probabilidade de uma pessoa morrer, uma vez que está contaminada com COVID, e considerando os inputs de **idade**, **gênero** e **doenças pré-existentes**."
      ],
      "metadata": {
        "id": "o1UyY-Igl1N8"
      }
    },
    {
      "cell_type": "markdown",
      "source": [
        "Carregar o CSV original para desenvolvermos o melhor modelo de predição."
      ],
      "metadata": {
        "id": "PRVWm5pBl5dL"
      }
    },
    {
      "cell_type": "code",
      "source": [
        "def ler_csv(path=None):\n",
        "    # Caso não informado o path, usar o caminho padrão da máquina.\n",
        "    if path is None:\n",
        "        path = \"D:\\\\Python\\\\finance\\\\Absolute\\\\Dados\\\\20240120_Casos_e_obitos_ESP\\\\tmp\\\\tmpi0lf4neq\\\\20240120_Casos_e_obitos_ESP.csv\"\n",
        "\n",
        "    # Usando a estrutura try e except para ler o arquivo.\n",
        "    try:\n",
        "        df = pd.read_csv(path,\n",
        "                         sep = ';', # Separador usando ';' como parâmetro\n",
        "                         header=0)  # Define-se a linha 0 como index.\n",
        "        return df\n",
        "\n",
        "    except Exception as e:\n",
        "        print(f\"Ocorreu um erro ao ler o arquivo: {e}\")\n",
        "        return None"
      ],
      "metadata": {
        "id": "hZCSMg4OliMP"
      },
      "execution_count": 2,
      "outputs": []
    },
    {
      "cell_type": "code",
      "source": [
        "path = \"//content//drive//MyDrive//Absolute//20240120_Casos_e_obitos_ESP.csv\""
      ],
      "metadata": {
        "id": "MKK3aSI1m6qk"
      },
      "execution_count": 8,
      "outputs": []
    },
    {
      "cell_type": "code",
      "source": [
        "exercicio_4 = ler_csv(path= path)"
      ],
      "metadata": {
        "id": "eI1IVCKhl-F0"
      },
      "execution_count": 9,
      "outputs": []
    },
    {
      "cell_type": "code",
      "source": [
        "exercicio_4.head()"
      ],
      "metadata": {
        "colab": {
          "base_uri": "https://localhost:8080/",
          "height": 243
        },
        "id": "TbslFjCUmCJO",
        "outputId": "44b3c096-7419-4cdc-95cf-bb330c5ab4f5"
      },
      "execution_count": 10,
      "outputs": [
        {
          "output_type": "execute_result",
          "data": {
            "text/plain": [
              "       Asma Cardiopatia Data_Inicio_Sintomas  Diabetes Diagnostico_Covid19  \\\n",
              "0  IGNORADO    IGNORADO           15/07/2022  IGNORADO          CONFIRMADO   \n",
              "1  IGNORADO    IGNORADO           21/02/2021  IGNORADO          CONFIRMADO   \n",
              "2  IGNORADO    IGNORADO           23/06/2021  IGNORADO          CONFIRMADO   \n",
              "3  IGNORADO    IGNORADO           03/02/2021  IGNORADO          CONFIRMADO   \n",
              "4  IGNORADO    IGNORADO           23/02/2021  IGNORADO          CONFIRMADO   \n",
              "\n",
              "  Doenca_Hematologica Doenca_Hepatica Doenca_Neurologica Doenca Renal  \\\n",
              "0            IGNORADO        IGNORADO           IGNORADO     IGNORADO   \n",
              "1            IGNORADO        IGNORADO           IGNORADO     IGNORADO   \n",
              "2            IGNORADO        IGNORADO           IGNORADO     IGNORADO   \n",
              "3            IGNORADO        IGNORADO           IGNORADO     IGNORADO   \n",
              "4            IGNORADO        IGNORADO           IGNORADO     IGNORADO   \n",
              "\n",
              "      Genero  Idade Imunodepressao   Municipio Obesidade  Obito  \\\n",
              "0  MASCULINO   69.0       IGNORADO       ASSIS  IGNORADO      0   \n",
              "1   FEMININO   60.0       IGNORADO   SÃO PAULO  IGNORADO      0   \n",
              "2  MASCULINO   58.0       IGNORADO  ARARAQUARA  IGNORADO      0   \n",
              "3   FEMININO   45.0       IGNORADO   SÃO PAULO  IGNORADO      0   \n",
              "4   FEMININO   42.0       IGNORADO   SÃO PAULO  IGNORADO      0   \n",
              "\n",
              "  Outros_Fatores_De_Risco Pneumopatia  Puérpera Síndrome_De_Down  \n",
              "0                IGNORADO    IGNORADO  IGNORADO         IGNORADO  \n",
              "1                IGNORADO    IGNORADO  IGNORADO         IGNORADO  \n",
              "2                IGNORADO    IGNORADO  IGNORADO         IGNORADO  \n",
              "3                IGNORADO    IGNORADO  IGNORADO         IGNORADO  \n",
              "4                IGNORADO    IGNORADO  IGNORADO         IGNORADO  "
            ],
            "text/html": [
              "\n",
              "  <div id=\"df-1e26c826-93de-4a12-9f5a-f09b89575cc2\" class=\"colab-df-container\">\n",
              "    <div>\n",
              "<style scoped>\n",
              "    .dataframe tbody tr th:only-of-type {\n",
              "        vertical-align: middle;\n",
              "    }\n",
              "\n",
              "    .dataframe tbody tr th {\n",
              "        vertical-align: top;\n",
              "    }\n",
              "\n",
              "    .dataframe thead th {\n",
              "        text-align: right;\n",
              "    }\n",
              "</style>\n",
              "<table border=\"1\" class=\"dataframe\">\n",
              "  <thead>\n",
              "    <tr style=\"text-align: right;\">\n",
              "      <th></th>\n",
              "      <th>Asma</th>\n",
              "      <th>Cardiopatia</th>\n",
              "      <th>Data_Inicio_Sintomas</th>\n",
              "      <th>Diabetes</th>\n",
              "      <th>Diagnostico_Covid19</th>\n",
              "      <th>Doenca_Hematologica</th>\n",
              "      <th>Doenca_Hepatica</th>\n",
              "      <th>Doenca_Neurologica</th>\n",
              "      <th>Doenca Renal</th>\n",
              "      <th>Genero</th>\n",
              "      <th>Idade</th>\n",
              "      <th>Imunodepressao</th>\n",
              "      <th>Municipio</th>\n",
              "      <th>Obesidade</th>\n",
              "      <th>Obito</th>\n",
              "      <th>Outros_Fatores_De_Risco</th>\n",
              "      <th>Pneumopatia</th>\n",
              "      <th>Puérpera</th>\n",
              "      <th>Síndrome_De_Down</th>\n",
              "    </tr>\n",
              "  </thead>\n",
              "  <tbody>\n",
              "    <tr>\n",
              "      <th>0</th>\n",
              "      <td>IGNORADO</td>\n",
              "      <td>IGNORADO</td>\n",
              "      <td>15/07/2022</td>\n",
              "      <td>IGNORADO</td>\n",
              "      <td>CONFIRMADO</td>\n",
              "      <td>IGNORADO</td>\n",
              "      <td>IGNORADO</td>\n",
              "      <td>IGNORADO</td>\n",
              "      <td>IGNORADO</td>\n",
              "      <td>MASCULINO</td>\n",
              "      <td>69.0</td>\n",
              "      <td>IGNORADO</td>\n",
              "      <td>ASSIS</td>\n",
              "      <td>IGNORADO</td>\n",
              "      <td>0</td>\n",
              "      <td>IGNORADO</td>\n",
              "      <td>IGNORADO</td>\n",
              "      <td>IGNORADO</td>\n",
              "      <td>IGNORADO</td>\n",
              "    </tr>\n",
              "    <tr>\n",
              "      <th>1</th>\n",
              "      <td>IGNORADO</td>\n",
              "      <td>IGNORADO</td>\n",
              "      <td>21/02/2021</td>\n",
              "      <td>IGNORADO</td>\n",
              "      <td>CONFIRMADO</td>\n",
              "      <td>IGNORADO</td>\n",
              "      <td>IGNORADO</td>\n",
              "      <td>IGNORADO</td>\n",
              "      <td>IGNORADO</td>\n",
              "      <td>FEMININO</td>\n",
              "      <td>60.0</td>\n",
              "      <td>IGNORADO</td>\n",
              "      <td>SÃO PAULO</td>\n",
              "      <td>IGNORADO</td>\n",
              "      <td>0</td>\n",
              "      <td>IGNORADO</td>\n",
              "      <td>IGNORADO</td>\n",
              "      <td>IGNORADO</td>\n",
              "      <td>IGNORADO</td>\n",
              "    </tr>\n",
              "    <tr>\n",
              "      <th>2</th>\n",
              "      <td>IGNORADO</td>\n",
              "      <td>IGNORADO</td>\n",
              "      <td>23/06/2021</td>\n",
              "      <td>IGNORADO</td>\n",
              "      <td>CONFIRMADO</td>\n",
              "      <td>IGNORADO</td>\n",
              "      <td>IGNORADO</td>\n",
              "      <td>IGNORADO</td>\n",
              "      <td>IGNORADO</td>\n",
              "      <td>MASCULINO</td>\n",
              "      <td>58.0</td>\n",
              "      <td>IGNORADO</td>\n",
              "      <td>ARARAQUARA</td>\n",
              "      <td>IGNORADO</td>\n",
              "      <td>0</td>\n",
              "      <td>IGNORADO</td>\n",
              "      <td>IGNORADO</td>\n",
              "      <td>IGNORADO</td>\n",
              "      <td>IGNORADO</td>\n",
              "    </tr>\n",
              "    <tr>\n",
              "      <th>3</th>\n",
              "      <td>IGNORADO</td>\n",
              "      <td>IGNORADO</td>\n",
              "      <td>03/02/2021</td>\n",
              "      <td>IGNORADO</td>\n",
              "      <td>CONFIRMADO</td>\n",
              "      <td>IGNORADO</td>\n",
              "      <td>IGNORADO</td>\n",
              "      <td>IGNORADO</td>\n",
              "      <td>IGNORADO</td>\n",
              "      <td>FEMININO</td>\n",
              "      <td>45.0</td>\n",
              "      <td>IGNORADO</td>\n",
              "      <td>SÃO PAULO</td>\n",
              "      <td>IGNORADO</td>\n",
              "      <td>0</td>\n",
              "      <td>IGNORADO</td>\n",
              "      <td>IGNORADO</td>\n",
              "      <td>IGNORADO</td>\n",
              "      <td>IGNORADO</td>\n",
              "    </tr>\n",
              "    <tr>\n",
              "      <th>4</th>\n",
              "      <td>IGNORADO</td>\n",
              "      <td>IGNORADO</td>\n",
              "      <td>23/02/2021</td>\n",
              "      <td>IGNORADO</td>\n",
              "      <td>CONFIRMADO</td>\n",
              "      <td>IGNORADO</td>\n",
              "      <td>IGNORADO</td>\n",
              "      <td>IGNORADO</td>\n",
              "      <td>IGNORADO</td>\n",
              "      <td>FEMININO</td>\n",
              "      <td>42.0</td>\n",
              "      <td>IGNORADO</td>\n",
              "      <td>SÃO PAULO</td>\n",
              "      <td>IGNORADO</td>\n",
              "      <td>0</td>\n",
              "      <td>IGNORADO</td>\n",
              "      <td>IGNORADO</td>\n",
              "      <td>IGNORADO</td>\n",
              "      <td>IGNORADO</td>\n",
              "    </tr>\n",
              "  </tbody>\n",
              "</table>\n",
              "</div>\n",
              "    <div class=\"colab-df-buttons\">\n",
              "\n",
              "  <div class=\"colab-df-container\">\n",
              "    <button class=\"colab-df-convert\" onclick=\"convertToInteractive('df-1e26c826-93de-4a12-9f5a-f09b89575cc2')\"\n",
              "            title=\"Convert this dataframe to an interactive table.\"\n",
              "            style=\"display:none;\">\n",
              "\n",
              "  <svg xmlns=\"http://www.w3.org/2000/svg\" height=\"24px\" viewBox=\"0 -960 960 960\">\n",
              "    <path d=\"M120-120v-720h720v720H120Zm60-500h600v-160H180v160Zm220 220h160v-160H400v160Zm0 220h160v-160H400v160ZM180-400h160v-160H180v160Zm440 0h160v-160H620v160ZM180-180h160v-160H180v160Zm440 0h160v-160H620v160Z\"/>\n",
              "  </svg>\n",
              "    </button>\n",
              "\n",
              "  <style>\n",
              "    .colab-df-container {\n",
              "      display:flex;\n",
              "      gap: 12px;\n",
              "    }\n",
              "\n",
              "    .colab-df-convert {\n",
              "      background-color: #E8F0FE;\n",
              "      border: none;\n",
              "      border-radius: 50%;\n",
              "      cursor: pointer;\n",
              "      display: none;\n",
              "      fill: #1967D2;\n",
              "      height: 32px;\n",
              "      padding: 0 0 0 0;\n",
              "      width: 32px;\n",
              "    }\n",
              "\n",
              "    .colab-df-convert:hover {\n",
              "      background-color: #E2EBFA;\n",
              "      box-shadow: 0px 1px 2px rgba(60, 64, 67, 0.3), 0px 1px 3px 1px rgba(60, 64, 67, 0.15);\n",
              "      fill: #174EA6;\n",
              "    }\n",
              "\n",
              "    .colab-df-buttons div {\n",
              "      margin-bottom: 4px;\n",
              "    }\n",
              "\n",
              "    [theme=dark] .colab-df-convert {\n",
              "      background-color: #3B4455;\n",
              "      fill: #D2E3FC;\n",
              "    }\n",
              "\n",
              "    [theme=dark] .colab-df-convert:hover {\n",
              "      background-color: #434B5C;\n",
              "      box-shadow: 0px 1px 3px 1px rgba(0, 0, 0, 0.15);\n",
              "      filter: drop-shadow(0px 1px 2px rgba(0, 0, 0, 0.3));\n",
              "      fill: #FFFFFF;\n",
              "    }\n",
              "  </style>\n",
              "\n",
              "    <script>\n",
              "      const buttonEl =\n",
              "        document.querySelector('#df-1e26c826-93de-4a12-9f5a-f09b89575cc2 button.colab-df-convert');\n",
              "      buttonEl.style.display =\n",
              "        google.colab.kernel.accessAllowed ? 'block' : 'none';\n",
              "\n",
              "      async function convertToInteractive(key) {\n",
              "        const element = document.querySelector('#df-1e26c826-93de-4a12-9f5a-f09b89575cc2');\n",
              "        const dataTable =\n",
              "          await google.colab.kernel.invokeFunction('convertToInteractive',\n",
              "                                                    [key], {});\n",
              "        if (!dataTable) return;\n",
              "\n",
              "        const docLinkHtml = 'Like what you see? Visit the ' +\n",
              "          '<a target=\"_blank\" href=https://colab.research.google.com/notebooks/data_table.ipynb>data table notebook</a>'\n",
              "          + ' to learn more about interactive tables.';\n",
              "        element.innerHTML = '';\n",
              "        dataTable['output_type'] = 'display_data';\n",
              "        await google.colab.output.renderOutput(dataTable, element);\n",
              "        const docLink = document.createElement('div');\n",
              "        docLink.innerHTML = docLinkHtml;\n",
              "        element.appendChild(docLink);\n",
              "      }\n",
              "    </script>\n",
              "  </div>\n",
              "\n",
              "\n",
              "<div id=\"df-bc05f0bb-d288-461d-b3d5-6318c76adba0\">\n",
              "  <button class=\"colab-df-quickchart\" onclick=\"quickchart('df-bc05f0bb-d288-461d-b3d5-6318c76adba0')\"\n",
              "            title=\"Suggest charts\"\n",
              "            style=\"display:none;\">\n",
              "\n",
              "<svg xmlns=\"http://www.w3.org/2000/svg\" height=\"24px\"viewBox=\"0 0 24 24\"\n",
              "     width=\"24px\">\n",
              "    <g>\n",
              "        <path d=\"M19 3H5c-1.1 0-2 .9-2 2v14c0 1.1.9 2 2 2h14c1.1 0 2-.9 2-2V5c0-1.1-.9-2-2-2zM9 17H7v-7h2v7zm4 0h-2V7h2v10zm4 0h-2v-4h2v4z\"/>\n",
              "    </g>\n",
              "</svg>\n",
              "  </button>\n",
              "\n",
              "<style>\n",
              "  .colab-df-quickchart {\n",
              "      --bg-color: #E8F0FE;\n",
              "      --fill-color: #1967D2;\n",
              "      --hover-bg-color: #E2EBFA;\n",
              "      --hover-fill-color: #174EA6;\n",
              "      --disabled-fill-color: #AAA;\n",
              "      --disabled-bg-color: #DDD;\n",
              "  }\n",
              "\n",
              "  [theme=dark] .colab-df-quickchart {\n",
              "      --bg-color: #3B4455;\n",
              "      --fill-color: #D2E3FC;\n",
              "      --hover-bg-color: #434B5C;\n",
              "      --hover-fill-color: #FFFFFF;\n",
              "      --disabled-bg-color: #3B4455;\n",
              "      --disabled-fill-color: #666;\n",
              "  }\n",
              "\n",
              "  .colab-df-quickchart {\n",
              "    background-color: var(--bg-color);\n",
              "    border: none;\n",
              "    border-radius: 50%;\n",
              "    cursor: pointer;\n",
              "    display: none;\n",
              "    fill: var(--fill-color);\n",
              "    height: 32px;\n",
              "    padding: 0;\n",
              "    width: 32px;\n",
              "  }\n",
              "\n",
              "  .colab-df-quickchart:hover {\n",
              "    background-color: var(--hover-bg-color);\n",
              "    box-shadow: 0 1px 2px rgba(60, 64, 67, 0.3), 0 1px 3px 1px rgba(60, 64, 67, 0.15);\n",
              "    fill: var(--button-hover-fill-color);\n",
              "  }\n",
              "\n",
              "  .colab-df-quickchart-complete:disabled,\n",
              "  .colab-df-quickchart-complete:disabled:hover {\n",
              "    background-color: var(--disabled-bg-color);\n",
              "    fill: var(--disabled-fill-color);\n",
              "    box-shadow: none;\n",
              "  }\n",
              "\n",
              "  .colab-df-spinner {\n",
              "    border: 2px solid var(--fill-color);\n",
              "    border-color: transparent;\n",
              "    border-bottom-color: var(--fill-color);\n",
              "    animation:\n",
              "      spin 1s steps(1) infinite;\n",
              "  }\n",
              "\n",
              "  @keyframes spin {\n",
              "    0% {\n",
              "      border-color: transparent;\n",
              "      border-bottom-color: var(--fill-color);\n",
              "      border-left-color: var(--fill-color);\n",
              "    }\n",
              "    20% {\n",
              "      border-color: transparent;\n",
              "      border-left-color: var(--fill-color);\n",
              "      border-top-color: var(--fill-color);\n",
              "    }\n",
              "    30% {\n",
              "      border-color: transparent;\n",
              "      border-left-color: var(--fill-color);\n",
              "      border-top-color: var(--fill-color);\n",
              "      border-right-color: var(--fill-color);\n",
              "    }\n",
              "    40% {\n",
              "      border-color: transparent;\n",
              "      border-right-color: var(--fill-color);\n",
              "      border-top-color: var(--fill-color);\n",
              "    }\n",
              "    60% {\n",
              "      border-color: transparent;\n",
              "      border-right-color: var(--fill-color);\n",
              "    }\n",
              "    80% {\n",
              "      border-color: transparent;\n",
              "      border-right-color: var(--fill-color);\n",
              "      border-bottom-color: var(--fill-color);\n",
              "    }\n",
              "    90% {\n",
              "      border-color: transparent;\n",
              "      border-bottom-color: var(--fill-color);\n",
              "    }\n",
              "  }\n",
              "</style>\n",
              "\n",
              "  <script>\n",
              "    async function quickchart(key) {\n",
              "      const quickchartButtonEl =\n",
              "        document.querySelector('#' + key + ' button');\n",
              "      quickchartButtonEl.disabled = true;  // To prevent multiple clicks.\n",
              "      quickchartButtonEl.classList.add('colab-df-spinner');\n",
              "      try {\n",
              "        const charts = await google.colab.kernel.invokeFunction(\n",
              "            'suggestCharts', [key], {});\n",
              "      } catch (error) {\n",
              "        console.error('Error during call to suggestCharts:', error);\n",
              "      }\n",
              "      quickchartButtonEl.classList.remove('colab-df-spinner');\n",
              "      quickchartButtonEl.classList.add('colab-df-quickchart-complete');\n",
              "    }\n",
              "    (() => {\n",
              "      let quickchartButtonEl =\n",
              "        document.querySelector('#df-bc05f0bb-d288-461d-b3d5-6318c76adba0 button');\n",
              "      quickchartButtonEl.style.display =\n",
              "        google.colab.kernel.accessAllowed ? 'block' : 'none';\n",
              "    })();\n",
              "  </script>\n",
              "</div>\n",
              "\n",
              "    </div>\n",
              "  </div>\n"
            ],
            "application/vnd.google.colaboratory.intrinsic+json": {
              "type": "dataframe",
              "variable_name": "exercicio_4"
            }
          },
          "metadata": {},
          "execution_count": 10
        }
      ]
    },
    {
      "cell_type": "code",
      "source": [
        "exercicio_4.shape"
      ],
      "metadata": {
        "colab": {
          "base_uri": "https://localhost:8080/",
          "height": 0
        },
        "id": "WsbrfqyimEkq",
        "outputId": "220c1004-b3f4-481e-a11f-df84e0cca535"
      },
      "execution_count": 11,
      "outputs": [
        {
          "output_type": "execute_result",
          "data": {
            "text/plain": [
              "(6770928, 19)"
            ]
          },
          "metadata": {},
          "execution_count": 11
        }
      ]
    },
    {
      "cell_type": "code",
      "source": [
        "exercicio_4.isna().sum()"
      ],
      "metadata": {
        "colab": {
          "base_uri": "https://localhost:8080/",
          "height": 0
        },
        "id": "97t1NCmKmHBi",
        "outputId": "7f7b2da7-d9d0-434e-c85d-aa199e7262df"
      },
      "execution_count": 12,
      "outputs": [
        {
          "output_type": "execute_result",
          "data": {
            "text/plain": [
              "Asma                            0\n",
              "Cardiopatia                     0\n",
              "Data_Inicio_Sintomas       244724\n",
              "Diabetes                        0\n",
              "Diagnostico_Covid19             0\n",
              "Doenca_Hematologica             0\n",
              "Doenca_Hepatica                 0\n",
              "Doenca_Neurologica              0\n",
              "Doenca Renal                    0\n",
              "Genero                          1\n",
              "Idade                      221457\n",
              "Imunodepressao                  0\n",
              "Municipio                       0\n",
              "Obesidade                       0\n",
              "Obito                           0\n",
              "Outros_Fatores_De_Risco         0\n",
              "Pneumopatia                     0\n",
              "Puérpera                        0\n",
              "Síndrome_De_Down                0\n",
              "dtype: int64"
            ]
          },
          "metadata": {},
          "execution_count": 12
        }
      ]
    },
    {
      "cell_type": "markdown",
      "source": [
        "## 4.1 - Tratamento da Coluna \"Idade\" e \"Genero\" removendo as linhas NaN."
      ],
      "metadata": {
        "id": "2ZODsY7KmMrd"
      }
    },
    {
      "cell_type": "code",
      "source": [
        "def tratamento_coluna_idade_genero(df_dados):\n",
        "\n",
        "    # Realizar o tratamento de excluir as linhas que são vazias na coluna 'Idade'\n",
        "    try:\n",
        "        # Verificar se a coluna 'Idade' existe no DataFrame\n",
        "        if 'Idade' not in df_dados.columns or 'Genero' not in df_dados.columns:\n",
        "            raise KeyError(\"A coluna 'Idade' e/ou 'Genero' não existe no DataFrame.\")\n",
        "\n",
        "        # Excluir linhas com NaN nas colunas 'Idade' e 'Genero'\n",
        "        df_dados = df_dados.dropna(subset=['Idade', 'Genero']).reset_index(drop=True)\n",
        "\n",
        "    except KeyError as e:\n",
        "        print(f\"Erro de chave: {e}\")\n",
        "    except Exception as e:\n",
        "        print(f\"Ocorreu um erro ao realizar o tratamento dos dados: {e}\")\n",
        "\n",
        "    return df_dados"
      ],
      "metadata": {
        "id": "3QCKfv7omMEb"
      },
      "execution_count": 3,
      "outputs": []
    },
    {
      "cell_type": "code",
      "source": [
        "novo_exercicio_4 = tratamento_coluna_idade_genero(df_dados= exercicio_4)"
      ],
      "metadata": {
        "id": "9xXk5cFImJ_K"
      },
      "execution_count": 14,
      "outputs": []
    },
    {
      "cell_type": "code",
      "source": [
        "novo_exercicio_4.isna().sum()"
      ],
      "metadata": {
        "colab": {
          "base_uri": "https://localhost:8080/",
          "height": 0
        },
        "id": "_BmCtmbqmVIU",
        "outputId": "8c1717d2-c39a-4819-9118-ae0e013a596d"
      },
      "execution_count": 15,
      "outputs": [
        {
          "output_type": "execute_result",
          "data": {
            "text/plain": [
              "Asma                           0\n",
              "Cardiopatia                    0\n",
              "Data_Inicio_Sintomas       30311\n",
              "Diabetes                       0\n",
              "Diagnostico_Covid19            0\n",
              "Doenca_Hematologica            0\n",
              "Doenca_Hepatica                0\n",
              "Doenca_Neurologica             0\n",
              "Doenca Renal                   0\n",
              "Genero                         0\n",
              "Idade                          0\n",
              "Imunodepressao                 0\n",
              "Municipio                      0\n",
              "Obesidade                      0\n",
              "Obito                          0\n",
              "Outros_Fatores_De_Risco        0\n",
              "Pneumopatia                    0\n",
              "Puérpera                       0\n",
              "Síndrome_De_Down               0\n",
              "dtype: int64"
            ]
          },
          "metadata": {},
          "execution_count": 15
        }
      ]
    },
    {
      "cell_type": "code",
      "source": [
        "novo_exercicio_4.shape"
      ],
      "metadata": {
        "colab": {
          "base_uri": "https://localhost:8080/",
          "height": 0
        },
        "id": "Jg1H9iCZmZhB",
        "outputId": "aca7702c-fb23-4108-c408-444378066303"
      },
      "execution_count": 16,
      "outputs": [
        {
          "output_type": "execute_result",
          "data": {
            "text/plain": [
              "(6549470, 19)"
            ]
          },
          "metadata": {},
          "execution_count": 16
        }
      ]
    },
    {
      "cell_type": "code",
      "source": [
        "novo_exercicio_4.columns"
      ],
      "metadata": {
        "colab": {
          "base_uri": "https://localhost:8080/",
          "height": 0
        },
        "id": "vlmGgAHzmapa",
        "outputId": "f4657375-52d6-4885-c400-bb2b1331ba48"
      },
      "execution_count": 17,
      "outputs": [
        {
          "output_type": "execute_result",
          "data": {
            "text/plain": [
              "Index(['Asma', 'Cardiopatia', 'Data_Inicio_Sintomas', 'Diabetes',\n",
              "       'Diagnostico_Covid19', 'Doenca_Hematologica', 'Doenca_Hepatica',\n",
              "       'Doenca_Neurologica', 'Doenca Renal', 'Genero', 'Idade',\n",
              "       'Imunodepressao', 'Municipio', 'Obesidade', 'Obito',\n",
              "       'Outros_Fatores_De_Risco', 'Pneumopatia', 'Puérpera',\n",
              "       'Síndrome_De_Down'],\n",
              "      dtype='object')"
            ]
          },
          "metadata": {},
          "execution_count": 17
        }
      ]
    },
    {
      "cell_type": "markdown",
      "source": [
        "## 4.2 - Tratamento das Colunas Normalizando os dados."
      ],
      "metadata": {
        "id": "MVPLHNPemfTz"
      }
    },
    {
      "cell_type": "markdown",
      "source": [
        "Irei normalizar os dados tanto referentes às colunas \"Genero\", \"Idade\" e as doenças pré-existentes.\n",
        "<p>Além disso, irei excluir as colunas a não serem usadas para facilitar o manejo dos dados."
      ],
      "metadata": {
        "id": "dabs2FELmhzq"
      }
    },
    {
      "cell_type": "markdown",
      "source": [
        "Normalizção a ser usada nas doenças pré-existentes: **'IGNORADO': 0, 'NÃO': 0, 'SIM': 1**\n"
      ],
      "metadata": {
        "id": "59RHnu0smkoy"
      }
    },
    {
      "cell_type": "code",
      "source": [
        "novo_exercicio_4['Asma'].value_counts()"
      ],
      "metadata": {
        "colab": {
          "base_uri": "https://localhost:8080/",
          "height": 0
        },
        "id": "8_jTUDuQmc46",
        "outputId": "df4c8a8b-58fc-4ace-e6da-cd3b66b58fde"
      },
      "execution_count": 18,
      "outputs": [
        {
          "output_type": "execute_result",
          "data": {
            "text/plain": [
              "Asma\n",
              "IGNORADO    6313092\n",
              "NÃO          219964\n",
              "SIM           16414\n",
              "Name: count, dtype: int64"
            ]
          },
          "metadata": {},
          "execution_count": 18
        }
      ]
    },
    {
      "cell_type": "code",
      "source": [
        "novo_exercicio_4['Genero'].value_counts()"
      ],
      "metadata": {
        "colab": {
          "base_uri": "https://localhost:8080/",
          "height": 0
        },
        "id": "seqxjAbrmnPL",
        "outputId": "fd426518-0c8f-44db-ac4a-6d91af76a9ff"
      },
      "execution_count": 19,
      "outputs": [
        {
          "output_type": "execute_result",
          "data": {
            "text/plain": [
              "Genero\n",
              "FEMININO      3595411\n",
              "MASCULINO     2951200\n",
              "INDEFINIDO       2851\n",
              "IGNORADO            8\n",
              "Name: count, dtype: int64"
            ]
          },
          "metadata": {},
          "execution_count": 19
        }
      ]
    },
    {
      "cell_type": "code",
      "source": [
        "novo_exercicio_4['Outros_Fatores_De_Risco'].value_counts()"
      ],
      "metadata": {
        "colab": {
          "base_uri": "https://localhost:8080/",
          "height": 0
        },
        "id": "TmP8joSduu0v",
        "outputId": "cef9003b-d74c-476c-a610-e73df5fdedbe"
      },
      "execution_count": 20,
      "outputs": [
        {
          "output_type": "execute_result",
          "data": {
            "text/plain": [
              "Outros_Fatores_De_Risco\n",
              "IGNORADO    6266701\n",
              "SIM          154341\n",
              "NÃO          128428\n",
              "Name: count, dtype: int64"
            ]
          },
          "metadata": {},
          "execution_count": 20
        }
      ]
    },
    {
      "cell_type": "markdown",
      "source": [
        "Na coluna **\"Genero\"** usaremos o método **One-Hot Encoding** com o objetivo de manter as informações."
      ],
      "metadata": {
        "id": "1Or9Jmn7muTL"
      }
    },
    {
      "cell_type": "markdown",
      "source": [
        "Na coluna **\"Idade\"** usaremos o método **MinMaxScaler** com o objetivo de normalizar as informações no intervalo entre 0 e 1."
      ],
      "metadata": {
        "id": "m2szo3kGmx3K"
      }
    },
    {
      "cell_type": "code",
      "source": [
        "def min_max_scaling(data):\n",
        "    min_value = min(data)\n",
        "    max_value = max(data)\n",
        "    scaled_data = [(x - min_value) / (max_value - min_value) for x in data]\n",
        "    return scaled_data\n",
        "\n",
        "def tratamento_normalizacao(df_dados):\n",
        "    try:\n",
        "        df_dados = df_dados.copy()\n",
        "\n",
        "        # Remover colunas irrelevantes\n",
        "        df_dados = df_dados.drop(['Data_Inicio_Sintomas', 'Municipio', 'Diagnostico_Covid19'], axis=1)\n",
        "\n",
        "        # Listar todas as colunas de doenças.\n",
        "        colunas_doencas = [\n",
        "            'Asma', 'Cardiopatia', 'Diabetes', 'Doenca_Hematologica', 'Doenca_Hepatica',\n",
        "            'Doenca_Neurologica', 'Doenca Renal', 'Imunodepressao', 'Obesidade',\n",
        "            'Pneumopatia', 'Puérpera', 'Síndrome_De_Down', 'Outros_Fatores_De_Risco'\n",
        "        ]\n",
        "\n",
        "        # Verificar se todas as colunas de doenças existem no DataFrame.\n",
        "        for coluna in colunas_doencas:\n",
        "            if coluna not in df_dados.columns:\n",
        "                raise KeyError(f\"A coluna '{coluna}' não existe no DataFrame.\")\n",
        "\n",
        "        # Tratar valores \"IGNORADO\", \"NÃO\" e \"SIM\" nas colunas de doenças.\n",
        "        for coluna in colunas_doencas:\n",
        "            df_dados[coluna] = df_dados[coluna].astype(str)\n",
        "            df_dados[coluna] = df_dados[coluna].str.strip().str.upper()\n",
        "            df_dados[coluna] = df_dados[coluna].replace({'IGNORADO': 0, 'NÃO': 0, 'SIM': 1})\n",
        "\n",
        "        # Normalizar os valores na coluna 'Genero'.\n",
        "        df_dados['Genero'] = df_dados['Genero'].astype(str)\n",
        "        df_dados['Genero'] = df_dados['Genero'].str.strip().str.upper()\n",
        "\n",
        "        # Certificar que valores de 'Genero' sejam strings categóricas\n",
        "        df_dados['Genero'] = df_dados['Genero'].astype('category')\n",
        "\n",
        "        # Aplicar one-hot encoding.\n",
        "        df_dados = pd.get_dummies(df_dados, columns=['Genero'], prefix='Genero', dtype=int)\n",
        "\n",
        "        # Tratar idades.\n",
        "        idade_data = df_dados['Idade'].values.tolist()\n",
        "        df_dados['Idade'] = min_max_scaling(idade_data)\n",
        "\n",
        "        return df_dados\n",
        "\n",
        "    except KeyError as e:\n",
        "        print(f\"Erro de chave: {e}\")\n",
        "        return None\n",
        "\n",
        "    except Exception as e:\n",
        "        print(f\"Ocorreu um erro no tratamento de normalização: {e}\")\n",
        "        return None"
      ],
      "metadata": {
        "id": "XBLj6xcxmq7D"
      },
      "execution_count": 4,
      "outputs": []
    },
    {
      "cell_type": "code",
      "source": [
        "dados_tratados_4 = tratamento_normalizacao(df_dados=novo_exercicio_4)"
      ],
      "metadata": {
        "id": "xtmImp2gm1yy"
      },
      "execution_count": 22,
      "outputs": []
    },
    {
      "cell_type": "code",
      "source": [
        "dados_tratados_4.head()"
      ],
      "metadata": {
        "colab": {
          "base_uri": "https://localhost:8080/",
          "height": 243
        },
        "id": "fjZbTsd6rFyI",
        "outputId": "763912c2-f17e-49d6-e470-469146cf2413"
      },
      "execution_count": 23,
      "outputs": [
        {
          "output_type": "execute_result",
          "data": {
            "text/plain": [
              "   Asma  Cardiopatia  Diabetes  Doenca_Hematologica  Doenca_Hepatica  \\\n",
              "0     0            0         0                    0                0   \n",
              "1     0            0         0                    0                0   \n",
              "2     0            0         0                    0                0   \n",
              "3     0            0         0                    0                0   \n",
              "4     0            0         0                    0                0   \n",
              "\n",
              "   Doenca_Neurologica  Doenca Renal     Idade  Imunodepressao  Obesidade  \\\n",
              "0                   0             0  0.031536               0          0   \n",
              "1                   0             0  0.027422               0          0   \n",
              "2                   0             0  0.026508               0          0   \n",
              "3                   0             0  0.020567               0          0   \n",
              "4                   0             0  0.019196               0          0   \n",
              "\n",
              "   Obito  Outros_Fatores_De_Risco  Pneumopatia  Puérpera  Síndrome_De_Down  \\\n",
              "0      0                        0            0         0                 0   \n",
              "1      0                        0            0         0                 0   \n",
              "2      0                        0            0         0                 0   \n",
              "3      0                        0            0         0                 0   \n",
              "4      0                        0            0         0                 0   \n",
              "\n",
              "   Genero_FEMININO  Genero_IGNORADO  Genero_INDEFINIDO  Genero_MASCULINO  \n",
              "0                0                0                  0                 1  \n",
              "1                1                0                  0                 0  \n",
              "2                0                0                  0                 1  \n",
              "3                1                0                  0                 0  \n",
              "4                1                0                  0                 0  "
            ],
            "text/html": [
              "\n",
              "  <div id=\"df-c1ada8ee-07f8-4672-a18f-adc52925fd10\" class=\"colab-df-container\">\n",
              "    <div>\n",
              "<style scoped>\n",
              "    .dataframe tbody tr th:only-of-type {\n",
              "        vertical-align: middle;\n",
              "    }\n",
              "\n",
              "    .dataframe tbody tr th {\n",
              "        vertical-align: top;\n",
              "    }\n",
              "\n",
              "    .dataframe thead th {\n",
              "        text-align: right;\n",
              "    }\n",
              "</style>\n",
              "<table border=\"1\" class=\"dataframe\">\n",
              "  <thead>\n",
              "    <tr style=\"text-align: right;\">\n",
              "      <th></th>\n",
              "      <th>Asma</th>\n",
              "      <th>Cardiopatia</th>\n",
              "      <th>Diabetes</th>\n",
              "      <th>Doenca_Hematologica</th>\n",
              "      <th>Doenca_Hepatica</th>\n",
              "      <th>Doenca_Neurologica</th>\n",
              "      <th>Doenca Renal</th>\n",
              "      <th>Idade</th>\n",
              "      <th>Imunodepressao</th>\n",
              "      <th>Obesidade</th>\n",
              "      <th>Obito</th>\n",
              "      <th>Outros_Fatores_De_Risco</th>\n",
              "      <th>Pneumopatia</th>\n",
              "      <th>Puérpera</th>\n",
              "      <th>Síndrome_De_Down</th>\n",
              "      <th>Genero_FEMININO</th>\n",
              "      <th>Genero_IGNORADO</th>\n",
              "      <th>Genero_INDEFINIDO</th>\n",
              "      <th>Genero_MASCULINO</th>\n",
              "    </tr>\n",
              "  </thead>\n",
              "  <tbody>\n",
              "    <tr>\n",
              "      <th>0</th>\n",
              "      <td>0</td>\n",
              "      <td>0</td>\n",
              "      <td>0</td>\n",
              "      <td>0</td>\n",
              "      <td>0</td>\n",
              "      <td>0</td>\n",
              "      <td>0</td>\n",
              "      <td>0.031536</td>\n",
              "      <td>0</td>\n",
              "      <td>0</td>\n",
              "      <td>0</td>\n",
              "      <td>0</td>\n",
              "      <td>0</td>\n",
              "      <td>0</td>\n",
              "      <td>0</td>\n",
              "      <td>0</td>\n",
              "      <td>0</td>\n",
              "      <td>0</td>\n",
              "      <td>1</td>\n",
              "    </tr>\n",
              "    <tr>\n",
              "      <th>1</th>\n",
              "      <td>0</td>\n",
              "      <td>0</td>\n",
              "      <td>0</td>\n",
              "      <td>0</td>\n",
              "      <td>0</td>\n",
              "      <td>0</td>\n",
              "      <td>0</td>\n",
              "      <td>0.027422</td>\n",
              "      <td>0</td>\n",
              "      <td>0</td>\n",
              "      <td>0</td>\n",
              "      <td>0</td>\n",
              "      <td>0</td>\n",
              "      <td>0</td>\n",
              "      <td>0</td>\n",
              "      <td>1</td>\n",
              "      <td>0</td>\n",
              "      <td>0</td>\n",
              "      <td>0</td>\n",
              "    </tr>\n",
              "    <tr>\n",
              "      <th>2</th>\n",
              "      <td>0</td>\n",
              "      <td>0</td>\n",
              "      <td>0</td>\n",
              "      <td>0</td>\n",
              "      <td>0</td>\n",
              "      <td>0</td>\n",
              "      <td>0</td>\n",
              "      <td>0.026508</td>\n",
              "      <td>0</td>\n",
              "      <td>0</td>\n",
              "      <td>0</td>\n",
              "      <td>0</td>\n",
              "      <td>0</td>\n",
              "      <td>0</td>\n",
              "      <td>0</td>\n",
              "      <td>0</td>\n",
              "      <td>0</td>\n",
              "      <td>0</td>\n",
              "      <td>1</td>\n",
              "    </tr>\n",
              "    <tr>\n",
              "      <th>3</th>\n",
              "      <td>0</td>\n",
              "      <td>0</td>\n",
              "      <td>0</td>\n",
              "      <td>0</td>\n",
              "      <td>0</td>\n",
              "      <td>0</td>\n",
              "      <td>0</td>\n",
              "      <td>0.020567</td>\n",
              "      <td>0</td>\n",
              "      <td>0</td>\n",
              "      <td>0</td>\n",
              "      <td>0</td>\n",
              "      <td>0</td>\n",
              "      <td>0</td>\n",
              "      <td>0</td>\n",
              "      <td>1</td>\n",
              "      <td>0</td>\n",
              "      <td>0</td>\n",
              "      <td>0</td>\n",
              "    </tr>\n",
              "    <tr>\n",
              "      <th>4</th>\n",
              "      <td>0</td>\n",
              "      <td>0</td>\n",
              "      <td>0</td>\n",
              "      <td>0</td>\n",
              "      <td>0</td>\n",
              "      <td>0</td>\n",
              "      <td>0</td>\n",
              "      <td>0.019196</td>\n",
              "      <td>0</td>\n",
              "      <td>0</td>\n",
              "      <td>0</td>\n",
              "      <td>0</td>\n",
              "      <td>0</td>\n",
              "      <td>0</td>\n",
              "      <td>0</td>\n",
              "      <td>1</td>\n",
              "      <td>0</td>\n",
              "      <td>0</td>\n",
              "      <td>0</td>\n",
              "    </tr>\n",
              "  </tbody>\n",
              "</table>\n",
              "</div>\n",
              "    <div class=\"colab-df-buttons\">\n",
              "\n",
              "  <div class=\"colab-df-container\">\n",
              "    <button class=\"colab-df-convert\" onclick=\"convertToInteractive('df-c1ada8ee-07f8-4672-a18f-adc52925fd10')\"\n",
              "            title=\"Convert this dataframe to an interactive table.\"\n",
              "            style=\"display:none;\">\n",
              "\n",
              "  <svg xmlns=\"http://www.w3.org/2000/svg\" height=\"24px\" viewBox=\"0 -960 960 960\">\n",
              "    <path d=\"M120-120v-720h720v720H120Zm60-500h600v-160H180v160Zm220 220h160v-160H400v160Zm0 220h160v-160H400v160ZM180-400h160v-160H180v160Zm440 0h160v-160H620v160ZM180-180h160v-160H180v160Zm440 0h160v-160H620v160Z\"/>\n",
              "  </svg>\n",
              "    </button>\n",
              "\n",
              "  <style>\n",
              "    .colab-df-container {\n",
              "      display:flex;\n",
              "      gap: 12px;\n",
              "    }\n",
              "\n",
              "    .colab-df-convert {\n",
              "      background-color: #E8F0FE;\n",
              "      border: none;\n",
              "      border-radius: 50%;\n",
              "      cursor: pointer;\n",
              "      display: none;\n",
              "      fill: #1967D2;\n",
              "      height: 32px;\n",
              "      padding: 0 0 0 0;\n",
              "      width: 32px;\n",
              "    }\n",
              "\n",
              "    .colab-df-convert:hover {\n",
              "      background-color: #E2EBFA;\n",
              "      box-shadow: 0px 1px 2px rgba(60, 64, 67, 0.3), 0px 1px 3px 1px rgba(60, 64, 67, 0.15);\n",
              "      fill: #174EA6;\n",
              "    }\n",
              "\n",
              "    .colab-df-buttons div {\n",
              "      margin-bottom: 4px;\n",
              "    }\n",
              "\n",
              "    [theme=dark] .colab-df-convert {\n",
              "      background-color: #3B4455;\n",
              "      fill: #D2E3FC;\n",
              "    }\n",
              "\n",
              "    [theme=dark] .colab-df-convert:hover {\n",
              "      background-color: #434B5C;\n",
              "      box-shadow: 0px 1px 3px 1px rgba(0, 0, 0, 0.15);\n",
              "      filter: drop-shadow(0px 1px 2px rgba(0, 0, 0, 0.3));\n",
              "      fill: #FFFFFF;\n",
              "    }\n",
              "  </style>\n",
              "\n",
              "    <script>\n",
              "      const buttonEl =\n",
              "        document.querySelector('#df-c1ada8ee-07f8-4672-a18f-adc52925fd10 button.colab-df-convert');\n",
              "      buttonEl.style.display =\n",
              "        google.colab.kernel.accessAllowed ? 'block' : 'none';\n",
              "\n",
              "      async function convertToInteractive(key) {\n",
              "        const element = document.querySelector('#df-c1ada8ee-07f8-4672-a18f-adc52925fd10');\n",
              "        const dataTable =\n",
              "          await google.colab.kernel.invokeFunction('convertToInteractive',\n",
              "                                                    [key], {});\n",
              "        if (!dataTable) return;\n",
              "\n",
              "        const docLinkHtml = 'Like what you see? Visit the ' +\n",
              "          '<a target=\"_blank\" href=https://colab.research.google.com/notebooks/data_table.ipynb>data table notebook</a>'\n",
              "          + ' to learn more about interactive tables.';\n",
              "        element.innerHTML = '';\n",
              "        dataTable['output_type'] = 'display_data';\n",
              "        await google.colab.output.renderOutput(dataTable, element);\n",
              "        const docLink = document.createElement('div');\n",
              "        docLink.innerHTML = docLinkHtml;\n",
              "        element.appendChild(docLink);\n",
              "      }\n",
              "    </script>\n",
              "  </div>\n",
              "\n",
              "\n",
              "<div id=\"df-473ce8df-1c24-4f5c-a78a-afa41dfc1212\">\n",
              "  <button class=\"colab-df-quickchart\" onclick=\"quickchart('df-473ce8df-1c24-4f5c-a78a-afa41dfc1212')\"\n",
              "            title=\"Suggest charts\"\n",
              "            style=\"display:none;\">\n",
              "\n",
              "<svg xmlns=\"http://www.w3.org/2000/svg\" height=\"24px\"viewBox=\"0 0 24 24\"\n",
              "     width=\"24px\">\n",
              "    <g>\n",
              "        <path d=\"M19 3H5c-1.1 0-2 .9-2 2v14c0 1.1.9 2 2 2h14c1.1 0 2-.9 2-2V5c0-1.1-.9-2-2-2zM9 17H7v-7h2v7zm4 0h-2V7h2v10zm4 0h-2v-4h2v4z\"/>\n",
              "    </g>\n",
              "</svg>\n",
              "  </button>\n",
              "\n",
              "<style>\n",
              "  .colab-df-quickchart {\n",
              "      --bg-color: #E8F0FE;\n",
              "      --fill-color: #1967D2;\n",
              "      --hover-bg-color: #E2EBFA;\n",
              "      --hover-fill-color: #174EA6;\n",
              "      --disabled-fill-color: #AAA;\n",
              "      --disabled-bg-color: #DDD;\n",
              "  }\n",
              "\n",
              "  [theme=dark] .colab-df-quickchart {\n",
              "      --bg-color: #3B4455;\n",
              "      --fill-color: #D2E3FC;\n",
              "      --hover-bg-color: #434B5C;\n",
              "      --hover-fill-color: #FFFFFF;\n",
              "      --disabled-bg-color: #3B4455;\n",
              "      --disabled-fill-color: #666;\n",
              "  }\n",
              "\n",
              "  .colab-df-quickchart {\n",
              "    background-color: var(--bg-color);\n",
              "    border: none;\n",
              "    border-radius: 50%;\n",
              "    cursor: pointer;\n",
              "    display: none;\n",
              "    fill: var(--fill-color);\n",
              "    height: 32px;\n",
              "    padding: 0;\n",
              "    width: 32px;\n",
              "  }\n",
              "\n",
              "  .colab-df-quickchart:hover {\n",
              "    background-color: var(--hover-bg-color);\n",
              "    box-shadow: 0 1px 2px rgba(60, 64, 67, 0.3), 0 1px 3px 1px rgba(60, 64, 67, 0.15);\n",
              "    fill: var(--button-hover-fill-color);\n",
              "  }\n",
              "\n",
              "  .colab-df-quickchart-complete:disabled,\n",
              "  .colab-df-quickchart-complete:disabled:hover {\n",
              "    background-color: var(--disabled-bg-color);\n",
              "    fill: var(--disabled-fill-color);\n",
              "    box-shadow: none;\n",
              "  }\n",
              "\n",
              "  .colab-df-spinner {\n",
              "    border: 2px solid var(--fill-color);\n",
              "    border-color: transparent;\n",
              "    border-bottom-color: var(--fill-color);\n",
              "    animation:\n",
              "      spin 1s steps(1) infinite;\n",
              "  }\n",
              "\n",
              "  @keyframes spin {\n",
              "    0% {\n",
              "      border-color: transparent;\n",
              "      border-bottom-color: var(--fill-color);\n",
              "      border-left-color: var(--fill-color);\n",
              "    }\n",
              "    20% {\n",
              "      border-color: transparent;\n",
              "      border-left-color: var(--fill-color);\n",
              "      border-top-color: var(--fill-color);\n",
              "    }\n",
              "    30% {\n",
              "      border-color: transparent;\n",
              "      border-left-color: var(--fill-color);\n",
              "      border-top-color: var(--fill-color);\n",
              "      border-right-color: var(--fill-color);\n",
              "    }\n",
              "    40% {\n",
              "      border-color: transparent;\n",
              "      border-right-color: var(--fill-color);\n",
              "      border-top-color: var(--fill-color);\n",
              "    }\n",
              "    60% {\n",
              "      border-color: transparent;\n",
              "      border-right-color: var(--fill-color);\n",
              "    }\n",
              "    80% {\n",
              "      border-color: transparent;\n",
              "      border-right-color: var(--fill-color);\n",
              "      border-bottom-color: var(--fill-color);\n",
              "    }\n",
              "    90% {\n",
              "      border-color: transparent;\n",
              "      border-bottom-color: var(--fill-color);\n",
              "    }\n",
              "  }\n",
              "</style>\n",
              "\n",
              "  <script>\n",
              "    async function quickchart(key) {\n",
              "      const quickchartButtonEl =\n",
              "        document.querySelector('#' + key + ' button');\n",
              "      quickchartButtonEl.disabled = true;  // To prevent multiple clicks.\n",
              "      quickchartButtonEl.classList.add('colab-df-spinner');\n",
              "      try {\n",
              "        const charts = await google.colab.kernel.invokeFunction(\n",
              "            'suggestCharts', [key], {});\n",
              "      } catch (error) {\n",
              "        console.error('Error during call to suggestCharts:', error);\n",
              "      }\n",
              "      quickchartButtonEl.classList.remove('colab-df-spinner');\n",
              "      quickchartButtonEl.classList.add('colab-df-quickchart-complete');\n",
              "    }\n",
              "    (() => {\n",
              "      let quickchartButtonEl =\n",
              "        document.querySelector('#df-473ce8df-1c24-4f5c-a78a-afa41dfc1212 button');\n",
              "      quickchartButtonEl.style.display =\n",
              "        google.colab.kernel.accessAllowed ? 'block' : 'none';\n",
              "    })();\n",
              "  </script>\n",
              "</div>\n",
              "\n",
              "    </div>\n",
              "  </div>\n"
            ],
            "application/vnd.google.colaboratory.intrinsic+json": {
              "type": "dataframe",
              "variable_name": "dados_tratados_4"
            }
          },
          "metadata": {},
          "execution_count": 23
        }
      ]
    },
    {
      "cell_type": "code",
      "source": [
        "dados_tratados_4.columns"
      ],
      "metadata": {
        "colab": {
          "base_uri": "https://localhost:8080/",
          "height": 0
        },
        "id": "iPOkQVqpubkT",
        "outputId": "8f80f390-87c4-4c49-c3b4-1930735c6837"
      },
      "execution_count": 24,
      "outputs": [
        {
          "output_type": "execute_result",
          "data": {
            "text/plain": [
              "Index(['Asma', 'Cardiopatia', 'Diabetes', 'Doenca_Hematologica',\n",
              "       'Doenca_Hepatica', 'Doenca_Neurologica', 'Doenca Renal', 'Idade',\n",
              "       'Imunodepressao', 'Obesidade', 'Obito', 'Outros_Fatores_De_Risco',\n",
              "       'Pneumopatia', 'Puérpera', 'Síndrome_De_Down', 'Genero_FEMININO',\n",
              "       'Genero_IGNORADO', 'Genero_INDEFINIDO', 'Genero_MASCULINO'],\n",
              "      dtype='object')"
            ]
          },
          "metadata": {},
          "execution_count": 24
        }
      ]
    },
    {
      "cell_type": "code",
      "source": [
        "dados_tratados_4.shape"
      ],
      "metadata": {
        "colab": {
          "base_uri": "https://localhost:8080/",
          "height": 0
        },
        "id": "jhiebT26ufov",
        "outputId": "5537165f-52bb-4e8b-bb4a-780276741a12"
      },
      "execution_count": 25,
      "outputs": [
        {
          "output_type": "execute_result",
          "data": {
            "text/plain": [
              "(6549470, 19)"
            ]
          },
          "metadata": {},
          "execution_count": 25
        }
      ]
    },
    {
      "cell_type": "code",
      "source": [
        "dados_tratados_4['Genero_FEMININO'].value_counts()"
      ],
      "metadata": {
        "colab": {
          "base_uri": "https://localhost:8080/",
          "height": 0
        },
        "id": "cEvckiMHriv-",
        "outputId": "c5e56ed2-89e8-4b40-d63d-5859ef552cf0"
      },
      "execution_count": 26,
      "outputs": [
        {
          "output_type": "execute_result",
          "data": {
            "text/plain": [
              "Genero_FEMININO\n",
              "1    3595411\n",
              "0    2954059\n",
              "Name: count, dtype: int64"
            ]
          },
          "metadata": {},
          "execution_count": 26
        }
      ]
    },
    {
      "cell_type": "markdown",
      "source": [
        "## 4.3 - Separação dos dados para treinamento do Modelo Preditivo."
      ],
      "metadata": {
        "id": "MkGDzxs7wOjP"
      }
    },
    {
      "cell_type": "code",
      "source": [
        "def separacao_treino(df_dados):\n",
        "    try:\n",
        "        # Separar as features (X) e o target (y)\n",
        "        X = df_dados.drop(columns=['Obito'])\n",
        "        y = df_dados['Obito']\n",
        "\n",
        "        # Dividir o dataset em conjuntos de treinamento e teste\n",
        "        X_train, X_test, y_train, y_test = train_test_split(X, y, test_size=0.3, random_state=42)\n",
        "\n",
        "        return X_train, X_test, y_train, y_test\n",
        "\n",
        "    except KeyError as e:\n",
        "        print(f\"Erro de chave: {e}\")\n",
        "        return None, None, None, None\n",
        "    except Exception as e:\n",
        "        print(f\"Ocorreu um erro ao separar os dados de treinamento e teste: {e}\")\n",
        "        return None, None, None, None"
      ],
      "metadata": {
        "id": "fs2oL3NMwe68"
      },
      "execution_count": 5,
      "outputs": []
    },
    {
      "cell_type": "code",
      "source": [
        "x_train, x_test, y_train, y_test = separacao_treino(df_dados=dados_tratados_4)"
      ],
      "metadata": {
        "id": "o6nDKW90xJvy"
      },
      "execution_count": 28,
      "outputs": []
    },
    {
      "cell_type": "code",
      "source": [
        "x_train.head()"
      ],
      "metadata": {
        "colab": {
          "base_uri": "https://localhost:8080/",
          "height": 243
        },
        "id": "N0zhVp_YxQow",
        "outputId": "6eccd0d4-59d3-41b0-d3ad-24ac20b00e1f"
      },
      "execution_count": 29,
      "outputs": [
        {
          "output_type": "execute_result",
          "data": {
            "text/plain": [
              "         Asma  Cardiopatia  Diabetes  Doenca_Hematologica  Doenca_Hepatica  \\\n",
              "987649      0            1         1                    0                0   \n",
              "1242156     0            0         0                    0                0   \n",
              "5595425     0            1         0                    0                0   \n",
              "1278441     0            0         0                    0                0   \n",
              "2791121     0            0         0                    0                0   \n",
              "\n",
              "         Doenca_Neurologica  Doenca Renal     Idade  Imunodepressao  \\\n",
              "987649                    1             0  0.026051               0   \n",
              "1242156                   0             0  0.020110               0   \n",
              "5595425                   0             0  0.024223               0   \n",
              "1278441                   0             0  0.015996               0   \n",
              "2791121                   0             0  0.018282               0   \n",
              "\n",
              "         Obesidade  Outros_Fatores_De_Risco  Pneumopatia  Puérpera  \\\n",
              "987649           0                        1            0         0   \n",
              "1242156          0                        0            0         0   \n",
              "5595425          0                        0            0         0   \n",
              "1278441          0                        0            0         0   \n",
              "2791121          0                        0            0         0   \n",
              "\n",
              "         Síndrome_De_Down  Genero_FEMININO  Genero_IGNORADO  \\\n",
              "987649                  0                0                0   \n",
              "1242156                 0                0                0   \n",
              "5595425                 0                1                0   \n",
              "1278441                 0                1                0   \n",
              "2791121                 0                1                0   \n",
              "\n",
              "         Genero_INDEFINIDO  Genero_MASCULINO  \n",
              "987649                   0                 1  \n",
              "1242156                  0                 1  \n",
              "5595425                  0                 0  \n",
              "1278441                  0                 0  \n",
              "2791121                  0                 0  "
            ],
            "text/html": [
              "\n",
              "  <div id=\"df-23508914-af6d-4afa-9949-3fdb600f6947\" class=\"colab-df-container\">\n",
              "    <div>\n",
              "<style scoped>\n",
              "    .dataframe tbody tr th:only-of-type {\n",
              "        vertical-align: middle;\n",
              "    }\n",
              "\n",
              "    .dataframe tbody tr th {\n",
              "        vertical-align: top;\n",
              "    }\n",
              "\n",
              "    .dataframe thead th {\n",
              "        text-align: right;\n",
              "    }\n",
              "</style>\n",
              "<table border=\"1\" class=\"dataframe\">\n",
              "  <thead>\n",
              "    <tr style=\"text-align: right;\">\n",
              "      <th></th>\n",
              "      <th>Asma</th>\n",
              "      <th>Cardiopatia</th>\n",
              "      <th>Diabetes</th>\n",
              "      <th>Doenca_Hematologica</th>\n",
              "      <th>Doenca_Hepatica</th>\n",
              "      <th>Doenca_Neurologica</th>\n",
              "      <th>Doenca Renal</th>\n",
              "      <th>Idade</th>\n",
              "      <th>Imunodepressao</th>\n",
              "      <th>Obesidade</th>\n",
              "      <th>Outros_Fatores_De_Risco</th>\n",
              "      <th>Pneumopatia</th>\n",
              "      <th>Puérpera</th>\n",
              "      <th>Síndrome_De_Down</th>\n",
              "      <th>Genero_FEMININO</th>\n",
              "      <th>Genero_IGNORADO</th>\n",
              "      <th>Genero_INDEFINIDO</th>\n",
              "      <th>Genero_MASCULINO</th>\n",
              "    </tr>\n",
              "  </thead>\n",
              "  <tbody>\n",
              "    <tr>\n",
              "      <th>987649</th>\n",
              "      <td>0</td>\n",
              "      <td>1</td>\n",
              "      <td>1</td>\n",
              "      <td>0</td>\n",
              "      <td>0</td>\n",
              "      <td>1</td>\n",
              "      <td>0</td>\n",
              "      <td>0.026051</td>\n",
              "      <td>0</td>\n",
              "      <td>0</td>\n",
              "      <td>1</td>\n",
              "      <td>0</td>\n",
              "      <td>0</td>\n",
              "      <td>0</td>\n",
              "      <td>0</td>\n",
              "      <td>0</td>\n",
              "      <td>0</td>\n",
              "      <td>1</td>\n",
              "    </tr>\n",
              "    <tr>\n",
              "      <th>1242156</th>\n",
              "      <td>0</td>\n",
              "      <td>0</td>\n",
              "      <td>0</td>\n",
              "      <td>0</td>\n",
              "      <td>0</td>\n",
              "      <td>0</td>\n",
              "      <td>0</td>\n",
              "      <td>0.020110</td>\n",
              "      <td>0</td>\n",
              "      <td>0</td>\n",
              "      <td>0</td>\n",
              "      <td>0</td>\n",
              "      <td>0</td>\n",
              "      <td>0</td>\n",
              "      <td>0</td>\n",
              "      <td>0</td>\n",
              "      <td>0</td>\n",
              "      <td>1</td>\n",
              "    </tr>\n",
              "    <tr>\n",
              "      <th>5595425</th>\n",
              "      <td>0</td>\n",
              "      <td>1</td>\n",
              "      <td>0</td>\n",
              "      <td>0</td>\n",
              "      <td>0</td>\n",
              "      <td>0</td>\n",
              "      <td>0</td>\n",
              "      <td>0.024223</td>\n",
              "      <td>0</td>\n",
              "      <td>0</td>\n",
              "      <td>0</td>\n",
              "      <td>0</td>\n",
              "      <td>0</td>\n",
              "      <td>0</td>\n",
              "      <td>1</td>\n",
              "      <td>0</td>\n",
              "      <td>0</td>\n",
              "      <td>0</td>\n",
              "    </tr>\n",
              "    <tr>\n",
              "      <th>1278441</th>\n",
              "      <td>0</td>\n",
              "      <td>0</td>\n",
              "      <td>0</td>\n",
              "      <td>0</td>\n",
              "      <td>0</td>\n",
              "      <td>0</td>\n",
              "      <td>0</td>\n",
              "      <td>0.015996</td>\n",
              "      <td>0</td>\n",
              "      <td>0</td>\n",
              "      <td>0</td>\n",
              "      <td>0</td>\n",
              "      <td>0</td>\n",
              "      <td>0</td>\n",
              "      <td>1</td>\n",
              "      <td>0</td>\n",
              "      <td>0</td>\n",
              "      <td>0</td>\n",
              "    </tr>\n",
              "    <tr>\n",
              "      <th>2791121</th>\n",
              "      <td>0</td>\n",
              "      <td>0</td>\n",
              "      <td>0</td>\n",
              "      <td>0</td>\n",
              "      <td>0</td>\n",
              "      <td>0</td>\n",
              "      <td>0</td>\n",
              "      <td>0.018282</td>\n",
              "      <td>0</td>\n",
              "      <td>0</td>\n",
              "      <td>0</td>\n",
              "      <td>0</td>\n",
              "      <td>0</td>\n",
              "      <td>0</td>\n",
              "      <td>1</td>\n",
              "      <td>0</td>\n",
              "      <td>0</td>\n",
              "      <td>0</td>\n",
              "    </tr>\n",
              "  </tbody>\n",
              "</table>\n",
              "</div>\n",
              "    <div class=\"colab-df-buttons\">\n",
              "\n",
              "  <div class=\"colab-df-container\">\n",
              "    <button class=\"colab-df-convert\" onclick=\"convertToInteractive('df-23508914-af6d-4afa-9949-3fdb600f6947')\"\n",
              "            title=\"Convert this dataframe to an interactive table.\"\n",
              "            style=\"display:none;\">\n",
              "\n",
              "  <svg xmlns=\"http://www.w3.org/2000/svg\" height=\"24px\" viewBox=\"0 -960 960 960\">\n",
              "    <path d=\"M120-120v-720h720v720H120Zm60-500h600v-160H180v160Zm220 220h160v-160H400v160Zm0 220h160v-160H400v160ZM180-400h160v-160H180v160Zm440 0h160v-160H620v160ZM180-180h160v-160H180v160Zm440 0h160v-160H620v160Z\"/>\n",
              "  </svg>\n",
              "    </button>\n",
              "\n",
              "  <style>\n",
              "    .colab-df-container {\n",
              "      display:flex;\n",
              "      gap: 12px;\n",
              "    }\n",
              "\n",
              "    .colab-df-convert {\n",
              "      background-color: #E8F0FE;\n",
              "      border: none;\n",
              "      border-radius: 50%;\n",
              "      cursor: pointer;\n",
              "      display: none;\n",
              "      fill: #1967D2;\n",
              "      height: 32px;\n",
              "      padding: 0 0 0 0;\n",
              "      width: 32px;\n",
              "    }\n",
              "\n",
              "    .colab-df-convert:hover {\n",
              "      background-color: #E2EBFA;\n",
              "      box-shadow: 0px 1px 2px rgba(60, 64, 67, 0.3), 0px 1px 3px 1px rgba(60, 64, 67, 0.15);\n",
              "      fill: #174EA6;\n",
              "    }\n",
              "\n",
              "    .colab-df-buttons div {\n",
              "      margin-bottom: 4px;\n",
              "    }\n",
              "\n",
              "    [theme=dark] .colab-df-convert {\n",
              "      background-color: #3B4455;\n",
              "      fill: #D2E3FC;\n",
              "    }\n",
              "\n",
              "    [theme=dark] .colab-df-convert:hover {\n",
              "      background-color: #434B5C;\n",
              "      box-shadow: 0px 1px 3px 1px rgba(0, 0, 0, 0.15);\n",
              "      filter: drop-shadow(0px 1px 2px rgba(0, 0, 0, 0.3));\n",
              "      fill: #FFFFFF;\n",
              "    }\n",
              "  </style>\n",
              "\n",
              "    <script>\n",
              "      const buttonEl =\n",
              "        document.querySelector('#df-23508914-af6d-4afa-9949-3fdb600f6947 button.colab-df-convert');\n",
              "      buttonEl.style.display =\n",
              "        google.colab.kernel.accessAllowed ? 'block' : 'none';\n",
              "\n",
              "      async function convertToInteractive(key) {\n",
              "        const element = document.querySelector('#df-23508914-af6d-4afa-9949-3fdb600f6947');\n",
              "        const dataTable =\n",
              "          await google.colab.kernel.invokeFunction('convertToInteractive',\n",
              "                                                    [key], {});\n",
              "        if (!dataTable) return;\n",
              "\n",
              "        const docLinkHtml = 'Like what you see? Visit the ' +\n",
              "          '<a target=\"_blank\" href=https://colab.research.google.com/notebooks/data_table.ipynb>data table notebook</a>'\n",
              "          + ' to learn more about interactive tables.';\n",
              "        element.innerHTML = '';\n",
              "        dataTable['output_type'] = 'display_data';\n",
              "        await google.colab.output.renderOutput(dataTable, element);\n",
              "        const docLink = document.createElement('div');\n",
              "        docLink.innerHTML = docLinkHtml;\n",
              "        element.appendChild(docLink);\n",
              "      }\n",
              "    </script>\n",
              "  </div>\n",
              "\n",
              "\n",
              "<div id=\"df-113b92f0-9c98-42ce-b640-a5752683627d\">\n",
              "  <button class=\"colab-df-quickchart\" onclick=\"quickchart('df-113b92f0-9c98-42ce-b640-a5752683627d')\"\n",
              "            title=\"Suggest charts\"\n",
              "            style=\"display:none;\">\n",
              "\n",
              "<svg xmlns=\"http://www.w3.org/2000/svg\" height=\"24px\"viewBox=\"0 0 24 24\"\n",
              "     width=\"24px\">\n",
              "    <g>\n",
              "        <path d=\"M19 3H5c-1.1 0-2 .9-2 2v14c0 1.1.9 2 2 2h14c1.1 0 2-.9 2-2V5c0-1.1-.9-2-2-2zM9 17H7v-7h2v7zm4 0h-2V7h2v10zm4 0h-2v-4h2v4z\"/>\n",
              "    </g>\n",
              "</svg>\n",
              "  </button>\n",
              "\n",
              "<style>\n",
              "  .colab-df-quickchart {\n",
              "      --bg-color: #E8F0FE;\n",
              "      --fill-color: #1967D2;\n",
              "      --hover-bg-color: #E2EBFA;\n",
              "      --hover-fill-color: #174EA6;\n",
              "      --disabled-fill-color: #AAA;\n",
              "      --disabled-bg-color: #DDD;\n",
              "  }\n",
              "\n",
              "  [theme=dark] .colab-df-quickchart {\n",
              "      --bg-color: #3B4455;\n",
              "      --fill-color: #D2E3FC;\n",
              "      --hover-bg-color: #434B5C;\n",
              "      --hover-fill-color: #FFFFFF;\n",
              "      --disabled-bg-color: #3B4455;\n",
              "      --disabled-fill-color: #666;\n",
              "  }\n",
              "\n",
              "  .colab-df-quickchart {\n",
              "    background-color: var(--bg-color);\n",
              "    border: none;\n",
              "    border-radius: 50%;\n",
              "    cursor: pointer;\n",
              "    display: none;\n",
              "    fill: var(--fill-color);\n",
              "    height: 32px;\n",
              "    padding: 0;\n",
              "    width: 32px;\n",
              "  }\n",
              "\n",
              "  .colab-df-quickchart:hover {\n",
              "    background-color: var(--hover-bg-color);\n",
              "    box-shadow: 0 1px 2px rgba(60, 64, 67, 0.3), 0 1px 3px 1px rgba(60, 64, 67, 0.15);\n",
              "    fill: var(--button-hover-fill-color);\n",
              "  }\n",
              "\n",
              "  .colab-df-quickchart-complete:disabled,\n",
              "  .colab-df-quickchart-complete:disabled:hover {\n",
              "    background-color: var(--disabled-bg-color);\n",
              "    fill: var(--disabled-fill-color);\n",
              "    box-shadow: none;\n",
              "  }\n",
              "\n",
              "  .colab-df-spinner {\n",
              "    border: 2px solid var(--fill-color);\n",
              "    border-color: transparent;\n",
              "    border-bottom-color: var(--fill-color);\n",
              "    animation:\n",
              "      spin 1s steps(1) infinite;\n",
              "  }\n",
              "\n",
              "  @keyframes spin {\n",
              "    0% {\n",
              "      border-color: transparent;\n",
              "      border-bottom-color: var(--fill-color);\n",
              "      border-left-color: var(--fill-color);\n",
              "    }\n",
              "    20% {\n",
              "      border-color: transparent;\n",
              "      border-left-color: var(--fill-color);\n",
              "      border-top-color: var(--fill-color);\n",
              "    }\n",
              "    30% {\n",
              "      border-color: transparent;\n",
              "      border-left-color: var(--fill-color);\n",
              "      border-top-color: var(--fill-color);\n",
              "      border-right-color: var(--fill-color);\n",
              "    }\n",
              "    40% {\n",
              "      border-color: transparent;\n",
              "      border-right-color: var(--fill-color);\n",
              "      border-top-color: var(--fill-color);\n",
              "    }\n",
              "    60% {\n",
              "      border-color: transparent;\n",
              "      border-right-color: var(--fill-color);\n",
              "    }\n",
              "    80% {\n",
              "      border-color: transparent;\n",
              "      border-right-color: var(--fill-color);\n",
              "      border-bottom-color: var(--fill-color);\n",
              "    }\n",
              "    90% {\n",
              "      border-color: transparent;\n",
              "      border-bottom-color: var(--fill-color);\n",
              "    }\n",
              "  }\n",
              "</style>\n",
              "\n",
              "  <script>\n",
              "    async function quickchart(key) {\n",
              "      const quickchartButtonEl =\n",
              "        document.querySelector('#' + key + ' button');\n",
              "      quickchartButtonEl.disabled = true;  // To prevent multiple clicks.\n",
              "      quickchartButtonEl.classList.add('colab-df-spinner');\n",
              "      try {\n",
              "        const charts = await google.colab.kernel.invokeFunction(\n",
              "            'suggestCharts', [key], {});\n",
              "      } catch (error) {\n",
              "        console.error('Error during call to suggestCharts:', error);\n",
              "      }\n",
              "      quickchartButtonEl.classList.remove('colab-df-spinner');\n",
              "      quickchartButtonEl.classList.add('colab-df-quickchart-complete');\n",
              "    }\n",
              "    (() => {\n",
              "      let quickchartButtonEl =\n",
              "        document.querySelector('#df-113b92f0-9c98-42ce-b640-a5752683627d button');\n",
              "      quickchartButtonEl.style.display =\n",
              "        google.colab.kernel.accessAllowed ? 'block' : 'none';\n",
              "    })();\n",
              "  </script>\n",
              "</div>\n",
              "\n",
              "    </div>\n",
              "  </div>\n"
            ],
            "application/vnd.google.colaboratory.intrinsic+json": {
              "type": "dataframe",
              "variable_name": "x_train"
            }
          },
          "metadata": {},
          "execution_count": 29
        }
      ]
    },
    {
      "cell_type": "code",
      "source": [
        "x_train.iloc[0]"
      ],
      "metadata": {
        "colab": {
          "base_uri": "https://localhost:8080/",
          "height": 0
        },
        "id": "fcjqEPnzXkSU",
        "outputId": "b3997001-33c7-496e-848e-6bbfcb6f3550"
      },
      "execution_count": 30,
      "outputs": [
        {
          "output_type": "execute_result",
          "data": {
            "text/plain": [
              "Asma                       0.000000\n",
              "Cardiopatia                1.000000\n",
              "Diabetes                   1.000000\n",
              "Doenca_Hematologica        0.000000\n",
              "Doenca_Hepatica            0.000000\n",
              "Doenca_Neurologica         1.000000\n",
              "Doenca Renal               0.000000\n",
              "Idade                      0.026051\n",
              "Imunodepressao             0.000000\n",
              "Obesidade                  0.000000\n",
              "Outros_Fatores_De_Risco    1.000000\n",
              "Pneumopatia                0.000000\n",
              "Puérpera                   0.000000\n",
              "Síndrome_De_Down           0.000000\n",
              "Genero_FEMININO            0.000000\n",
              "Genero_IGNORADO            0.000000\n",
              "Genero_INDEFINIDO          0.000000\n",
              "Genero_MASCULINO           1.000000\n",
              "Name: 987649, dtype: float64"
            ]
          },
          "metadata": {},
          "execution_count": 30
        }
      ]
    },
    {
      "cell_type": "markdown",
      "source": [
        "## 4.4 - Modelo Preditivo"
      ],
      "metadata": {
        "id": "GIVwN_1cxeKQ"
      }
    },
    {
      "cell_type": "markdown",
      "source": [
        "Existe diversos modelos preditivos possíveis, testaremos os mais simples a seguir:\n",
        "\n",
        "*   Regressão Logística\n",
        "*   Random Forest\n",
        "\n"
      ],
      "metadata": {
        "id": "eu3pzuJVxjAv"
      }
    },
    {
      "cell_type": "markdown",
      "source": [
        "### Regressão Logística"
      ],
      "metadata": {
        "id": "dbNzCCvre7xx"
      }
    },
    {
      "cell_type": "code",
      "source": [
        "from sklearn.linear_model import LogisticRegression\n",
        "from sklearn.metrics import classification_report, accuracy_score\n",
        "import joblib\n",
        "\n",
        "# Criar o modelo de regressão logística\n",
        "logistic_regression = LogisticRegression(random_state=0)\n",
        "\n",
        "# Treinar o modelo com os dados de treinamento\n",
        "logistic_regression.fit(x_train, y_train)\n",
        "\n",
        "# Fazer previsões com os dados de teste\n",
        "y_pred = logistic_regression.predict(x_test)\n",
        "\n",
        "# Avaliar o modelo\n",
        "print(\"Regressão Logística\")\n",
        "print(classification_report(y_test, y_pred))\n",
        "print(\"Accuracy:\", accuracy_score(y_test, y_pred))\n"
      ],
      "metadata": {
        "colab": {
          "base_uri": "https://localhost:8080/",
          "height": 0
        },
        "id": "DjnODWK1xTbK",
        "outputId": "2118a825-62ef-47b4-850a-53fde545ba30"
      },
      "execution_count": 31,
      "outputs": [
        {
          "output_type": "stream",
          "name": "stdout",
          "text": [
            "Regressão Logística\n",
            "              precision    recall  f1-score   support\n",
            "\n",
            "           0       0.98      1.00      0.99   1910378\n",
            "           1       0.50      0.15      0.24     54463\n",
            "\n",
            "    accuracy                           0.97   1964841\n",
            "   macro avg       0.74      0.57      0.61   1964841\n",
            "weighted avg       0.96      0.97      0.97   1964841\n",
            "\n",
            "Accuracy: 0.9722588239964455\n"
          ]
        }
      ]
    },
    {
      "cell_type": "code",
      "source": [
        "# Salvar o modelo no arquivo\n",
        "joblib.dump(logistic_regression, '//content//drive//MyDrive//Absolute//modelo_regressao_logistica.joblib')\n",
        "print(\"Modelo salvo como 'modelo_regressao_logistica.joblib'\")"
      ],
      "metadata": {
        "colab": {
          "base_uri": "https://localhost:8080/",
          "height": 0
        },
        "id": "DcBAh0-ugFhJ",
        "outputId": "dbfce0ed-cad3-45fc-b427-047cc47412d6"
      },
      "execution_count": 32,
      "outputs": [
        {
          "output_type": "stream",
          "name": "stdout",
          "text": [
            "Modelo salvo como 'modelo_regressao_logistica.joblib'\n"
          ]
        }
      ]
    },
    {
      "cell_type": "markdown",
      "source": [
        "### Random Forest"
      ],
      "metadata": {
        "id": "MSQTR1alyrLm"
      }
    },
    {
      "cell_type": "markdown",
      "source": [
        "*   https://crunchingthedata.com/max-depth-in-random-forests/\n",
        "*   https://crunchingthedata.com/random-forest-overfitting/\n",
        "\n"
      ],
      "metadata": {
        "id": "2wEZztVPDE8v"
      }
    },
    {
      "cell_type": "code",
      "source": [
        "from sklearn.ensemble import RandomForestClassifier\n",
        "from sklearn.metrics import classification_report, accuracy_score\n",
        "import joblib\n",
        "\n",
        "# Treinamento do modelo\n",
        "rf = RandomForestClassifier(n_estimators=75, min_samples_split=5, min_samples_leaf=10)\n",
        "rf.fit(x_train, y_train)\n",
        "\n",
        "# Previsão\n",
        "y_pred = rf.predict(x_test)\n",
        "\n",
        "# Avaliação do modelo\n",
        "print(\"Random Forest\")\n",
        "print(classification_report(y_test, y_pred))\n",
        "print(\"Accuracy:\", accuracy_score(y_test, y_pred))\n",
        "\n",
        "# Salvamento do modelo treinado\n",
        "joblib.dump(rf, '//content//drive//MyDrive//Absolute//random_forest_model.joblib')\n",
        "print(\"Modelo salvo como 'random_forest_model.joblib'\")"
      ],
      "metadata": {
        "colab": {
          "base_uri": "https://localhost:8080/",
          "height": 0
        },
        "id": "gatcZEiqytNW",
        "outputId": "8f97cb5c-187f-45e0-fd00-db8a4e606fcc"
      },
      "execution_count": 33,
      "outputs": [
        {
          "output_type": "stream",
          "name": "stdout",
          "text": [
            "Random Forest\n",
            "              precision    recall  f1-score   support\n",
            "\n",
            "           0       0.97      1.00      0.99   1910378\n",
            "           1       0.56      0.07      0.12     54463\n",
            "\n",
            "    accuracy                           0.97   1964841\n",
            "   macro avg       0.77      0.53      0.55   1964841\n",
            "weighted avg       0.96      0.97      0.96   1964841\n",
            "\n",
            "Accuracy: 0.9726904110816091\n",
            "Modelo salvo como 'random_forest_model.joblib'\n"
          ]
        }
      ]
    },
    {
      "cell_type": "code",
      "source": [
        "# Carregar o modelo salvo\n",
        "rf_loaded = joblib.load('//content//drive//MyDrive//Absolute//random_forest_model_50_split_5_leaf_10.joblib')\n",
        "\n",
        "# Usar o modelo carregado para fazer previsões\n",
        "y_pred_loaded = rf_loaded.predict(x_test)\n",
        "\n",
        "# Avaliação do modelo carregado (opcional, apenas para verificar)\n",
        "print(\"Random Forest (Modelo Carregado)\")\n",
        "print(classification_report(y_test, y_pred_loaded))\n",
        "print(\"Accuracy:\", accuracy_score(y_test, y_pred_loaded))"
      ],
      "metadata": {
        "colab": {
          "base_uri": "https://localhost:8080/",
          "height": 0
        },
        "id": "9wDz5O3d-kiP",
        "outputId": "d831ad5d-8f77-4015-96b4-a634107127f9"
      },
      "execution_count": 34,
      "outputs": [
        {
          "output_type": "stream",
          "name": "stdout",
          "text": [
            "Random Forest (Modelo Carregado)\n",
            "              precision    recall  f1-score   support\n",
            "\n",
            "           0       0.97      1.00      0.99   1910378\n",
            "           1       0.56      0.07      0.13     54463\n",
            "\n",
            "    accuracy                           0.97   1964841\n",
            "   macro avg       0.77      0.54      0.56   1964841\n",
            "weighted avg       0.96      0.97      0.96   1964841\n",
            "\n",
            "Accuracy: 0.9727000810752626\n"
          ]
        }
      ]
    },
    {
      "cell_type": "markdown",
      "source": [
        "### Iremos seguir com o modelo Random Forest"
      ],
      "metadata": {
        "id": "B43Pxvn6OrVO"
      }
    },
    {
      "cell_type": "markdown",
      "source": [
        "As configurações do modelo de treinamento foram: *  \n",
        "\n",
        "*   **RandomForestClassifier(n_estimators=50, min_samples_split=5, min_samples_leaf=10)**\n",
        "\n",
        "\n"
      ],
      "metadata": {
        "id": "YPIUMjV7OzeE"
      }
    },
    {
      "cell_type": "markdown",
      "source": [
        "              precision    recall  f1-score   support\n",
        "\n",
        "           0       0.97      1.00      0.99   1910378\n",
        "           1       0.62      0.00      0.01     54463\n",
        "\n",
        "    accuracy                           0.97   1964841\n",
        "   macro avg       0.79      0.50      0.50   1964841\n",
        "weighted avg       0.96      0.97      0.96   1964841"
      ],
      "metadata": {
        "id": "ColXSMXnlxXN"
      }
    },
    {
      "cell_type": "code",
      "source": [
        "def modelo_preditivo(modelo_path, x_test):\n",
        "    \"\"\"\n",
        "    Carrega um modelo salvo e usa-o para prever as probabilidades de óbito e sobrevivência.\n",
        "\n",
        "    Parâmetros:\n",
        "    modelo_path (str): Caminho para o arquivo do modelo salvo.\n",
        "    x_test (pd.DataFrame ou np.ndarray): Conjunto de dados de teste.\n",
        "\n",
        "    Retorna:\n",
        "    np.ndarray: Matriz de probabilidades previstas, onde cada linha representa uma amostra\n",
        "                e cada coluna representa a probabilidade da amostra pertencer a uma classe específica.\n",
        "    \"\"\"\n",
        "    try:\n",
        "        # Definir o caminho padrão do modelo, se não fornecido\n",
        "        if modelo_path is None:\n",
        "            modelo_path = '//content//drive//MyDrive//Absolute//random_forest_model_50_split_5_leaf_10.joblib'\n",
        "\n",
        "        # Carregar o modelo salvo\n",
        "        rf_loaded = joblib.load(modelo_path)\n",
        "\n",
        "        # Usar o modelo carregado para prever as probabilidades\n",
        "        y_prob = rf_loaded.predict_proba(x_test)\n",
        "\n",
        "        # Retornar as probabilidades das duas classes\n",
        "        return y_prob\n",
        "\n",
        "    except Exception as e:\n",
        "        print(f\"Erro ao carregar o modelo e prever probabilidades: {e}\")\n",
        "        return None"
      ],
      "metadata": {
        "id": "NvdoQ6Pi_B1Q"
      },
      "execution_count": 6,
      "outputs": []
    },
    {
      "cell_type": "code",
      "source": [
        "def treinar_modelo(x_train, x_test, y_train, y_test, modelo_path):\n",
        "    \"\"\"\n",
        "    Treina um modelo RandomForestClassifier, salva o modelo treinado e retorna as métricas de avaliação.\n",
        "\n",
        "    Parâmetros:\n",
        "    x_train : Conjunto de dados de treinamento.\n",
        "    x_test : Conjunto de dados de teste.\n",
        "    y_train : Labels de treinamento.\n",
        "    y_test : Labels de teste.\n",
        "    modelo_path : Caminho para salvar o modelo treinado.\n",
        "\n",
        "    Retorna:\n",
        "    rf : Modelo treinado.\n",
        "    \"\"\"\n",
        "    try:\n",
        "        # Treinamento do modelo\n",
        "        rf = RandomForestClassifier(n_estimators=50, max_depth=5, min_samples_leaf=10)\n",
        "        rf.fit(x_train, y_train)\n",
        "\n",
        "        # Previsão\n",
        "        y_pred = rf.predict(x_test)\n",
        "\n",
        "        # Avaliação do modelo\n",
        "        report = classification_report(y_test, y_pred)\n",
        "        accuracy = accuracy_score(y_test, y_pred)\n",
        "        print(\"Random Forest\")\n",
        "        print(report)\n",
        "        print(\"Accuracy:\", accuracy)\n",
        "\n",
        "        # Salvamento do modelo treinado\n",
        "        joblib.dump(rf, modelo_path)\n",
        "        print(f\"Modelo salvo como '{modelo_path}'\")\n",
        "\n",
        "        # Retornar o modelo treinado\n",
        "        return rf\n",
        "\n",
        "    except Exception as e:\n",
        "        print(f\"Erro no treinamento e salvamento do modelo: {e}\")\n",
        "        return None\n"
      ],
      "metadata": {
        "id": "HnPx1Zr8Rso7"
      },
      "execution_count": 7,
      "outputs": []
    },
    {
      "cell_type": "markdown",
      "source": [
        "## 4.5 - Versão Final"
      ],
      "metadata": {
        "id": "ygb40N2iRlYj"
      }
    },
    {
      "cell_type": "code",
      "source": [
        "path = \"//content//drive//MyDrive//Absolute//20240120_Casos_e_obitos_ESP.csv\"\n",
        "\n",
        "# Carregar o CSV com os dados.\n",
        "exercicio_4 = ler_csv(path= path)\n",
        "\n",
        "# Tratamento da Coluna \"Idade\" e \"Genero\" removendo as linhas NaN.\n",
        "novo_exercicio_4 = tratamento_coluna_idade_genero(df_dados= exercicio_4)\n",
        "\n",
        "# Tratamento das Colunas Normalizando os dados.\n",
        "dados_tratados_4 = tratamento_normalizacao(df_dados=novo_exercicio_4)\n",
        "\n",
        "# Separação dos dados para treinamento do Modelo Preditivo.\n",
        "x_train, x_test, y_train, y_test = separacao_treino(df_dados=dados_tratados_4)\n",
        "\n",
        "# Modelo Preditivo : Random Forest\n",
        "\n",
        "# Caso não tenha uma modelo treinado\n",
        "modelo = treinar_modelo(x_train = x_train, x_test = x_test,\n",
        "                        y_train = y_train, y_test = y_test,\n",
        "                        modelo_path='//content//drive//MyDrive//Absolute//random_forest_model_test.joblib')\n",
        "\n",
        "# Caso queira usar um modelo treinado e obter a predição usar a seguinte linha abaixo.\n",
        "# modelo = modelo_preditivo(modelo_path = '//content//drive//MyDrive//Absolute//random_forest_model_test.joblib', x_test)"
      ],
      "metadata": {
        "colab": {
          "base_uri": "https://localhost:8080/",
          "height": 0
        },
        "id": "uWHlv2sGRkNL",
        "outputId": "3888c3cf-25c6-43a9-f042-aafd4bffe189"
      },
      "execution_count": 9,
      "outputs": [
        {
          "output_type": "stream",
          "name": "stdout",
          "text": [
            "Random Forest\n",
            "              precision    recall  f1-score   support\n",
            "\n",
            "           0       0.97      1.00      0.99   1910378\n",
            "           1       0.63      0.00      0.01     54463\n",
            "\n",
            "    accuracy                           0.97   1964841\n",
            "   macro avg       0.80      0.50      0.50   1964841\n",
            "weighted avg       0.96      0.97      0.96   1964841\n",
            "\n",
            "Accuracy: 0.972324478163882\n",
            "Modelo salvo como '//content//drive//MyDrive//Absolute//random_forest_model_test.joblib'\n"
          ]
        }
      ]
    },
    {
      "cell_type": "code",
      "source": [
        "# Test\n",
        "x_prob = x_train.iloc[[0]]\n",
        "\n",
        "# Previsão\n",
        "y_prob = modelo.predict_proba(x_prob)\n",
        "\n",
        "print(y_prob)\n",
        "\n",
        "# Print das probabilidades com informações claras\n",
        "for i, prob in enumerate(y_prob):\n",
        "    print(f\"Amostra {i+1}: Probabilidade de Sobrevivência = {prob[0]:.4f}, Probabilidade de Óbito = {prob[1]:.4f}\")"
      ],
      "metadata": {
        "colab": {
          "base_uri": "https://localhost:8080/",
          "height": 0
        },
        "id": "0-xDUiRXVO7I",
        "outputId": "13e428b9-485e-4505-e979-64e7df22d478"
      },
      "execution_count": 12,
      "outputs": [
        {
          "output_type": "stream",
          "name": "stdout",
          "text": [
            "[[0.64489073 0.35510927]]\n",
            "Amostra 1: Probabilidade de Sobrevivência = 0.6449, Probabilidade de Óbito = 0.3551\n"
          ]
        }
      ]
    },
    {
      "cell_type": "code",
      "source": [],
      "metadata": {
        "id": "7aF-HrzanjwK"
      },
      "execution_count": null,
      "outputs": []
    }
  ]
}