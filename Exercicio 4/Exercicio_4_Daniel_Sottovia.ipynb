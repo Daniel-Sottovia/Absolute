{
  "nbformat": 4,
  "nbformat_minor": 0,
  "metadata": {
    "colab": {
      "provenance": []
    },
    "kernelspec": {
      "name": "python3",
      "display_name": "Python 3"
    },
    "language_info": {
      "name": "python"
    }
  },
  "cells": [
    {
      "cell_type": "code",
      "execution_count": 1,
      "metadata": {
        "id": "zEzTvJ8ulPi0"
      },
      "outputs": [],
      "source": [
        "import pandas as pd\n",
        "import numpy as np\n",
        "import warnings\n",
        "import matplotlib.pyplot as plt\n",
        "from sklearn.model_selection import train_test_split\n",
        "from sklearn.ensemble import RandomForestClassifier\n",
        "from sklearn.metrics import classification_report, accuracy_score\n",
        "import joblib\n",
        "\n",
        "# Suprimir todos os warnings\n",
        "warnings.filterwarnings(\"ignore\")"
      ]
    },
    {
      "cell_type": "markdown",
      "source": [
        "# 4 - Baseado nesses dados, faça um modelo que estime a probabilidade de uma pessoa morrer, uma vez que está contaminada com COVID, e considerando os inputs de **idade**, **gênero** e **doenças pré-existentes**."
      ],
      "metadata": {
        "id": "o1UyY-Igl1N8"
      }
    },
    {
      "cell_type": "markdown",
      "source": [
        "Carregar o CSV original para desenvolvermos o melhor modelo de predição."
      ],
      "metadata": {
        "id": "PRVWm5pBl5dL"
      }
    },
    {
      "cell_type": "code",
      "source": [
        "def ler_csv(path=None):\n",
        "    # Caso não informado o path, usar o caminho padrão da máquina.\n",
        "    if path is None:\n",
        "        path = \"D:\\\\Python\\\\finance\\\\Absolute\\\\Dados\\\\20240120_Casos_e_obitos_ESP\\\\tmp\\\\tmpi0lf4neq\\\\20240120_Casos_e_obitos_ESP.csv\"\n",
        "\n",
        "    # Usando a estrutura try e except para ler o arquivo.\n",
        "    try:\n",
        "        df = pd.read_csv(path,\n",
        "                         sep = ';', # Separador usando ';' como parâmetro\n",
        "                         header=0)  # Define-se a linha 0 como index.\n",
        "        return df\n",
        "\n",
        "    except Exception as e:\n",
        "        print(f\"Ocorreu um erro ao ler o arquivo: {e}\")\n",
        "        return None"
      ],
      "metadata": {
        "id": "hZCSMg4OliMP"
      },
      "execution_count": 2,
      "outputs": []
    },
    {
      "cell_type": "code",
      "source": [
        "path = \"//content//drive//MyDrive//Absolute//20240120_Casos_e_obitos_ESP.csv\""
      ],
      "metadata": {
        "id": "MKK3aSI1m6qk"
      },
      "execution_count": 3,
      "outputs": []
    },
    {
      "cell_type": "code",
      "source": [
        "exercicio_4 = ler_csv(path= path)"
      ],
      "metadata": {
        "id": "eI1IVCKhl-F0"
      },
      "execution_count": 4,
      "outputs": []
    },
    {
      "cell_type": "code",
      "source": [
        "exercicio_4.head()"
      ],
      "metadata": {
        "colab": {
          "base_uri": "https://localhost:8080/",
          "height": 243
        },
        "id": "TbslFjCUmCJO",
        "outputId": "95a6d954-0a0b-44f5-85fb-b5b89b453fec"
      },
      "execution_count": 5,
      "outputs": [
        {
          "output_type": "execute_result",
          "data": {
            "text/plain": [
              "       Asma Cardiopatia Data_Inicio_Sintomas  Diabetes Diagnostico_Covid19  \\\n",
              "0  IGNORADO    IGNORADO           15/07/2022  IGNORADO          CONFIRMADO   \n",
              "1  IGNORADO    IGNORADO           21/02/2021  IGNORADO          CONFIRMADO   \n",
              "2  IGNORADO    IGNORADO           23/06/2021  IGNORADO          CONFIRMADO   \n",
              "3  IGNORADO    IGNORADO           03/02/2021  IGNORADO          CONFIRMADO   \n",
              "4  IGNORADO    IGNORADO           23/02/2021  IGNORADO          CONFIRMADO   \n",
              "\n",
              "  Doenca_Hematologica Doenca_Hepatica Doenca_Neurologica Doenca Renal  \\\n",
              "0            IGNORADO        IGNORADO           IGNORADO     IGNORADO   \n",
              "1            IGNORADO        IGNORADO           IGNORADO     IGNORADO   \n",
              "2            IGNORADO        IGNORADO           IGNORADO     IGNORADO   \n",
              "3            IGNORADO        IGNORADO           IGNORADO     IGNORADO   \n",
              "4            IGNORADO        IGNORADO           IGNORADO     IGNORADO   \n",
              "\n",
              "      Genero  Idade Imunodepressao   Municipio Obesidade  Obito  \\\n",
              "0  MASCULINO   69.0       IGNORADO       ASSIS  IGNORADO      0   \n",
              "1   FEMININO   60.0       IGNORADO   SÃO PAULO  IGNORADO      0   \n",
              "2  MASCULINO   58.0       IGNORADO  ARARAQUARA  IGNORADO      0   \n",
              "3   FEMININO   45.0       IGNORADO   SÃO PAULO  IGNORADO      0   \n",
              "4   FEMININO   42.0       IGNORADO   SÃO PAULO  IGNORADO      0   \n",
              "\n",
              "  Outros_Fatores_De_Risco Pneumopatia  Puérpera Síndrome_De_Down  \n",
              "0                IGNORADO    IGNORADO  IGNORADO         IGNORADO  \n",
              "1                IGNORADO    IGNORADO  IGNORADO         IGNORADO  \n",
              "2                IGNORADO    IGNORADO  IGNORADO         IGNORADO  \n",
              "3                IGNORADO    IGNORADO  IGNORADO         IGNORADO  \n",
              "4                IGNORADO    IGNORADO  IGNORADO         IGNORADO  "
            ],
            "text/html": [
              "\n",
              "  <div id=\"df-1141cef7-ed92-4023-8435-a282773d23c4\" class=\"colab-df-container\">\n",
              "    <div>\n",
              "<style scoped>\n",
              "    .dataframe tbody tr th:only-of-type {\n",
              "        vertical-align: middle;\n",
              "    }\n",
              "\n",
              "    .dataframe tbody tr th {\n",
              "        vertical-align: top;\n",
              "    }\n",
              "\n",
              "    .dataframe thead th {\n",
              "        text-align: right;\n",
              "    }\n",
              "</style>\n",
              "<table border=\"1\" class=\"dataframe\">\n",
              "  <thead>\n",
              "    <tr style=\"text-align: right;\">\n",
              "      <th></th>\n",
              "      <th>Asma</th>\n",
              "      <th>Cardiopatia</th>\n",
              "      <th>Data_Inicio_Sintomas</th>\n",
              "      <th>Diabetes</th>\n",
              "      <th>Diagnostico_Covid19</th>\n",
              "      <th>Doenca_Hematologica</th>\n",
              "      <th>Doenca_Hepatica</th>\n",
              "      <th>Doenca_Neurologica</th>\n",
              "      <th>Doenca Renal</th>\n",
              "      <th>Genero</th>\n",
              "      <th>Idade</th>\n",
              "      <th>Imunodepressao</th>\n",
              "      <th>Municipio</th>\n",
              "      <th>Obesidade</th>\n",
              "      <th>Obito</th>\n",
              "      <th>Outros_Fatores_De_Risco</th>\n",
              "      <th>Pneumopatia</th>\n",
              "      <th>Puérpera</th>\n",
              "      <th>Síndrome_De_Down</th>\n",
              "    </tr>\n",
              "  </thead>\n",
              "  <tbody>\n",
              "    <tr>\n",
              "      <th>0</th>\n",
              "      <td>IGNORADO</td>\n",
              "      <td>IGNORADO</td>\n",
              "      <td>15/07/2022</td>\n",
              "      <td>IGNORADO</td>\n",
              "      <td>CONFIRMADO</td>\n",
              "      <td>IGNORADO</td>\n",
              "      <td>IGNORADO</td>\n",
              "      <td>IGNORADO</td>\n",
              "      <td>IGNORADO</td>\n",
              "      <td>MASCULINO</td>\n",
              "      <td>69.0</td>\n",
              "      <td>IGNORADO</td>\n",
              "      <td>ASSIS</td>\n",
              "      <td>IGNORADO</td>\n",
              "      <td>0</td>\n",
              "      <td>IGNORADO</td>\n",
              "      <td>IGNORADO</td>\n",
              "      <td>IGNORADO</td>\n",
              "      <td>IGNORADO</td>\n",
              "    </tr>\n",
              "    <tr>\n",
              "      <th>1</th>\n",
              "      <td>IGNORADO</td>\n",
              "      <td>IGNORADO</td>\n",
              "      <td>21/02/2021</td>\n",
              "      <td>IGNORADO</td>\n",
              "      <td>CONFIRMADO</td>\n",
              "      <td>IGNORADO</td>\n",
              "      <td>IGNORADO</td>\n",
              "      <td>IGNORADO</td>\n",
              "      <td>IGNORADO</td>\n",
              "      <td>FEMININO</td>\n",
              "      <td>60.0</td>\n",
              "      <td>IGNORADO</td>\n",
              "      <td>SÃO PAULO</td>\n",
              "      <td>IGNORADO</td>\n",
              "      <td>0</td>\n",
              "      <td>IGNORADO</td>\n",
              "      <td>IGNORADO</td>\n",
              "      <td>IGNORADO</td>\n",
              "      <td>IGNORADO</td>\n",
              "    </tr>\n",
              "    <tr>\n",
              "      <th>2</th>\n",
              "      <td>IGNORADO</td>\n",
              "      <td>IGNORADO</td>\n",
              "      <td>23/06/2021</td>\n",
              "      <td>IGNORADO</td>\n",
              "      <td>CONFIRMADO</td>\n",
              "      <td>IGNORADO</td>\n",
              "      <td>IGNORADO</td>\n",
              "      <td>IGNORADO</td>\n",
              "      <td>IGNORADO</td>\n",
              "      <td>MASCULINO</td>\n",
              "      <td>58.0</td>\n",
              "      <td>IGNORADO</td>\n",
              "      <td>ARARAQUARA</td>\n",
              "      <td>IGNORADO</td>\n",
              "      <td>0</td>\n",
              "      <td>IGNORADO</td>\n",
              "      <td>IGNORADO</td>\n",
              "      <td>IGNORADO</td>\n",
              "      <td>IGNORADO</td>\n",
              "    </tr>\n",
              "    <tr>\n",
              "      <th>3</th>\n",
              "      <td>IGNORADO</td>\n",
              "      <td>IGNORADO</td>\n",
              "      <td>03/02/2021</td>\n",
              "      <td>IGNORADO</td>\n",
              "      <td>CONFIRMADO</td>\n",
              "      <td>IGNORADO</td>\n",
              "      <td>IGNORADO</td>\n",
              "      <td>IGNORADO</td>\n",
              "      <td>IGNORADO</td>\n",
              "      <td>FEMININO</td>\n",
              "      <td>45.0</td>\n",
              "      <td>IGNORADO</td>\n",
              "      <td>SÃO PAULO</td>\n",
              "      <td>IGNORADO</td>\n",
              "      <td>0</td>\n",
              "      <td>IGNORADO</td>\n",
              "      <td>IGNORADO</td>\n",
              "      <td>IGNORADO</td>\n",
              "      <td>IGNORADO</td>\n",
              "    </tr>\n",
              "    <tr>\n",
              "      <th>4</th>\n",
              "      <td>IGNORADO</td>\n",
              "      <td>IGNORADO</td>\n",
              "      <td>23/02/2021</td>\n",
              "      <td>IGNORADO</td>\n",
              "      <td>CONFIRMADO</td>\n",
              "      <td>IGNORADO</td>\n",
              "      <td>IGNORADO</td>\n",
              "      <td>IGNORADO</td>\n",
              "      <td>IGNORADO</td>\n",
              "      <td>FEMININO</td>\n",
              "      <td>42.0</td>\n",
              "      <td>IGNORADO</td>\n",
              "      <td>SÃO PAULO</td>\n",
              "      <td>IGNORADO</td>\n",
              "      <td>0</td>\n",
              "      <td>IGNORADO</td>\n",
              "      <td>IGNORADO</td>\n",
              "      <td>IGNORADO</td>\n",
              "      <td>IGNORADO</td>\n",
              "    </tr>\n",
              "  </tbody>\n",
              "</table>\n",
              "</div>\n",
              "    <div class=\"colab-df-buttons\">\n",
              "\n",
              "  <div class=\"colab-df-container\">\n",
              "    <button class=\"colab-df-convert\" onclick=\"convertToInteractive('df-1141cef7-ed92-4023-8435-a282773d23c4')\"\n",
              "            title=\"Convert this dataframe to an interactive table.\"\n",
              "            style=\"display:none;\">\n",
              "\n",
              "  <svg xmlns=\"http://www.w3.org/2000/svg\" height=\"24px\" viewBox=\"0 -960 960 960\">\n",
              "    <path d=\"M120-120v-720h720v720H120Zm60-500h600v-160H180v160Zm220 220h160v-160H400v160Zm0 220h160v-160H400v160ZM180-400h160v-160H180v160Zm440 0h160v-160H620v160ZM180-180h160v-160H180v160Zm440 0h160v-160H620v160Z\"/>\n",
              "  </svg>\n",
              "    </button>\n",
              "\n",
              "  <style>\n",
              "    .colab-df-container {\n",
              "      display:flex;\n",
              "      gap: 12px;\n",
              "    }\n",
              "\n",
              "    .colab-df-convert {\n",
              "      background-color: #E8F0FE;\n",
              "      border: none;\n",
              "      border-radius: 50%;\n",
              "      cursor: pointer;\n",
              "      display: none;\n",
              "      fill: #1967D2;\n",
              "      height: 32px;\n",
              "      padding: 0 0 0 0;\n",
              "      width: 32px;\n",
              "    }\n",
              "\n",
              "    .colab-df-convert:hover {\n",
              "      background-color: #E2EBFA;\n",
              "      box-shadow: 0px 1px 2px rgba(60, 64, 67, 0.3), 0px 1px 3px 1px rgba(60, 64, 67, 0.15);\n",
              "      fill: #174EA6;\n",
              "    }\n",
              "\n",
              "    .colab-df-buttons div {\n",
              "      margin-bottom: 4px;\n",
              "    }\n",
              "\n",
              "    [theme=dark] .colab-df-convert {\n",
              "      background-color: #3B4455;\n",
              "      fill: #D2E3FC;\n",
              "    }\n",
              "\n",
              "    [theme=dark] .colab-df-convert:hover {\n",
              "      background-color: #434B5C;\n",
              "      box-shadow: 0px 1px 3px 1px rgba(0, 0, 0, 0.15);\n",
              "      filter: drop-shadow(0px 1px 2px rgba(0, 0, 0, 0.3));\n",
              "      fill: #FFFFFF;\n",
              "    }\n",
              "  </style>\n",
              "\n",
              "    <script>\n",
              "      const buttonEl =\n",
              "        document.querySelector('#df-1141cef7-ed92-4023-8435-a282773d23c4 button.colab-df-convert');\n",
              "      buttonEl.style.display =\n",
              "        google.colab.kernel.accessAllowed ? 'block' : 'none';\n",
              "\n",
              "      async function convertToInteractive(key) {\n",
              "        const element = document.querySelector('#df-1141cef7-ed92-4023-8435-a282773d23c4');\n",
              "        const dataTable =\n",
              "          await google.colab.kernel.invokeFunction('convertToInteractive',\n",
              "                                                    [key], {});\n",
              "        if (!dataTable) return;\n",
              "\n",
              "        const docLinkHtml = 'Like what you see? Visit the ' +\n",
              "          '<a target=\"_blank\" href=https://colab.research.google.com/notebooks/data_table.ipynb>data table notebook</a>'\n",
              "          + ' to learn more about interactive tables.';\n",
              "        element.innerHTML = '';\n",
              "        dataTable['output_type'] = 'display_data';\n",
              "        await google.colab.output.renderOutput(dataTable, element);\n",
              "        const docLink = document.createElement('div');\n",
              "        docLink.innerHTML = docLinkHtml;\n",
              "        element.appendChild(docLink);\n",
              "      }\n",
              "    </script>\n",
              "  </div>\n",
              "\n",
              "\n",
              "<div id=\"df-6cf8632b-f6c7-496d-9783-a3b0cb60f8b1\">\n",
              "  <button class=\"colab-df-quickchart\" onclick=\"quickchart('df-6cf8632b-f6c7-496d-9783-a3b0cb60f8b1')\"\n",
              "            title=\"Suggest charts\"\n",
              "            style=\"display:none;\">\n",
              "\n",
              "<svg xmlns=\"http://www.w3.org/2000/svg\" height=\"24px\"viewBox=\"0 0 24 24\"\n",
              "     width=\"24px\">\n",
              "    <g>\n",
              "        <path d=\"M19 3H5c-1.1 0-2 .9-2 2v14c0 1.1.9 2 2 2h14c1.1 0 2-.9 2-2V5c0-1.1-.9-2-2-2zM9 17H7v-7h2v7zm4 0h-2V7h2v10zm4 0h-2v-4h2v4z\"/>\n",
              "    </g>\n",
              "</svg>\n",
              "  </button>\n",
              "\n",
              "<style>\n",
              "  .colab-df-quickchart {\n",
              "      --bg-color: #E8F0FE;\n",
              "      --fill-color: #1967D2;\n",
              "      --hover-bg-color: #E2EBFA;\n",
              "      --hover-fill-color: #174EA6;\n",
              "      --disabled-fill-color: #AAA;\n",
              "      --disabled-bg-color: #DDD;\n",
              "  }\n",
              "\n",
              "  [theme=dark] .colab-df-quickchart {\n",
              "      --bg-color: #3B4455;\n",
              "      --fill-color: #D2E3FC;\n",
              "      --hover-bg-color: #434B5C;\n",
              "      --hover-fill-color: #FFFFFF;\n",
              "      --disabled-bg-color: #3B4455;\n",
              "      --disabled-fill-color: #666;\n",
              "  }\n",
              "\n",
              "  .colab-df-quickchart {\n",
              "    background-color: var(--bg-color);\n",
              "    border: none;\n",
              "    border-radius: 50%;\n",
              "    cursor: pointer;\n",
              "    display: none;\n",
              "    fill: var(--fill-color);\n",
              "    height: 32px;\n",
              "    padding: 0;\n",
              "    width: 32px;\n",
              "  }\n",
              "\n",
              "  .colab-df-quickchart:hover {\n",
              "    background-color: var(--hover-bg-color);\n",
              "    box-shadow: 0 1px 2px rgba(60, 64, 67, 0.3), 0 1px 3px 1px rgba(60, 64, 67, 0.15);\n",
              "    fill: var(--button-hover-fill-color);\n",
              "  }\n",
              "\n",
              "  .colab-df-quickchart-complete:disabled,\n",
              "  .colab-df-quickchart-complete:disabled:hover {\n",
              "    background-color: var(--disabled-bg-color);\n",
              "    fill: var(--disabled-fill-color);\n",
              "    box-shadow: none;\n",
              "  }\n",
              "\n",
              "  .colab-df-spinner {\n",
              "    border: 2px solid var(--fill-color);\n",
              "    border-color: transparent;\n",
              "    border-bottom-color: var(--fill-color);\n",
              "    animation:\n",
              "      spin 1s steps(1) infinite;\n",
              "  }\n",
              "\n",
              "  @keyframes spin {\n",
              "    0% {\n",
              "      border-color: transparent;\n",
              "      border-bottom-color: var(--fill-color);\n",
              "      border-left-color: var(--fill-color);\n",
              "    }\n",
              "    20% {\n",
              "      border-color: transparent;\n",
              "      border-left-color: var(--fill-color);\n",
              "      border-top-color: var(--fill-color);\n",
              "    }\n",
              "    30% {\n",
              "      border-color: transparent;\n",
              "      border-left-color: var(--fill-color);\n",
              "      border-top-color: var(--fill-color);\n",
              "      border-right-color: var(--fill-color);\n",
              "    }\n",
              "    40% {\n",
              "      border-color: transparent;\n",
              "      border-right-color: var(--fill-color);\n",
              "      border-top-color: var(--fill-color);\n",
              "    }\n",
              "    60% {\n",
              "      border-color: transparent;\n",
              "      border-right-color: var(--fill-color);\n",
              "    }\n",
              "    80% {\n",
              "      border-color: transparent;\n",
              "      border-right-color: var(--fill-color);\n",
              "      border-bottom-color: var(--fill-color);\n",
              "    }\n",
              "    90% {\n",
              "      border-color: transparent;\n",
              "      border-bottom-color: var(--fill-color);\n",
              "    }\n",
              "  }\n",
              "</style>\n",
              "\n",
              "  <script>\n",
              "    async function quickchart(key) {\n",
              "      const quickchartButtonEl =\n",
              "        document.querySelector('#' + key + ' button');\n",
              "      quickchartButtonEl.disabled = true;  // To prevent multiple clicks.\n",
              "      quickchartButtonEl.classList.add('colab-df-spinner');\n",
              "      try {\n",
              "        const charts = await google.colab.kernel.invokeFunction(\n",
              "            'suggestCharts', [key], {});\n",
              "      } catch (error) {\n",
              "        console.error('Error during call to suggestCharts:', error);\n",
              "      }\n",
              "      quickchartButtonEl.classList.remove('colab-df-spinner');\n",
              "      quickchartButtonEl.classList.add('colab-df-quickchart-complete');\n",
              "    }\n",
              "    (() => {\n",
              "      let quickchartButtonEl =\n",
              "        document.querySelector('#df-6cf8632b-f6c7-496d-9783-a3b0cb60f8b1 button');\n",
              "      quickchartButtonEl.style.display =\n",
              "        google.colab.kernel.accessAllowed ? 'block' : 'none';\n",
              "    })();\n",
              "  </script>\n",
              "</div>\n",
              "\n",
              "    </div>\n",
              "  </div>\n"
            ],
            "application/vnd.google.colaboratory.intrinsic+json": {
              "type": "dataframe",
              "variable_name": "exercicio_4"
            }
          },
          "metadata": {},
          "execution_count": 5
        }
      ]
    },
    {
      "cell_type": "code",
      "source": [
        "exercicio_4.shape"
      ],
      "metadata": {
        "colab": {
          "base_uri": "https://localhost:8080/"
        },
        "id": "WsbrfqyimEkq",
        "outputId": "4fcbbce1-9bd2-4968-8041-8f458cfb6212"
      },
      "execution_count": 6,
      "outputs": [
        {
          "output_type": "execute_result",
          "data": {
            "text/plain": [
              "(6770928, 19)"
            ]
          },
          "metadata": {},
          "execution_count": 6
        }
      ]
    },
    {
      "cell_type": "code",
      "source": [
        "exercicio_4.isna().sum()"
      ],
      "metadata": {
        "colab": {
          "base_uri": "https://localhost:8080/"
        },
        "id": "97t1NCmKmHBi",
        "outputId": "92e7312f-2f27-4888-b66c-5f18621257b1"
      },
      "execution_count": 7,
      "outputs": [
        {
          "output_type": "execute_result",
          "data": {
            "text/plain": [
              "Asma                            0\n",
              "Cardiopatia                     0\n",
              "Data_Inicio_Sintomas       244724\n",
              "Diabetes                        0\n",
              "Diagnostico_Covid19             0\n",
              "Doenca_Hematologica             0\n",
              "Doenca_Hepatica                 0\n",
              "Doenca_Neurologica              0\n",
              "Doenca Renal                    0\n",
              "Genero                          1\n",
              "Idade                      221457\n",
              "Imunodepressao                  0\n",
              "Municipio                       0\n",
              "Obesidade                       0\n",
              "Obito                           0\n",
              "Outros_Fatores_De_Risco         0\n",
              "Pneumopatia                     0\n",
              "Puérpera                        0\n",
              "Síndrome_De_Down                0\n",
              "dtype: int64"
            ]
          },
          "metadata": {},
          "execution_count": 7
        }
      ]
    },
    {
      "cell_type": "code",
      "source": [
        "# Resumo estatístico da coluna 'Idade'\n",
        "resumo_estatistico = exercicio_4['Idade'].value_counts().sort_index()\n",
        "\n",
        "# Salvando o resumo estatístico em um arquivo de texto\n",
        "with open('/content/drive/MyDrive/Absolute/resumo_estatistico_idade.txt', 'w') as f:\n",
        "    f.write(resumo_estatistico.to_string())"
      ],
      "metadata": {
        "id": "pKjqGPsvm6kr"
      },
      "execution_count": 31,
      "outputs": []
    },
    {
      "cell_type": "code",
      "source": [
        "print(exercicio_4['Idade'].max())\n",
        "print(exercicio_4['Idade'].min())"
      ],
      "metadata": {
        "colab": {
          "base_uri": "https://localhost:8080/"
        },
        "id": "eaImHN4Am7oz",
        "outputId": "a48c96fb-a08d-44eb-daa0-09e51e71d8f4"
      },
      "execution_count": 33,
      "outputs": [
        {
          "output_type": "stream",
          "name": "stdout",
          "text": [
            "2188.0\n",
            "0.0\n"
          ]
        }
      ]
    },
    {
      "cell_type": "markdown",
      "source": [
        "## 4.1 - Tratamento da Coluna \"Idade\" e \"Genero\" removendo as linhas NaN e outliers."
      ],
      "metadata": {
        "id": "2ZODsY7KmMrd"
      }
    },
    {
      "cell_type": "code",
      "source": [
        "def tratamento_coluna_idade_genero(df_dados):\n",
        "\n",
        "    # Realizar o tratamento de excluir as linhas que são vazias na coluna 'Idade'\n",
        "    try:\n",
        "        # Verificar se a coluna 'Idade' existe no DataFrame\n",
        "        if 'Idade' not in df_dados.columns or 'Genero' not in df_dados.columns:\n",
        "            raise KeyError(\"A coluna 'Idade' e/ou 'Genero' não existe no DataFrame.\")\n",
        "\n",
        "        # Excluir linhas com NaN nas colunas 'Idade' e 'Genero'\n",
        "        df_dados = df_dados.dropna(subset=['Idade', 'Genero']).reset_index(drop=True)\n",
        "\n",
        "        # Excluir linhas onde o valor na coluna 'Idade' é maior que 150\n",
        "        df_dados = df_dados[df_dados['Idade'] <= 150].reset_index(drop=True)\n",
        "\n",
        "    except KeyError as e:\n",
        "        print(f\"Erro de chave: {e}\")\n",
        "    except Exception as e:\n",
        "        print(f\"Ocorreu um erro ao realizar o tratamento dos dados: {e}\")\n",
        "\n",
        "    return df_dados"
      ],
      "metadata": {
        "id": "3QCKfv7omMEb"
      },
      "execution_count": 34,
      "outputs": []
    },
    {
      "cell_type": "code",
      "source": [
        "novo_exercicio_4 = tratamento_coluna_idade_genero(df_dados= exercicio_4)"
      ],
      "metadata": {
        "id": "9xXk5cFImJ_K"
      },
      "execution_count": 35,
      "outputs": []
    },
    {
      "cell_type": "code",
      "source": [
        "novo_exercicio_4.isna().sum()"
      ],
      "metadata": {
        "colab": {
          "base_uri": "https://localhost:8080/"
        },
        "id": "_BmCtmbqmVIU",
        "outputId": "2390e898-dc2b-405b-893a-af6abc1090b1"
      },
      "execution_count": 36,
      "outputs": [
        {
          "output_type": "execute_result",
          "data": {
            "text/plain": [
              "Asma                           0\n",
              "Cardiopatia                    0\n",
              "Data_Inicio_Sintomas       30310\n",
              "Diabetes                       0\n",
              "Diagnostico_Covid19            0\n",
              "Doenca_Hematologica            0\n",
              "Doenca_Hepatica                0\n",
              "Doenca_Neurologica             0\n",
              "Doenca Renal                   0\n",
              "Genero                         0\n",
              "Idade                          0\n",
              "Imunodepressao                 0\n",
              "Municipio                      0\n",
              "Obesidade                      0\n",
              "Obito                          0\n",
              "Outros_Fatores_De_Risco        0\n",
              "Pneumopatia                    0\n",
              "Puérpera                       0\n",
              "Síndrome_De_Down               0\n",
              "dtype: int64"
            ]
          },
          "metadata": {},
          "execution_count": 36
        }
      ]
    },
    {
      "cell_type": "code",
      "source": [
        "novo_exercicio_4.shape"
      ],
      "metadata": {
        "colab": {
          "base_uri": "https://localhost:8080/"
        },
        "id": "Jg1H9iCZmZhB",
        "outputId": "36300311-7706-4013-bc42-f854bef26f2f"
      },
      "execution_count": 37,
      "outputs": [
        {
          "output_type": "execute_result",
          "data": {
            "text/plain": [
              "(6549469, 19)"
            ]
          },
          "metadata": {},
          "execution_count": 37
        }
      ]
    },
    {
      "cell_type": "code",
      "source": [
        "novo_exercicio_4.columns"
      ],
      "metadata": {
        "colab": {
          "base_uri": "https://localhost:8080/"
        },
        "id": "vlmGgAHzmapa",
        "outputId": "09569aa7-4dfe-44c9-e862-60577e0cb31d"
      },
      "execution_count": 38,
      "outputs": [
        {
          "output_type": "execute_result",
          "data": {
            "text/plain": [
              "Index(['Asma', 'Cardiopatia', 'Data_Inicio_Sintomas', 'Diabetes',\n",
              "       'Diagnostico_Covid19', 'Doenca_Hematologica', 'Doenca_Hepatica',\n",
              "       'Doenca_Neurologica', 'Doenca Renal', 'Genero', 'Idade',\n",
              "       'Imunodepressao', 'Municipio', 'Obesidade', 'Obito',\n",
              "       'Outros_Fatores_De_Risco', 'Pneumopatia', 'Puérpera',\n",
              "       'Síndrome_De_Down'],\n",
              "      dtype='object')"
            ]
          },
          "metadata": {},
          "execution_count": 38
        }
      ]
    },
    {
      "cell_type": "markdown",
      "source": [
        "## 4.2 - Tratamento das Colunas Normalizando os dados."
      ],
      "metadata": {
        "id": "MVPLHNPemfTz"
      }
    },
    {
      "cell_type": "markdown",
      "source": [
        "Irei normalizar os dados tanto referentes às colunas \"Genero\", \"Idade\" e as doenças pré-existentes.\n",
        "<p>Além disso, irei excluir as colunas a não serem usadas para facilitar o manejo dos dados."
      ],
      "metadata": {
        "id": "dabs2FELmhzq"
      }
    },
    {
      "cell_type": "markdown",
      "source": [
        "Normalizção a ser usada nas doenças pré-existentes: **'IGNORADO': 0, 'NÃO': 0, 'SIM': 1**\n"
      ],
      "metadata": {
        "id": "59RHnu0smkoy"
      }
    },
    {
      "cell_type": "code",
      "source": [
        "novo_exercicio_4['Asma'].value_counts()"
      ],
      "metadata": {
        "colab": {
          "base_uri": "https://localhost:8080/"
        },
        "id": "8_jTUDuQmc46",
        "outputId": "b40793f7-62a8-4c29-e0c3-d44293f780a5"
      },
      "execution_count": 39,
      "outputs": [
        {
          "output_type": "execute_result",
          "data": {
            "text/plain": [
              "Asma\n",
              "IGNORADO    6313091\n",
              "NÃO          219964\n",
              "SIM           16414\n",
              "Name: count, dtype: int64"
            ]
          },
          "metadata": {},
          "execution_count": 39
        }
      ]
    },
    {
      "cell_type": "code",
      "source": [
        "novo_exercicio_4['Genero'].value_counts()"
      ],
      "metadata": {
        "colab": {
          "base_uri": "https://localhost:8080/"
        },
        "id": "seqxjAbrmnPL",
        "outputId": "174413c1-b70f-43d2-806f-09b17ce8b0f0"
      },
      "execution_count": 40,
      "outputs": [
        {
          "output_type": "execute_result",
          "data": {
            "text/plain": [
              "Genero\n",
              "FEMININO      3595411\n",
              "MASCULINO     2951199\n",
              "INDEFINIDO       2851\n",
              "IGNORADO            8\n",
              "Name: count, dtype: int64"
            ]
          },
          "metadata": {},
          "execution_count": 40
        }
      ]
    },
    {
      "cell_type": "code",
      "source": [
        "novo_exercicio_4['Outros_Fatores_De_Risco'].value_counts()"
      ],
      "metadata": {
        "colab": {
          "base_uri": "https://localhost:8080/"
        },
        "id": "TmP8joSduu0v",
        "outputId": "1df3779e-d46c-4a5f-f11a-be5b736d73fa"
      },
      "execution_count": 41,
      "outputs": [
        {
          "output_type": "execute_result",
          "data": {
            "text/plain": [
              "Outros_Fatores_De_Risco\n",
              "IGNORADO    6266700\n",
              "SIM          154341\n",
              "NÃO          128428\n",
              "Name: count, dtype: int64"
            ]
          },
          "metadata": {},
          "execution_count": 41
        }
      ]
    },
    {
      "cell_type": "code",
      "source": [
        "novo_exercicio_4['Idade'].describe()"
      ],
      "metadata": {
        "colab": {
          "base_uri": "https://localhost:8080/"
        },
        "id": "juofjLdFkE0b",
        "outputId": "9914500c-9e60-40a0-f069-d808adb9c0ac"
      },
      "execution_count": 42,
      "outputs": [
        {
          "output_type": "execute_result",
          "data": {
            "text/plain": [
              "count    6.549469e+06\n",
              "mean     4.108880e+01\n",
              "std      1.846766e+01\n",
              "min      0.000000e+00\n",
              "25%      2.800000e+01\n",
              "50%      4.000000e+01\n",
              "75%      5.400000e+01\n",
              "max      1.360000e+02\n",
              "Name: Idade, dtype: float64"
            ]
          },
          "metadata": {},
          "execution_count": 42
        }
      ]
    },
    {
      "cell_type": "code",
      "source": [
        "print(novo_exercicio_4['Idade'].max())\n",
        "print(novo_exercicio_4['Idade'].min())"
      ],
      "metadata": {
        "colab": {
          "base_uri": "https://localhost:8080/"
        },
        "id": "a-otS_Ekja_J",
        "outputId": "6c49e7f8-7037-4a11-e1cf-9c55e5dc76c1"
      },
      "execution_count": 43,
      "outputs": [
        {
          "output_type": "stream",
          "name": "stdout",
          "text": [
            "136.0\n",
            "0.0\n"
          ]
        }
      ]
    },
    {
      "cell_type": "markdown",
      "source": [
        "Na coluna **\"Genero\"** usaremos o método **One-Hot Encoding** com o objetivo de manter as informações."
      ],
      "metadata": {
        "id": "1Or9Jmn7muTL"
      }
    },
    {
      "cell_type": "markdown",
      "source": [
        "Na coluna **\"Idade\"** usaremos o método **MinMaxScaler** com o objetivo de normalizar as informações no intervalo entre 0 e 1."
      ],
      "metadata": {
        "id": "m2szo3kGmx3K"
      }
    },
    {
      "cell_type": "code",
      "source": [
        "def min_max_scaling(data):\n",
        "    min_value = min(data)\n",
        "    max_value = max(data)\n",
        "    scaled_data = [(x - min_value) / (max_value - min_value) for x in data]\n",
        "    return scaled_data\n",
        "\n",
        "def tratamento_normalizacao(df_dados):\n",
        "    try:\n",
        "        df_dados = df_dados.copy()\n",
        "\n",
        "        # Remover colunas irrelevantes\n",
        "        df_dados = df_dados.drop(['Data_Inicio_Sintomas', 'Municipio', 'Diagnostico_Covid19'], axis=1)\n",
        "\n",
        "        # Listar todas as colunas de doenças.\n",
        "        colunas_doencas = [\n",
        "            'Asma', 'Cardiopatia', 'Diabetes', 'Doenca_Hematologica', 'Doenca_Hepatica',\n",
        "            'Doenca_Neurologica', 'Doenca Renal', 'Imunodepressao', 'Obesidade',\n",
        "            'Pneumopatia', 'Puérpera', 'Síndrome_De_Down', 'Outros_Fatores_De_Risco'\n",
        "        ]\n",
        "\n",
        "        # Verificar se todas as colunas de doenças existem no DataFrame.\n",
        "        for coluna in colunas_doencas:\n",
        "            if coluna not in df_dados.columns:\n",
        "                raise KeyError(f\"A coluna '{coluna}' não existe no DataFrame.\")\n",
        "\n",
        "        # Tratar valores \"IGNORADO\", \"NÃO\" e \"SIM\" nas colunas de doenças.\n",
        "        for coluna in colunas_doencas:\n",
        "            df_dados[coluna] = df_dados[coluna].astype(str)\n",
        "            df_dados[coluna] = df_dados[coluna].str.strip().str.upper()\n",
        "            df_dados[coluna] = df_dados[coluna].replace({'IGNORADO': 0, 'NÃO': 0, 'SIM': 1})\n",
        "\n",
        "        # Normalizar os valores na coluna 'Genero'.\n",
        "        df_dados['Genero'] = df_dados['Genero'].astype(str)\n",
        "        df_dados['Genero'] = df_dados['Genero'].str.strip().str.upper()\n",
        "\n",
        "        # Certificar que valores de 'Genero' sejam strings categóricas\n",
        "        df_dados['Genero'] = df_dados['Genero'].astype('category')\n",
        "\n",
        "        # Aplicar one-hot encoding.\n",
        "        df_dados = pd.get_dummies(df_dados, columns=['Genero'], prefix='Genero', dtype=int)\n",
        "\n",
        "        # Tratar idades.\n",
        "        idade_data = df_dados['Idade'].values.tolist()\n",
        "        df_dados['Idade'] = min_max_scaling(idade_data)\n",
        "\n",
        "        return df_dados\n",
        "\n",
        "    except KeyError as e:\n",
        "        print(f\"Erro de chave: {e}\")\n",
        "        return None\n",
        "\n",
        "    except Exception as e:\n",
        "        print(f\"Ocorreu um erro no tratamento de normalização: {e}\")\n",
        "        return None"
      ],
      "metadata": {
        "id": "XBLj6xcxmq7D"
      },
      "execution_count": 44,
      "outputs": []
    },
    {
      "cell_type": "code",
      "source": [
        "dados_tratados_4 = tratamento_normalizacao(df_dados=novo_exercicio_4)"
      ],
      "metadata": {
        "id": "xtmImp2gm1yy"
      },
      "execution_count": 45,
      "outputs": []
    },
    {
      "cell_type": "code",
      "source": [
        "dados_tratados_4.head()"
      ],
      "metadata": {
        "colab": {
          "base_uri": "https://localhost:8080/",
          "height": 243
        },
        "id": "fjZbTsd6rFyI",
        "outputId": "0496bd31-fcd3-4797-b673-9df02691c7b5"
      },
      "execution_count": 46,
      "outputs": [
        {
          "output_type": "execute_result",
          "data": {
            "text/plain": [
              "   Asma  Cardiopatia  Diabetes  Doenca_Hematologica  Doenca_Hepatica  \\\n",
              "0     0            0         0                    0                0   \n",
              "1     0            0         0                    0                0   \n",
              "2     0            0         0                    0                0   \n",
              "3     0            0         0                    0                0   \n",
              "4     0            0         0                    0                0   \n",
              "\n",
              "   Doenca_Neurologica  Doenca Renal     Idade  Imunodepressao  Obesidade  \\\n",
              "0                   0             0  0.507353               0          0   \n",
              "1                   0             0  0.441176               0          0   \n",
              "2                   0             0  0.426471               0          0   \n",
              "3                   0             0  0.330882               0          0   \n",
              "4                   0             0  0.308824               0          0   \n",
              "\n",
              "   Obito  Outros_Fatores_De_Risco  Pneumopatia  Puérpera  Síndrome_De_Down  \\\n",
              "0      0                        0            0         0                 0   \n",
              "1      0                        0            0         0                 0   \n",
              "2      0                        0            0         0                 0   \n",
              "3      0                        0            0         0                 0   \n",
              "4      0                        0            0         0                 0   \n",
              "\n",
              "   Genero_FEMININO  Genero_IGNORADO  Genero_INDEFINIDO  Genero_MASCULINO  \n",
              "0                0                0                  0                 1  \n",
              "1                1                0                  0                 0  \n",
              "2                0                0                  0                 1  \n",
              "3                1                0                  0                 0  \n",
              "4                1                0                  0                 0  "
            ],
            "text/html": [
              "\n",
              "  <div id=\"df-ad4ea100-db60-4346-9466-a030a2776f76\" class=\"colab-df-container\">\n",
              "    <div>\n",
              "<style scoped>\n",
              "    .dataframe tbody tr th:only-of-type {\n",
              "        vertical-align: middle;\n",
              "    }\n",
              "\n",
              "    .dataframe tbody tr th {\n",
              "        vertical-align: top;\n",
              "    }\n",
              "\n",
              "    .dataframe thead th {\n",
              "        text-align: right;\n",
              "    }\n",
              "</style>\n",
              "<table border=\"1\" class=\"dataframe\">\n",
              "  <thead>\n",
              "    <tr style=\"text-align: right;\">\n",
              "      <th></th>\n",
              "      <th>Asma</th>\n",
              "      <th>Cardiopatia</th>\n",
              "      <th>Diabetes</th>\n",
              "      <th>Doenca_Hematologica</th>\n",
              "      <th>Doenca_Hepatica</th>\n",
              "      <th>Doenca_Neurologica</th>\n",
              "      <th>Doenca Renal</th>\n",
              "      <th>Idade</th>\n",
              "      <th>Imunodepressao</th>\n",
              "      <th>Obesidade</th>\n",
              "      <th>Obito</th>\n",
              "      <th>Outros_Fatores_De_Risco</th>\n",
              "      <th>Pneumopatia</th>\n",
              "      <th>Puérpera</th>\n",
              "      <th>Síndrome_De_Down</th>\n",
              "      <th>Genero_FEMININO</th>\n",
              "      <th>Genero_IGNORADO</th>\n",
              "      <th>Genero_INDEFINIDO</th>\n",
              "      <th>Genero_MASCULINO</th>\n",
              "    </tr>\n",
              "  </thead>\n",
              "  <tbody>\n",
              "    <tr>\n",
              "      <th>0</th>\n",
              "      <td>0</td>\n",
              "      <td>0</td>\n",
              "      <td>0</td>\n",
              "      <td>0</td>\n",
              "      <td>0</td>\n",
              "      <td>0</td>\n",
              "      <td>0</td>\n",
              "      <td>0.507353</td>\n",
              "      <td>0</td>\n",
              "      <td>0</td>\n",
              "      <td>0</td>\n",
              "      <td>0</td>\n",
              "      <td>0</td>\n",
              "      <td>0</td>\n",
              "      <td>0</td>\n",
              "      <td>0</td>\n",
              "      <td>0</td>\n",
              "      <td>0</td>\n",
              "      <td>1</td>\n",
              "    </tr>\n",
              "    <tr>\n",
              "      <th>1</th>\n",
              "      <td>0</td>\n",
              "      <td>0</td>\n",
              "      <td>0</td>\n",
              "      <td>0</td>\n",
              "      <td>0</td>\n",
              "      <td>0</td>\n",
              "      <td>0</td>\n",
              "      <td>0.441176</td>\n",
              "      <td>0</td>\n",
              "      <td>0</td>\n",
              "      <td>0</td>\n",
              "      <td>0</td>\n",
              "      <td>0</td>\n",
              "      <td>0</td>\n",
              "      <td>0</td>\n",
              "      <td>1</td>\n",
              "      <td>0</td>\n",
              "      <td>0</td>\n",
              "      <td>0</td>\n",
              "    </tr>\n",
              "    <tr>\n",
              "      <th>2</th>\n",
              "      <td>0</td>\n",
              "      <td>0</td>\n",
              "      <td>0</td>\n",
              "      <td>0</td>\n",
              "      <td>0</td>\n",
              "      <td>0</td>\n",
              "      <td>0</td>\n",
              "      <td>0.426471</td>\n",
              "      <td>0</td>\n",
              "      <td>0</td>\n",
              "      <td>0</td>\n",
              "      <td>0</td>\n",
              "      <td>0</td>\n",
              "      <td>0</td>\n",
              "      <td>0</td>\n",
              "      <td>0</td>\n",
              "      <td>0</td>\n",
              "      <td>0</td>\n",
              "      <td>1</td>\n",
              "    </tr>\n",
              "    <tr>\n",
              "      <th>3</th>\n",
              "      <td>0</td>\n",
              "      <td>0</td>\n",
              "      <td>0</td>\n",
              "      <td>0</td>\n",
              "      <td>0</td>\n",
              "      <td>0</td>\n",
              "      <td>0</td>\n",
              "      <td>0.330882</td>\n",
              "      <td>0</td>\n",
              "      <td>0</td>\n",
              "      <td>0</td>\n",
              "      <td>0</td>\n",
              "      <td>0</td>\n",
              "      <td>0</td>\n",
              "      <td>0</td>\n",
              "      <td>1</td>\n",
              "      <td>0</td>\n",
              "      <td>0</td>\n",
              "      <td>0</td>\n",
              "    </tr>\n",
              "    <tr>\n",
              "      <th>4</th>\n",
              "      <td>0</td>\n",
              "      <td>0</td>\n",
              "      <td>0</td>\n",
              "      <td>0</td>\n",
              "      <td>0</td>\n",
              "      <td>0</td>\n",
              "      <td>0</td>\n",
              "      <td>0.308824</td>\n",
              "      <td>0</td>\n",
              "      <td>0</td>\n",
              "      <td>0</td>\n",
              "      <td>0</td>\n",
              "      <td>0</td>\n",
              "      <td>0</td>\n",
              "      <td>0</td>\n",
              "      <td>1</td>\n",
              "      <td>0</td>\n",
              "      <td>0</td>\n",
              "      <td>0</td>\n",
              "    </tr>\n",
              "  </tbody>\n",
              "</table>\n",
              "</div>\n",
              "    <div class=\"colab-df-buttons\">\n",
              "\n",
              "  <div class=\"colab-df-container\">\n",
              "    <button class=\"colab-df-convert\" onclick=\"convertToInteractive('df-ad4ea100-db60-4346-9466-a030a2776f76')\"\n",
              "            title=\"Convert this dataframe to an interactive table.\"\n",
              "            style=\"display:none;\">\n",
              "\n",
              "  <svg xmlns=\"http://www.w3.org/2000/svg\" height=\"24px\" viewBox=\"0 -960 960 960\">\n",
              "    <path d=\"M120-120v-720h720v720H120Zm60-500h600v-160H180v160Zm220 220h160v-160H400v160Zm0 220h160v-160H400v160ZM180-400h160v-160H180v160Zm440 0h160v-160H620v160ZM180-180h160v-160H180v160Zm440 0h160v-160H620v160Z\"/>\n",
              "  </svg>\n",
              "    </button>\n",
              "\n",
              "  <style>\n",
              "    .colab-df-container {\n",
              "      display:flex;\n",
              "      gap: 12px;\n",
              "    }\n",
              "\n",
              "    .colab-df-convert {\n",
              "      background-color: #E8F0FE;\n",
              "      border: none;\n",
              "      border-radius: 50%;\n",
              "      cursor: pointer;\n",
              "      display: none;\n",
              "      fill: #1967D2;\n",
              "      height: 32px;\n",
              "      padding: 0 0 0 0;\n",
              "      width: 32px;\n",
              "    }\n",
              "\n",
              "    .colab-df-convert:hover {\n",
              "      background-color: #E2EBFA;\n",
              "      box-shadow: 0px 1px 2px rgba(60, 64, 67, 0.3), 0px 1px 3px 1px rgba(60, 64, 67, 0.15);\n",
              "      fill: #174EA6;\n",
              "    }\n",
              "\n",
              "    .colab-df-buttons div {\n",
              "      margin-bottom: 4px;\n",
              "    }\n",
              "\n",
              "    [theme=dark] .colab-df-convert {\n",
              "      background-color: #3B4455;\n",
              "      fill: #D2E3FC;\n",
              "    }\n",
              "\n",
              "    [theme=dark] .colab-df-convert:hover {\n",
              "      background-color: #434B5C;\n",
              "      box-shadow: 0px 1px 3px 1px rgba(0, 0, 0, 0.15);\n",
              "      filter: drop-shadow(0px 1px 2px rgba(0, 0, 0, 0.3));\n",
              "      fill: #FFFFFF;\n",
              "    }\n",
              "  </style>\n",
              "\n",
              "    <script>\n",
              "      const buttonEl =\n",
              "        document.querySelector('#df-ad4ea100-db60-4346-9466-a030a2776f76 button.colab-df-convert');\n",
              "      buttonEl.style.display =\n",
              "        google.colab.kernel.accessAllowed ? 'block' : 'none';\n",
              "\n",
              "      async function convertToInteractive(key) {\n",
              "        const element = document.querySelector('#df-ad4ea100-db60-4346-9466-a030a2776f76');\n",
              "        const dataTable =\n",
              "          await google.colab.kernel.invokeFunction('convertToInteractive',\n",
              "                                                    [key], {});\n",
              "        if (!dataTable) return;\n",
              "\n",
              "        const docLinkHtml = 'Like what you see? Visit the ' +\n",
              "          '<a target=\"_blank\" href=https://colab.research.google.com/notebooks/data_table.ipynb>data table notebook</a>'\n",
              "          + ' to learn more about interactive tables.';\n",
              "        element.innerHTML = '';\n",
              "        dataTable['output_type'] = 'display_data';\n",
              "        await google.colab.output.renderOutput(dataTable, element);\n",
              "        const docLink = document.createElement('div');\n",
              "        docLink.innerHTML = docLinkHtml;\n",
              "        element.appendChild(docLink);\n",
              "      }\n",
              "    </script>\n",
              "  </div>\n",
              "\n",
              "\n",
              "<div id=\"df-1c9e041a-4646-4136-969f-a006494be51e\">\n",
              "  <button class=\"colab-df-quickchart\" onclick=\"quickchart('df-1c9e041a-4646-4136-969f-a006494be51e')\"\n",
              "            title=\"Suggest charts\"\n",
              "            style=\"display:none;\">\n",
              "\n",
              "<svg xmlns=\"http://www.w3.org/2000/svg\" height=\"24px\"viewBox=\"0 0 24 24\"\n",
              "     width=\"24px\">\n",
              "    <g>\n",
              "        <path d=\"M19 3H5c-1.1 0-2 .9-2 2v14c0 1.1.9 2 2 2h14c1.1 0 2-.9 2-2V5c0-1.1-.9-2-2-2zM9 17H7v-7h2v7zm4 0h-2V7h2v10zm4 0h-2v-4h2v4z\"/>\n",
              "    </g>\n",
              "</svg>\n",
              "  </button>\n",
              "\n",
              "<style>\n",
              "  .colab-df-quickchart {\n",
              "      --bg-color: #E8F0FE;\n",
              "      --fill-color: #1967D2;\n",
              "      --hover-bg-color: #E2EBFA;\n",
              "      --hover-fill-color: #174EA6;\n",
              "      --disabled-fill-color: #AAA;\n",
              "      --disabled-bg-color: #DDD;\n",
              "  }\n",
              "\n",
              "  [theme=dark] .colab-df-quickchart {\n",
              "      --bg-color: #3B4455;\n",
              "      --fill-color: #D2E3FC;\n",
              "      --hover-bg-color: #434B5C;\n",
              "      --hover-fill-color: #FFFFFF;\n",
              "      --disabled-bg-color: #3B4455;\n",
              "      --disabled-fill-color: #666;\n",
              "  }\n",
              "\n",
              "  .colab-df-quickchart {\n",
              "    background-color: var(--bg-color);\n",
              "    border: none;\n",
              "    border-radius: 50%;\n",
              "    cursor: pointer;\n",
              "    display: none;\n",
              "    fill: var(--fill-color);\n",
              "    height: 32px;\n",
              "    padding: 0;\n",
              "    width: 32px;\n",
              "  }\n",
              "\n",
              "  .colab-df-quickchart:hover {\n",
              "    background-color: var(--hover-bg-color);\n",
              "    box-shadow: 0 1px 2px rgba(60, 64, 67, 0.3), 0 1px 3px 1px rgba(60, 64, 67, 0.15);\n",
              "    fill: var(--button-hover-fill-color);\n",
              "  }\n",
              "\n",
              "  .colab-df-quickchart-complete:disabled,\n",
              "  .colab-df-quickchart-complete:disabled:hover {\n",
              "    background-color: var(--disabled-bg-color);\n",
              "    fill: var(--disabled-fill-color);\n",
              "    box-shadow: none;\n",
              "  }\n",
              "\n",
              "  .colab-df-spinner {\n",
              "    border: 2px solid var(--fill-color);\n",
              "    border-color: transparent;\n",
              "    border-bottom-color: var(--fill-color);\n",
              "    animation:\n",
              "      spin 1s steps(1) infinite;\n",
              "  }\n",
              "\n",
              "  @keyframes spin {\n",
              "    0% {\n",
              "      border-color: transparent;\n",
              "      border-bottom-color: var(--fill-color);\n",
              "      border-left-color: var(--fill-color);\n",
              "    }\n",
              "    20% {\n",
              "      border-color: transparent;\n",
              "      border-left-color: var(--fill-color);\n",
              "      border-top-color: var(--fill-color);\n",
              "    }\n",
              "    30% {\n",
              "      border-color: transparent;\n",
              "      border-left-color: var(--fill-color);\n",
              "      border-top-color: var(--fill-color);\n",
              "      border-right-color: var(--fill-color);\n",
              "    }\n",
              "    40% {\n",
              "      border-color: transparent;\n",
              "      border-right-color: var(--fill-color);\n",
              "      border-top-color: var(--fill-color);\n",
              "    }\n",
              "    60% {\n",
              "      border-color: transparent;\n",
              "      border-right-color: var(--fill-color);\n",
              "    }\n",
              "    80% {\n",
              "      border-color: transparent;\n",
              "      border-right-color: var(--fill-color);\n",
              "      border-bottom-color: var(--fill-color);\n",
              "    }\n",
              "    90% {\n",
              "      border-color: transparent;\n",
              "      border-bottom-color: var(--fill-color);\n",
              "    }\n",
              "  }\n",
              "</style>\n",
              "\n",
              "  <script>\n",
              "    async function quickchart(key) {\n",
              "      const quickchartButtonEl =\n",
              "        document.querySelector('#' + key + ' button');\n",
              "      quickchartButtonEl.disabled = true;  // To prevent multiple clicks.\n",
              "      quickchartButtonEl.classList.add('colab-df-spinner');\n",
              "      try {\n",
              "        const charts = await google.colab.kernel.invokeFunction(\n",
              "            'suggestCharts', [key], {});\n",
              "      } catch (error) {\n",
              "        console.error('Error during call to suggestCharts:', error);\n",
              "      }\n",
              "      quickchartButtonEl.classList.remove('colab-df-spinner');\n",
              "      quickchartButtonEl.classList.add('colab-df-quickchart-complete');\n",
              "    }\n",
              "    (() => {\n",
              "      let quickchartButtonEl =\n",
              "        document.querySelector('#df-1c9e041a-4646-4136-969f-a006494be51e button');\n",
              "      quickchartButtonEl.style.display =\n",
              "        google.colab.kernel.accessAllowed ? 'block' : 'none';\n",
              "    })();\n",
              "  </script>\n",
              "</div>\n",
              "\n",
              "    </div>\n",
              "  </div>\n"
            ],
            "application/vnd.google.colaboratory.intrinsic+json": {
              "type": "dataframe",
              "variable_name": "dados_tratados_4"
            }
          },
          "metadata": {},
          "execution_count": 46
        }
      ]
    },
    {
      "cell_type": "code",
      "source": [
        "dados_tratados_4.columns"
      ],
      "metadata": {
        "colab": {
          "base_uri": "https://localhost:8080/"
        },
        "id": "iPOkQVqpubkT",
        "outputId": "4fc7031c-0414-46c4-9346-cc3e32eea4ad"
      },
      "execution_count": 47,
      "outputs": [
        {
          "output_type": "execute_result",
          "data": {
            "text/plain": [
              "Index(['Asma', 'Cardiopatia', 'Diabetes', 'Doenca_Hematologica',\n",
              "       'Doenca_Hepatica', 'Doenca_Neurologica', 'Doenca Renal', 'Idade',\n",
              "       'Imunodepressao', 'Obesidade', 'Obito', 'Outros_Fatores_De_Risco',\n",
              "       'Pneumopatia', 'Puérpera', 'Síndrome_De_Down', 'Genero_FEMININO',\n",
              "       'Genero_IGNORADO', 'Genero_INDEFINIDO', 'Genero_MASCULINO'],\n",
              "      dtype='object')"
            ]
          },
          "metadata": {},
          "execution_count": 47
        }
      ]
    },
    {
      "cell_type": "code",
      "source": [
        "dados_tratados_4.shape"
      ],
      "metadata": {
        "colab": {
          "base_uri": "https://localhost:8080/"
        },
        "id": "jhiebT26ufov",
        "outputId": "d7f8f55c-55b3-45ab-8063-7dc22dc41f98"
      },
      "execution_count": 48,
      "outputs": [
        {
          "output_type": "execute_result",
          "data": {
            "text/plain": [
              "(6549469, 19)"
            ]
          },
          "metadata": {},
          "execution_count": 48
        }
      ]
    },
    {
      "cell_type": "code",
      "source": [
        "dados_tratados_4['Genero_FEMININO'].value_counts()"
      ],
      "metadata": {
        "colab": {
          "base_uri": "https://localhost:8080/"
        },
        "id": "cEvckiMHriv-",
        "outputId": "aa3ed8ca-0815-460b-a5a3-69090add7256"
      },
      "execution_count": 49,
      "outputs": [
        {
          "output_type": "execute_result",
          "data": {
            "text/plain": [
              "Genero_FEMININO\n",
              "1    3595411\n",
              "0    2954058\n",
              "Name: count, dtype: int64"
            ]
          },
          "metadata": {},
          "execution_count": 49
        }
      ]
    },
    {
      "cell_type": "markdown",
      "source": [
        "## 4.3 - Separação dos dados para treinamento do Modelo Preditivo."
      ],
      "metadata": {
        "id": "MkGDzxs7wOjP"
      }
    },
    {
      "cell_type": "code",
      "source": [
        "def separacao_treino(df_dados):\n",
        "    try:\n",
        "        # Separar as features (X) e o target (y)\n",
        "        X = df_dados.drop(columns=['Obito'])\n",
        "        y = df_dados['Obito']\n",
        "\n",
        "        # Dividir o dataset em conjuntos de treinamento e teste\n",
        "        X_train, X_test, y_train, y_test = train_test_split(X, y, test_size=0.3, random_state=42)\n",
        "\n",
        "        return X_train, X_test, y_train, y_test\n",
        "\n",
        "    except KeyError as e:\n",
        "        print(f\"Erro de chave: {e}\")\n",
        "        return None, None, None, None\n",
        "    except Exception as e:\n",
        "        print(f\"Ocorreu um erro ao separar os dados de treinamento e teste: {e}\")\n",
        "        return None, None, None, None"
      ],
      "metadata": {
        "id": "fs2oL3NMwe68"
      },
      "execution_count": 50,
      "outputs": []
    },
    {
      "cell_type": "code",
      "source": [
        "x_train, x_test, y_train, y_test = separacao_treino(df_dados=dados_tratados_4)"
      ],
      "metadata": {
        "id": "o6nDKW90xJvy"
      },
      "execution_count": 51,
      "outputs": []
    },
    {
      "cell_type": "code",
      "source": [
        "x_train.head()"
      ],
      "metadata": {
        "colab": {
          "base_uri": "https://localhost:8080/",
          "height": 243
        },
        "id": "N0zhVp_YxQow",
        "outputId": "6d16415b-baae-45dc-a04a-ae4d18e82c3e"
      },
      "execution_count": 52,
      "outputs": [
        {
          "output_type": "execute_result",
          "data": {
            "text/plain": [
              "         Asma  Cardiopatia  Diabetes  Doenca_Hematologica  Doenca_Hepatica  \\\n",
              "987649      0            0         0                    0                0   \n",
              "1242156     0            0         0                    0                0   \n",
              "5595424     0            1         0                    0                0   \n",
              "1278441     0            0         0                    0                0   \n",
              "2791121     0            0         0                    0                0   \n",
              "\n",
              "         Doenca_Neurologica  Doenca Renal     Idade  Imunodepressao  \\\n",
              "987649                    0             0  0.419118               0   \n",
              "1242156                   0             0  0.323529               0   \n",
              "5595424                   0             0  0.389706               0   \n",
              "1278441                   0             0  0.279412               0   \n",
              "2791121                   0             0  0.250000               0   \n",
              "\n",
              "         Obesidade  Outros_Fatores_De_Risco  Pneumopatia  Puérpera  \\\n",
              "987649           0                        0            0         0   \n",
              "1242156          0                        0            0         0   \n",
              "5595424          0                        0            0         0   \n",
              "1278441          0                        0            0         0   \n",
              "2791121          0                        0            0         0   \n",
              "\n",
              "         Síndrome_De_Down  Genero_FEMININO  Genero_IGNORADO  \\\n",
              "987649                  0                0                0   \n",
              "1242156                 0                0                0   \n",
              "5595424                 0                1                0   \n",
              "1278441                 0                1                0   \n",
              "2791121                 0                0                0   \n",
              "\n",
              "         Genero_INDEFINIDO  Genero_MASCULINO  \n",
              "987649                   0                 1  \n",
              "1242156                  0                 1  \n",
              "5595424                  0                 0  \n",
              "1278441                  0                 0  \n",
              "2791121                  0                 1  "
            ],
            "text/html": [
              "\n",
              "  <div id=\"df-5382dc14-d989-43d2-b44a-416dc6b64a63\" class=\"colab-df-container\">\n",
              "    <div>\n",
              "<style scoped>\n",
              "    .dataframe tbody tr th:only-of-type {\n",
              "        vertical-align: middle;\n",
              "    }\n",
              "\n",
              "    .dataframe tbody tr th {\n",
              "        vertical-align: top;\n",
              "    }\n",
              "\n",
              "    .dataframe thead th {\n",
              "        text-align: right;\n",
              "    }\n",
              "</style>\n",
              "<table border=\"1\" class=\"dataframe\">\n",
              "  <thead>\n",
              "    <tr style=\"text-align: right;\">\n",
              "      <th></th>\n",
              "      <th>Asma</th>\n",
              "      <th>Cardiopatia</th>\n",
              "      <th>Diabetes</th>\n",
              "      <th>Doenca_Hematologica</th>\n",
              "      <th>Doenca_Hepatica</th>\n",
              "      <th>Doenca_Neurologica</th>\n",
              "      <th>Doenca Renal</th>\n",
              "      <th>Idade</th>\n",
              "      <th>Imunodepressao</th>\n",
              "      <th>Obesidade</th>\n",
              "      <th>Outros_Fatores_De_Risco</th>\n",
              "      <th>Pneumopatia</th>\n",
              "      <th>Puérpera</th>\n",
              "      <th>Síndrome_De_Down</th>\n",
              "      <th>Genero_FEMININO</th>\n",
              "      <th>Genero_IGNORADO</th>\n",
              "      <th>Genero_INDEFINIDO</th>\n",
              "      <th>Genero_MASCULINO</th>\n",
              "    </tr>\n",
              "  </thead>\n",
              "  <tbody>\n",
              "    <tr>\n",
              "      <th>987649</th>\n",
              "      <td>0</td>\n",
              "      <td>0</td>\n",
              "      <td>0</td>\n",
              "      <td>0</td>\n",
              "      <td>0</td>\n",
              "      <td>0</td>\n",
              "      <td>0</td>\n",
              "      <td>0.419118</td>\n",
              "      <td>0</td>\n",
              "      <td>0</td>\n",
              "      <td>0</td>\n",
              "      <td>0</td>\n",
              "      <td>0</td>\n",
              "      <td>0</td>\n",
              "      <td>0</td>\n",
              "      <td>0</td>\n",
              "      <td>0</td>\n",
              "      <td>1</td>\n",
              "    </tr>\n",
              "    <tr>\n",
              "      <th>1242156</th>\n",
              "      <td>0</td>\n",
              "      <td>0</td>\n",
              "      <td>0</td>\n",
              "      <td>0</td>\n",
              "      <td>0</td>\n",
              "      <td>0</td>\n",
              "      <td>0</td>\n",
              "      <td>0.323529</td>\n",
              "      <td>0</td>\n",
              "      <td>0</td>\n",
              "      <td>0</td>\n",
              "      <td>0</td>\n",
              "      <td>0</td>\n",
              "      <td>0</td>\n",
              "      <td>0</td>\n",
              "      <td>0</td>\n",
              "      <td>0</td>\n",
              "      <td>1</td>\n",
              "    </tr>\n",
              "    <tr>\n",
              "      <th>5595424</th>\n",
              "      <td>0</td>\n",
              "      <td>1</td>\n",
              "      <td>0</td>\n",
              "      <td>0</td>\n",
              "      <td>0</td>\n",
              "      <td>0</td>\n",
              "      <td>0</td>\n",
              "      <td>0.389706</td>\n",
              "      <td>0</td>\n",
              "      <td>0</td>\n",
              "      <td>0</td>\n",
              "      <td>0</td>\n",
              "      <td>0</td>\n",
              "      <td>0</td>\n",
              "      <td>1</td>\n",
              "      <td>0</td>\n",
              "      <td>0</td>\n",
              "      <td>0</td>\n",
              "    </tr>\n",
              "    <tr>\n",
              "      <th>1278441</th>\n",
              "      <td>0</td>\n",
              "      <td>0</td>\n",
              "      <td>0</td>\n",
              "      <td>0</td>\n",
              "      <td>0</td>\n",
              "      <td>0</td>\n",
              "      <td>0</td>\n",
              "      <td>0.279412</td>\n",
              "      <td>0</td>\n",
              "      <td>0</td>\n",
              "      <td>0</td>\n",
              "      <td>0</td>\n",
              "      <td>0</td>\n",
              "      <td>0</td>\n",
              "      <td>1</td>\n",
              "      <td>0</td>\n",
              "      <td>0</td>\n",
              "      <td>0</td>\n",
              "    </tr>\n",
              "    <tr>\n",
              "      <th>2791121</th>\n",
              "      <td>0</td>\n",
              "      <td>0</td>\n",
              "      <td>0</td>\n",
              "      <td>0</td>\n",
              "      <td>0</td>\n",
              "      <td>0</td>\n",
              "      <td>0</td>\n",
              "      <td>0.250000</td>\n",
              "      <td>0</td>\n",
              "      <td>0</td>\n",
              "      <td>0</td>\n",
              "      <td>0</td>\n",
              "      <td>0</td>\n",
              "      <td>0</td>\n",
              "      <td>0</td>\n",
              "      <td>0</td>\n",
              "      <td>0</td>\n",
              "      <td>1</td>\n",
              "    </tr>\n",
              "  </tbody>\n",
              "</table>\n",
              "</div>\n",
              "    <div class=\"colab-df-buttons\">\n",
              "\n",
              "  <div class=\"colab-df-container\">\n",
              "    <button class=\"colab-df-convert\" onclick=\"convertToInteractive('df-5382dc14-d989-43d2-b44a-416dc6b64a63')\"\n",
              "            title=\"Convert this dataframe to an interactive table.\"\n",
              "            style=\"display:none;\">\n",
              "\n",
              "  <svg xmlns=\"http://www.w3.org/2000/svg\" height=\"24px\" viewBox=\"0 -960 960 960\">\n",
              "    <path d=\"M120-120v-720h720v720H120Zm60-500h600v-160H180v160Zm220 220h160v-160H400v160Zm0 220h160v-160H400v160ZM180-400h160v-160H180v160Zm440 0h160v-160H620v160ZM180-180h160v-160H180v160Zm440 0h160v-160H620v160Z\"/>\n",
              "  </svg>\n",
              "    </button>\n",
              "\n",
              "  <style>\n",
              "    .colab-df-container {\n",
              "      display:flex;\n",
              "      gap: 12px;\n",
              "    }\n",
              "\n",
              "    .colab-df-convert {\n",
              "      background-color: #E8F0FE;\n",
              "      border: none;\n",
              "      border-radius: 50%;\n",
              "      cursor: pointer;\n",
              "      display: none;\n",
              "      fill: #1967D2;\n",
              "      height: 32px;\n",
              "      padding: 0 0 0 0;\n",
              "      width: 32px;\n",
              "    }\n",
              "\n",
              "    .colab-df-convert:hover {\n",
              "      background-color: #E2EBFA;\n",
              "      box-shadow: 0px 1px 2px rgba(60, 64, 67, 0.3), 0px 1px 3px 1px rgba(60, 64, 67, 0.15);\n",
              "      fill: #174EA6;\n",
              "    }\n",
              "\n",
              "    .colab-df-buttons div {\n",
              "      margin-bottom: 4px;\n",
              "    }\n",
              "\n",
              "    [theme=dark] .colab-df-convert {\n",
              "      background-color: #3B4455;\n",
              "      fill: #D2E3FC;\n",
              "    }\n",
              "\n",
              "    [theme=dark] .colab-df-convert:hover {\n",
              "      background-color: #434B5C;\n",
              "      box-shadow: 0px 1px 3px 1px rgba(0, 0, 0, 0.15);\n",
              "      filter: drop-shadow(0px 1px 2px rgba(0, 0, 0, 0.3));\n",
              "      fill: #FFFFFF;\n",
              "    }\n",
              "  </style>\n",
              "\n",
              "    <script>\n",
              "      const buttonEl =\n",
              "        document.querySelector('#df-5382dc14-d989-43d2-b44a-416dc6b64a63 button.colab-df-convert');\n",
              "      buttonEl.style.display =\n",
              "        google.colab.kernel.accessAllowed ? 'block' : 'none';\n",
              "\n",
              "      async function convertToInteractive(key) {\n",
              "        const element = document.querySelector('#df-5382dc14-d989-43d2-b44a-416dc6b64a63');\n",
              "        const dataTable =\n",
              "          await google.colab.kernel.invokeFunction('convertToInteractive',\n",
              "                                                    [key], {});\n",
              "        if (!dataTable) return;\n",
              "\n",
              "        const docLinkHtml = 'Like what you see? Visit the ' +\n",
              "          '<a target=\"_blank\" href=https://colab.research.google.com/notebooks/data_table.ipynb>data table notebook</a>'\n",
              "          + ' to learn more about interactive tables.';\n",
              "        element.innerHTML = '';\n",
              "        dataTable['output_type'] = 'display_data';\n",
              "        await google.colab.output.renderOutput(dataTable, element);\n",
              "        const docLink = document.createElement('div');\n",
              "        docLink.innerHTML = docLinkHtml;\n",
              "        element.appendChild(docLink);\n",
              "      }\n",
              "    </script>\n",
              "  </div>\n",
              "\n",
              "\n",
              "<div id=\"df-6261dd97-e192-475b-b04c-2e4bd9907192\">\n",
              "  <button class=\"colab-df-quickchart\" onclick=\"quickchart('df-6261dd97-e192-475b-b04c-2e4bd9907192')\"\n",
              "            title=\"Suggest charts\"\n",
              "            style=\"display:none;\">\n",
              "\n",
              "<svg xmlns=\"http://www.w3.org/2000/svg\" height=\"24px\"viewBox=\"0 0 24 24\"\n",
              "     width=\"24px\">\n",
              "    <g>\n",
              "        <path d=\"M19 3H5c-1.1 0-2 .9-2 2v14c0 1.1.9 2 2 2h14c1.1 0 2-.9 2-2V5c0-1.1-.9-2-2-2zM9 17H7v-7h2v7zm4 0h-2V7h2v10zm4 0h-2v-4h2v4z\"/>\n",
              "    </g>\n",
              "</svg>\n",
              "  </button>\n",
              "\n",
              "<style>\n",
              "  .colab-df-quickchart {\n",
              "      --bg-color: #E8F0FE;\n",
              "      --fill-color: #1967D2;\n",
              "      --hover-bg-color: #E2EBFA;\n",
              "      --hover-fill-color: #174EA6;\n",
              "      --disabled-fill-color: #AAA;\n",
              "      --disabled-bg-color: #DDD;\n",
              "  }\n",
              "\n",
              "  [theme=dark] .colab-df-quickchart {\n",
              "      --bg-color: #3B4455;\n",
              "      --fill-color: #D2E3FC;\n",
              "      --hover-bg-color: #434B5C;\n",
              "      --hover-fill-color: #FFFFFF;\n",
              "      --disabled-bg-color: #3B4455;\n",
              "      --disabled-fill-color: #666;\n",
              "  }\n",
              "\n",
              "  .colab-df-quickchart {\n",
              "    background-color: var(--bg-color);\n",
              "    border: none;\n",
              "    border-radius: 50%;\n",
              "    cursor: pointer;\n",
              "    display: none;\n",
              "    fill: var(--fill-color);\n",
              "    height: 32px;\n",
              "    padding: 0;\n",
              "    width: 32px;\n",
              "  }\n",
              "\n",
              "  .colab-df-quickchart:hover {\n",
              "    background-color: var(--hover-bg-color);\n",
              "    box-shadow: 0 1px 2px rgba(60, 64, 67, 0.3), 0 1px 3px 1px rgba(60, 64, 67, 0.15);\n",
              "    fill: var(--button-hover-fill-color);\n",
              "  }\n",
              "\n",
              "  .colab-df-quickchart-complete:disabled,\n",
              "  .colab-df-quickchart-complete:disabled:hover {\n",
              "    background-color: var(--disabled-bg-color);\n",
              "    fill: var(--disabled-fill-color);\n",
              "    box-shadow: none;\n",
              "  }\n",
              "\n",
              "  .colab-df-spinner {\n",
              "    border: 2px solid var(--fill-color);\n",
              "    border-color: transparent;\n",
              "    border-bottom-color: var(--fill-color);\n",
              "    animation:\n",
              "      spin 1s steps(1) infinite;\n",
              "  }\n",
              "\n",
              "  @keyframes spin {\n",
              "    0% {\n",
              "      border-color: transparent;\n",
              "      border-bottom-color: var(--fill-color);\n",
              "      border-left-color: var(--fill-color);\n",
              "    }\n",
              "    20% {\n",
              "      border-color: transparent;\n",
              "      border-left-color: var(--fill-color);\n",
              "      border-top-color: var(--fill-color);\n",
              "    }\n",
              "    30% {\n",
              "      border-color: transparent;\n",
              "      border-left-color: var(--fill-color);\n",
              "      border-top-color: var(--fill-color);\n",
              "      border-right-color: var(--fill-color);\n",
              "    }\n",
              "    40% {\n",
              "      border-color: transparent;\n",
              "      border-right-color: var(--fill-color);\n",
              "      border-top-color: var(--fill-color);\n",
              "    }\n",
              "    60% {\n",
              "      border-color: transparent;\n",
              "      border-right-color: var(--fill-color);\n",
              "    }\n",
              "    80% {\n",
              "      border-color: transparent;\n",
              "      border-right-color: var(--fill-color);\n",
              "      border-bottom-color: var(--fill-color);\n",
              "    }\n",
              "    90% {\n",
              "      border-color: transparent;\n",
              "      border-bottom-color: var(--fill-color);\n",
              "    }\n",
              "  }\n",
              "</style>\n",
              "\n",
              "  <script>\n",
              "    async function quickchart(key) {\n",
              "      const quickchartButtonEl =\n",
              "        document.querySelector('#' + key + ' button');\n",
              "      quickchartButtonEl.disabled = true;  // To prevent multiple clicks.\n",
              "      quickchartButtonEl.classList.add('colab-df-spinner');\n",
              "      try {\n",
              "        const charts = await google.colab.kernel.invokeFunction(\n",
              "            'suggestCharts', [key], {});\n",
              "      } catch (error) {\n",
              "        console.error('Error during call to suggestCharts:', error);\n",
              "      }\n",
              "      quickchartButtonEl.classList.remove('colab-df-spinner');\n",
              "      quickchartButtonEl.classList.add('colab-df-quickchart-complete');\n",
              "    }\n",
              "    (() => {\n",
              "      let quickchartButtonEl =\n",
              "        document.querySelector('#df-6261dd97-e192-475b-b04c-2e4bd9907192 button');\n",
              "      quickchartButtonEl.style.display =\n",
              "        google.colab.kernel.accessAllowed ? 'block' : 'none';\n",
              "    })();\n",
              "  </script>\n",
              "</div>\n",
              "\n",
              "    </div>\n",
              "  </div>\n"
            ],
            "application/vnd.google.colaboratory.intrinsic+json": {
              "type": "dataframe",
              "variable_name": "x_train"
            }
          },
          "metadata": {},
          "execution_count": 52
        }
      ]
    },
    {
      "cell_type": "code",
      "source": [
        "x_train.iloc[0]"
      ],
      "metadata": {
        "colab": {
          "base_uri": "https://localhost:8080/"
        },
        "id": "fcjqEPnzXkSU",
        "outputId": "b3997001-33c7-496e-848e-6bbfcb6f3550"
      },
      "execution_count": null,
      "outputs": [
        {
          "output_type": "execute_result",
          "data": {
            "text/plain": [
              "Asma                       0.000000\n",
              "Cardiopatia                1.000000\n",
              "Diabetes                   1.000000\n",
              "Doenca_Hematologica        0.000000\n",
              "Doenca_Hepatica            0.000000\n",
              "Doenca_Neurologica         1.000000\n",
              "Doenca Renal               0.000000\n",
              "Idade                      0.026051\n",
              "Imunodepressao             0.000000\n",
              "Obesidade                  0.000000\n",
              "Outros_Fatores_De_Risco    1.000000\n",
              "Pneumopatia                0.000000\n",
              "Puérpera                   0.000000\n",
              "Síndrome_De_Down           0.000000\n",
              "Genero_FEMININO            0.000000\n",
              "Genero_IGNORADO            0.000000\n",
              "Genero_INDEFINIDO          0.000000\n",
              "Genero_MASCULINO           1.000000\n",
              "Name: 987649, dtype: float64"
            ]
          },
          "metadata": {},
          "execution_count": 30
        }
      ]
    },
    {
      "cell_type": "markdown",
      "source": [
        "## 4.4 - Modelo Preditivo"
      ],
      "metadata": {
        "id": "GIVwN_1cxeKQ"
      }
    },
    {
      "cell_type": "markdown",
      "source": [
        "Existe diversos modelos preditivos possíveis, testaremos os mais simples a seguir:\n",
        "\n",
        "*   Regressão Logística\n",
        "*   Random Forest\n",
        "\n"
      ],
      "metadata": {
        "id": "eu3pzuJVxjAv"
      }
    },
    {
      "cell_type": "markdown",
      "source": [
        "### Regressão Logística"
      ],
      "metadata": {
        "id": "dbNzCCvre7xx"
      }
    },
    {
      "cell_type": "code",
      "source": [
        "from sklearn.linear_model import LogisticRegression\n",
        "from sklearn.metrics import classification_report, accuracy_score\n",
        "import joblib\n",
        "\n",
        "# Criar o modelo de regressão logística\n",
        "logistic_regression = LogisticRegression(random_state=0)\n",
        "\n",
        "# Treinar o modelo com os dados de treinamento\n",
        "logistic_regression.fit(x_train, y_train)\n",
        "\n",
        "# Fazer previsões com os dados de teste\n",
        "y_pred = logistic_regression.predict(x_test)\n",
        "\n",
        "# Avaliar o modelo\n",
        "print(\"Regressão Logística\")\n",
        "print(classification_report(y_test, y_pred))\n",
        "print(\"Accuracy:\", accuracy_score(y_test, y_pred))\n"
      ],
      "metadata": {
        "colab": {
          "base_uri": "https://localhost:8080/"
        },
        "id": "DjnODWK1xTbK",
        "outputId": "85d01267-66c2-44da-be2c-70afd8ba7524"
      },
      "execution_count": 53,
      "outputs": [
        {
          "output_type": "stream",
          "name": "stdout",
          "text": [
            "Regressão Logística\n",
            "              precision    recall  f1-score   support\n",
            "\n",
            "           0       0.98      1.00      0.99   1910316\n",
            "           1       0.49      0.16      0.25     54525\n",
            "\n",
            "    accuracy                           0.97   1964841\n",
            "   macro avg       0.73      0.58      0.62   1964841\n",
            "weighted avg       0.96      0.97      0.97   1964841\n",
            "\n",
            "Accuracy: 0.9720944341043372\n"
          ]
        }
      ]
    },
    {
      "cell_type": "code",
      "source": [
        "# Salvar o modelo no arquivo\n",
        "joblib.dump(logistic_regression, '//content//drive//MyDrive//Absolute//modelo_regressao_logistica.joblib')\n",
        "print(\"Modelo salvo como 'modelo_regressao_logistica.joblib'\")"
      ],
      "metadata": {
        "colab": {
          "base_uri": "https://localhost:8080/"
        },
        "id": "DcBAh0-ugFhJ",
        "outputId": "6abf430a-d8c2-4a43-d12b-fd5d95c42920"
      },
      "execution_count": 54,
      "outputs": [
        {
          "output_type": "stream",
          "name": "stdout",
          "text": [
            "Modelo salvo como 'modelo_regressao_logistica.joblib'\n"
          ]
        }
      ]
    },
    {
      "cell_type": "markdown",
      "source": [
        "### Random Forest"
      ],
      "metadata": {
        "id": "MSQTR1alyrLm"
      }
    },
    {
      "cell_type": "markdown",
      "source": [
        "*   https://crunchingthedata.com/max-depth-in-random-forests/\n",
        "*   https://crunchingthedata.com/random-forest-overfitting/\n",
        "\n"
      ],
      "metadata": {
        "id": "2wEZztVPDE8v"
      }
    },
    {
      "cell_type": "code",
      "source": [
        "from sklearn.ensemble import RandomForestClassifier\n",
        "from sklearn.metrics import classification_report, accuracy_score\n",
        "import joblib\n",
        "\n",
        "# Treinamento do modelo\n",
        "rf = RandomForestClassifier(n_estimators=75, min_samples_split=5, min_samples_leaf=10)\n",
        "rf.fit(x_train, y_train)\n",
        "\n",
        "# Previsão\n",
        "y_pred = rf.predict(x_test)\n",
        "\n",
        "# Avaliação do modelo\n",
        "print(\"Random Forest\")\n",
        "print(classification_report(y_test, y_pred))\n",
        "print(\"Accuracy:\", accuracy_score(y_test, y_pred))\n",
        "\n",
        "# Salvamento do modelo treinado\n",
        "joblib.dump(rf, '//content//drive//MyDrive//Absolute//random_forest_model.joblib')\n",
        "print(\"Modelo salvo como 'random_forest_model.joblib'\")"
      ],
      "metadata": {
        "colab": {
          "base_uri": "https://localhost:8080/"
        },
        "id": "gatcZEiqytNW",
        "outputId": "748cada9-a5c4-4b6f-e659-2110d5716eb3"
      },
      "execution_count": 55,
      "outputs": [
        {
          "output_type": "stream",
          "name": "stdout",
          "text": [
            "Random Forest\n",
            "              precision    recall  f1-score   support\n",
            "\n",
            "           0       0.97      1.00      0.99   1910316\n",
            "           1       0.56      0.07      0.12     54525\n",
            "\n",
            "    accuracy                           0.97   1964841\n",
            "   macro avg       0.77      0.53      0.55   1964841\n",
            "weighted avg       0.96      0.97      0.96   1964841\n",
            "\n",
            "Accuracy: 0.9726573295243738\n",
            "Modelo salvo como 'random_forest_model.joblib'\n"
          ]
        }
      ]
    },
    {
      "cell_type": "code",
      "source": [
        "# Carregar o modelo salvo\n",
        "rf_loaded = joblib.load('//content//drive//MyDrive//Absolute//random_forest_model_50_split_5_10_leaf_ue.joblib')\n",
        "\n",
        "# Usar o modelo carregado para fazer previsões\n",
        "y_pred_loaded = rf_loaded.predict(x_test)\n",
        "\n",
        "# Avaliação do modelo carregado (opcional, apenas para verificar)\n",
        "print(\"Random Forest (Modelo Carregado)\")\n",
        "print(classification_report(y_test, y_pred_loaded))\n",
        "print(\"Accuracy:\", accuracy_score(y_test, y_pred_loaded))"
      ],
      "metadata": {
        "colab": {
          "base_uri": "https://localhost:8080/"
        },
        "id": "9wDz5O3d-kiP",
        "outputId": "d5cce1af-497e-4159-bbdd-bbc3e489b4bd"
      },
      "execution_count": 56,
      "outputs": [
        {
          "output_type": "stream",
          "name": "stdout",
          "text": [
            "Random Forest (Modelo Carregado)\n",
            "              precision    recall  f1-score   support\n",
            "\n",
            "           0       0.97      1.00      0.99   1910316\n",
            "           1       0.56      0.07      0.12     54525\n",
            "\n",
            "    accuracy                           0.97   1964841\n",
            "   macro avg       0.77      0.53      0.55   1964841\n",
            "weighted avg       0.96      0.97      0.96   1964841\n",
            "\n",
            "Accuracy: 0.9726573295243738\n"
          ]
        }
      ]
    },
    {
      "cell_type": "markdown",
      "source": [
        "### Iremos seguir com o modelo Random Forest"
      ],
      "metadata": {
        "id": "B43Pxvn6OrVO"
      }
    },
    {
      "cell_type": "markdown",
      "source": [
        "As configurações do modelo de treinamento foram: *  \n",
        "\n",
        "*   **RandomForestClassifier(n_estimators=50, min_samples_split=5, min_samples_leaf=10)**\n",
        "\n",
        "\n"
      ],
      "metadata": {
        "id": "YPIUMjV7OzeE"
      }
    },
    {
      "cell_type": "markdown",
      "source": [
        "![image.png](data:image/png;base64,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)"
      ],
      "metadata": {
        "id": "ColXSMXnlxXN"
      }
    },
    {
      "cell_type": "code",
      "source": [
        "def modelo_preditivo(modelo_path, x_test):\n",
        "    \"\"\"\n",
        "    Carrega um modelo salvo e usa-o para prever as probabilidades de óbito e sobrevivência.\n",
        "\n",
        "    Parâmetros:\n",
        "    modelo_path (str): Caminho para o arquivo do modelo salvo.\n",
        "    x_test (pd.DataFrame ou np.ndarray): Conjunto de dados de teste.\n",
        "\n",
        "    Retorna:\n",
        "    np.ndarray: Matriz de probabilidades previstas, onde cada linha representa uma amostra\n",
        "                e cada coluna representa a probabilidade da amostra pertencer a uma classe específica.\n",
        "    \"\"\"\n",
        "    try:\n",
        "        # Definir o caminho padrão do modelo, se não fornecido\n",
        "        if modelo_path is None:\n",
        "            modelo_path = '//content//drive//MyDrive//Absolute//random_forest_model_50_split_5_leaf_10_ue.joblib'\n",
        "\n",
        "        # Carregar o modelo salvo\n",
        "        rf_loaded = joblib.load(modelo_path)\n",
        "\n",
        "        # Usar o modelo carregado para prever as probabilidades\n",
        "        y_prob = rf_loaded.predict_proba(x_test)\n",
        "\n",
        "        # Retornar as probabilidades das duas classes\n",
        "        return y_prob\n",
        "\n",
        "    except Exception as e:\n",
        "        print(f\"Erro ao carregar o modelo e prever probabilidades: {e}\")\n",
        "        return None"
      ],
      "metadata": {
        "id": "NvdoQ6Pi_B1Q"
      },
      "execution_count": 57,
      "outputs": []
    },
    {
      "cell_type": "code",
      "source": [
        "def treinar_modelo(x_train, x_test, y_train, y_test, modelo_path):\n",
        "    \"\"\"\n",
        "    Treina um modelo RandomForestClassifier, salva o modelo treinado e retorna as métricas de avaliação.\n",
        "\n",
        "    Parâmetros:\n",
        "    x_train : Conjunto de dados de treinamento.\n",
        "    x_test : Conjunto de dados de teste.\n",
        "    y_train : Labels de treinamento.\n",
        "    y_test : Labels de teste.\n",
        "    modelo_path : Caminho para salvar o modelo treinado.\n",
        "\n",
        "    Retorna:\n",
        "    rf : Modelo treinado.\n",
        "    \"\"\"\n",
        "    try:\n",
        "        # Treinamento do modelo\n",
        "        rf = RandomForestClassifier(n_estimators=50, max_depth=5, min_samples_leaf=10)\n",
        "        rf.fit(x_train, y_train)\n",
        "\n",
        "        # Previsão\n",
        "        y_pred = rf.predict(x_test)\n",
        "\n",
        "        # Avaliação do modelo\n",
        "        report = classification_report(y_test, y_pred)\n",
        "        accuracy = accuracy_score(y_test, y_pred)\n",
        "        print(\"Random Forest\")\n",
        "        print(report)\n",
        "        print(\"Accuracy:\", accuracy)\n",
        "\n",
        "        # Salvamento do modelo treinado\n",
        "        joblib.dump(rf, modelo_path)\n",
        "        print(f\"Modelo salvo como '{modelo_path}'\")\n",
        "\n",
        "        # Retornar o modelo treinado\n",
        "        return rf\n",
        "\n",
        "    except Exception as e:\n",
        "        print(f\"Erro no treinamento e salvamento do modelo: {e}\")\n",
        "        return None\n"
      ],
      "metadata": {
        "id": "HnPx1Zr8Rso7"
      },
      "execution_count": 58,
      "outputs": []
    },
    {
      "cell_type": "markdown",
      "source": [
        "## 4.5 - Versão Final"
      ],
      "metadata": {
        "id": "ygb40N2iRlYj"
      }
    },
    {
      "cell_type": "code",
      "source": [
        "path = \"//content//drive//MyDrive//Absolute//20240120_Casos_e_obitos_ESP.csv\"\n",
        "\n",
        "# Carregar o CSV com os dados.\n",
        "exercicio_4 = ler_csv(path= path)\n",
        "\n",
        "# Tratamento da Coluna \"Idade\" e \"Genero\" removendo as linhas NaN.\n",
        "novo_exercicio_4 = tratamento_coluna_idade_genero(df_dados= exercicio_4)\n",
        "\n",
        "# Tratamento das Colunas Normalizando os dados.\n",
        "dados_tratados_4 = tratamento_normalizacao(df_dados=novo_exercicio_4)\n",
        "\n",
        "# Separação dos dados para treinamento do Modelo Preditivo.\n",
        "x_train, x_test, y_train, y_test = separacao_treino(df_dados=dados_tratados_4)\n",
        "\n",
        "# Modelo Preditivo : Random Forest\n",
        "\n",
        "# Caso não tenha uma modelo treinado\n",
        "modelo = treinar_modelo(x_train = x_train, x_test = x_test,\n",
        "                        y_train = y_train, y_test = y_test,\n",
        "                        modelo_path='//content//drive//MyDrive//Absolute//random_forest_model_test.joblib')\n",
        "\n",
        "# Caso queira usar um modelo treinado e obter a predição usar a seguinte linha abaixo.\n",
        "# modelo = modelo_preditivo(modelo_path = '//content//drive//MyDrive//Absolute//random_forest_model_test.joblib', x_test)"
      ],
      "metadata": {
        "colab": {
          "base_uri": "https://localhost:8080/"
        },
        "id": "uWHlv2sGRkNL",
        "outputId": "793d4a73-e229-474e-ed3c-03ebb6c9dbf2"
      },
      "execution_count": 60,
      "outputs": [
        {
          "output_type": "stream",
          "name": "stdout",
          "text": [
            "Random Forest\n",
            "              precision    recall  f1-score   support\n",
            "\n",
            "           0       0.97      1.00      0.99   1910316\n",
            "           1       0.68      0.00      0.01     54525\n",
            "\n",
            "    accuracy                           0.97   1964841\n",
            "   macro avg       0.82      0.50      0.50   1964841\n",
            "weighted avg       0.96      0.97      0.96   1964841\n",
            "\n",
            "Accuracy: 0.972289360818509\n",
            "Modelo salvo como '//content//drive//MyDrive//Absolute//random_forest_model_test.joblib'\n"
          ]
        }
      ]
    },
    {
      "cell_type": "code",
      "source": [
        "# Test\n",
        "x_prob = x_train.iloc[[0]]\n",
        "\n",
        "# Previsão\n",
        "y_prob = modelo.predict_proba(x_prob)\n",
        "\n",
        "print(y_prob)\n",
        "\n",
        "# Print das probabilidades com informações claras\n",
        "for i, prob in enumerate(y_prob):\n",
        "    print(f\"Amostra {i+1}: Probabilidade de Sobrevivência = {prob[0]:.4f}, Probabilidade de Óbito = {prob[1]:.4f}\")"
      ],
      "metadata": {
        "colab": {
          "base_uri": "https://localhost:8080/"
        },
        "id": "0-xDUiRXVO7I",
        "outputId": "29c3febe-f9dc-4640-948f-128744956e35"
      },
      "execution_count": 61,
      "outputs": [
        {
          "output_type": "stream",
          "name": "stdout",
          "text": [
            "[[0.98489458 0.01510542]]\n",
            "Amostra 1: Probabilidade de Sobrevivência = 0.9849, Probabilidade de Óbito = 0.0151\n"
          ]
        }
      ]
    }
  ]
}