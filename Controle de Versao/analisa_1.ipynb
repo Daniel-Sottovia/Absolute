{
 "cells": [
  {
   "cell_type": "code",
   "execution_count": 1,
   "metadata": {},
   "outputs": [],
   "source": [
    "import pandas as pd\n",
    "import numpy as np\n",
    "import warnings\n",
    "import matplotlib.pyplot as plt\n",
    "\n",
    "# Suprimir todos os warnings\n",
    "warnings.filterwarnings(\"ignore\")"
   ]
  },
  {
   "cell_type": "markdown",
   "metadata": {},
   "source": [
    "# Ler Arquivo"
   ]
  },
  {
   "cell_type": "markdown",
   "metadata": {},
   "source": [
    "O caminho para os arquivo CSV na máquina usada é \"D:\\Python\\finance\\Absolute\\Dados\\20240120_Casos_e_obitos_ESP\\tmp\\tmpi0lf4neq\\20240120_Casos_e_obitos_ESP.csv\"\n",
    "\n",
    "Caso, necessário realizar ajustes no caminho."
   ]
  },
  {
   "cell_type": "code",
   "execution_count": 45,
   "metadata": {},
   "outputs": [],
   "source": [
    "path = \"D:\\\\Python\\\\finance\\\\Absolute\\\\Dados\\\\20240120_Casos_e_obitos_ESP\\\\tmp\\\\tmpi0lf4neq\\\\20240120_Casos_e_obitos_ESP.csv\""
   ]
  },
  {
   "cell_type": "code",
   "execution_count": 46,
   "metadata": {},
   "outputs": [],
   "source": [
    "df = pd.read_csv(path, \n",
    "                 sep = ';', # Separador usando ';' como parâmetro\n",
    "                 header=0)  # Define-se a linha 0 como index."
   ]
  },
  {
   "cell_type": "code",
   "execution_count": 47,
   "metadata": {},
   "outputs": [
    {
     "data": {
      "text/html": [
       "<div>\n",
       "<style scoped>\n",
       "    .dataframe tbody tr th:only-of-type {\n",
       "        vertical-align: middle;\n",
       "    }\n",
       "\n",
       "    .dataframe tbody tr th {\n",
       "        vertical-align: top;\n",
       "    }\n",
       "\n",
       "    .dataframe thead th {\n",
       "        text-align: right;\n",
       "    }\n",
       "</style>\n",
       "<table border=\"1\" class=\"dataframe\">\n",
       "  <thead>\n",
       "    <tr style=\"text-align: right;\">\n",
       "      <th></th>\n",
       "      <th>Asma</th>\n",
       "      <th>Cardiopatia</th>\n",
       "      <th>Data_Inicio_Sintomas</th>\n",
       "      <th>Diabetes</th>\n",
       "      <th>Diagnostico_Covid19</th>\n",
       "      <th>Doenca_Hematologica</th>\n",
       "      <th>Doenca_Hepatica</th>\n",
       "      <th>Doenca_Neurologica</th>\n",
       "      <th>Doenca Renal</th>\n",
       "      <th>Genero</th>\n",
       "      <th>Idade</th>\n",
       "      <th>Imunodepressao</th>\n",
       "      <th>Municipio</th>\n",
       "      <th>Obesidade</th>\n",
       "      <th>Obito</th>\n",
       "      <th>Outros_Fatores_De_Risco</th>\n",
       "      <th>Pneumopatia</th>\n",
       "      <th>Puérpera</th>\n",
       "      <th>Síndrome_De_Down</th>\n",
       "    </tr>\n",
       "  </thead>\n",
       "  <tbody>\n",
       "    <tr>\n",
       "      <th>0</th>\n",
       "      <td>IGNORADO</td>\n",
       "      <td>IGNORADO</td>\n",
       "      <td>15/07/2022</td>\n",
       "      <td>IGNORADO</td>\n",
       "      <td>CONFIRMADO</td>\n",
       "      <td>IGNORADO</td>\n",
       "      <td>IGNORADO</td>\n",
       "      <td>IGNORADO</td>\n",
       "      <td>IGNORADO</td>\n",
       "      <td>MASCULINO</td>\n",
       "      <td>69.0</td>\n",
       "      <td>IGNORADO</td>\n",
       "      <td>ASSIS</td>\n",
       "      <td>IGNORADO</td>\n",
       "      <td>0</td>\n",
       "      <td>IGNORADO</td>\n",
       "      <td>IGNORADO</td>\n",
       "      <td>IGNORADO</td>\n",
       "      <td>IGNORADO</td>\n",
       "    </tr>\n",
       "    <tr>\n",
       "      <th>1</th>\n",
       "      <td>IGNORADO</td>\n",
       "      <td>IGNORADO</td>\n",
       "      <td>21/02/2021</td>\n",
       "      <td>IGNORADO</td>\n",
       "      <td>CONFIRMADO</td>\n",
       "      <td>IGNORADO</td>\n",
       "      <td>IGNORADO</td>\n",
       "      <td>IGNORADO</td>\n",
       "      <td>IGNORADO</td>\n",
       "      <td>FEMININO</td>\n",
       "      <td>60.0</td>\n",
       "      <td>IGNORADO</td>\n",
       "      <td>SÃO PAULO</td>\n",
       "      <td>IGNORADO</td>\n",
       "      <td>0</td>\n",
       "      <td>IGNORADO</td>\n",
       "      <td>IGNORADO</td>\n",
       "      <td>IGNORADO</td>\n",
       "      <td>IGNORADO</td>\n",
       "    </tr>\n",
       "    <tr>\n",
       "      <th>2</th>\n",
       "      <td>IGNORADO</td>\n",
       "      <td>IGNORADO</td>\n",
       "      <td>23/06/2021</td>\n",
       "      <td>IGNORADO</td>\n",
       "      <td>CONFIRMADO</td>\n",
       "      <td>IGNORADO</td>\n",
       "      <td>IGNORADO</td>\n",
       "      <td>IGNORADO</td>\n",
       "      <td>IGNORADO</td>\n",
       "      <td>MASCULINO</td>\n",
       "      <td>58.0</td>\n",
       "      <td>IGNORADO</td>\n",
       "      <td>ARARAQUARA</td>\n",
       "      <td>IGNORADO</td>\n",
       "      <td>0</td>\n",
       "      <td>IGNORADO</td>\n",
       "      <td>IGNORADO</td>\n",
       "      <td>IGNORADO</td>\n",
       "      <td>IGNORADO</td>\n",
       "    </tr>\n",
       "    <tr>\n",
       "      <th>3</th>\n",
       "      <td>IGNORADO</td>\n",
       "      <td>IGNORADO</td>\n",
       "      <td>03/02/2021</td>\n",
       "      <td>IGNORADO</td>\n",
       "      <td>CONFIRMADO</td>\n",
       "      <td>IGNORADO</td>\n",
       "      <td>IGNORADO</td>\n",
       "      <td>IGNORADO</td>\n",
       "      <td>IGNORADO</td>\n",
       "      <td>FEMININO</td>\n",
       "      <td>45.0</td>\n",
       "      <td>IGNORADO</td>\n",
       "      <td>SÃO PAULO</td>\n",
       "      <td>IGNORADO</td>\n",
       "      <td>0</td>\n",
       "      <td>IGNORADO</td>\n",
       "      <td>IGNORADO</td>\n",
       "      <td>IGNORADO</td>\n",
       "      <td>IGNORADO</td>\n",
       "    </tr>\n",
       "    <tr>\n",
       "      <th>4</th>\n",
       "      <td>IGNORADO</td>\n",
       "      <td>IGNORADO</td>\n",
       "      <td>23/02/2021</td>\n",
       "      <td>IGNORADO</td>\n",
       "      <td>CONFIRMADO</td>\n",
       "      <td>IGNORADO</td>\n",
       "      <td>IGNORADO</td>\n",
       "      <td>IGNORADO</td>\n",
       "      <td>IGNORADO</td>\n",
       "      <td>FEMININO</td>\n",
       "      <td>42.0</td>\n",
       "      <td>IGNORADO</td>\n",
       "      <td>SÃO PAULO</td>\n",
       "      <td>IGNORADO</td>\n",
       "      <td>0</td>\n",
       "      <td>IGNORADO</td>\n",
       "      <td>IGNORADO</td>\n",
       "      <td>IGNORADO</td>\n",
       "      <td>IGNORADO</td>\n",
       "    </tr>\n",
       "    <tr>\n",
       "      <th>...</th>\n",
       "      <td>...</td>\n",
       "      <td>...</td>\n",
       "      <td>...</td>\n",
       "      <td>...</td>\n",
       "      <td>...</td>\n",
       "      <td>...</td>\n",
       "      <td>...</td>\n",
       "      <td>...</td>\n",
       "      <td>...</td>\n",
       "      <td>...</td>\n",
       "      <td>...</td>\n",
       "      <td>...</td>\n",
       "      <td>...</td>\n",
       "      <td>...</td>\n",
       "      <td>...</td>\n",
       "      <td>...</td>\n",
       "      <td>...</td>\n",
       "      <td>...</td>\n",
       "      <td>...</td>\n",
       "    </tr>\n",
       "    <tr>\n",
       "      <th>6770923</th>\n",
       "      <td>IGNORADO</td>\n",
       "      <td>IGNORADO</td>\n",
       "      <td>11/01/2022</td>\n",
       "      <td>IGNORADO</td>\n",
       "      <td>CONFIRMADO</td>\n",
       "      <td>IGNORADO</td>\n",
       "      <td>IGNORADO</td>\n",
       "      <td>IGNORADO</td>\n",
       "      <td>IGNORADO</td>\n",
       "      <td>MASCULINO</td>\n",
       "      <td>1.0</td>\n",
       "      <td>IGNORADO</td>\n",
       "      <td>SÃO BERNARDO DO CAMPO</td>\n",
       "      <td>IGNORADO</td>\n",
       "      <td>0</td>\n",
       "      <td>IGNORADO</td>\n",
       "      <td>IGNORADO</td>\n",
       "      <td>IGNORADO</td>\n",
       "      <td>IGNORADO</td>\n",
       "    </tr>\n",
       "    <tr>\n",
       "      <th>6770924</th>\n",
       "      <td>IGNORADO</td>\n",
       "      <td>IGNORADO</td>\n",
       "      <td>18/05/2021</td>\n",
       "      <td>IGNORADO</td>\n",
       "      <td>CONFIRMADO</td>\n",
       "      <td>IGNORADO</td>\n",
       "      <td>IGNORADO</td>\n",
       "      <td>IGNORADO</td>\n",
       "      <td>IGNORADO</td>\n",
       "      <td>MASCULINO</td>\n",
       "      <td>9.0</td>\n",
       "      <td>IGNORADO</td>\n",
       "      <td>ITAQUAQUECETUBA</td>\n",
       "      <td>IGNORADO</td>\n",
       "      <td>0</td>\n",
       "      <td>IGNORADO</td>\n",
       "      <td>IGNORADO</td>\n",
       "      <td>IGNORADO</td>\n",
       "      <td>IGNORADO</td>\n",
       "    </tr>\n",
       "    <tr>\n",
       "      <th>6770925</th>\n",
       "      <td>IGNORADO</td>\n",
       "      <td>IGNORADO</td>\n",
       "      <td>02/01/2023</td>\n",
       "      <td>IGNORADO</td>\n",
       "      <td>CONFIRMADO</td>\n",
       "      <td>IGNORADO</td>\n",
       "      <td>IGNORADO</td>\n",
       "      <td>IGNORADO</td>\n",
       "      <td>IGNORADO</td>\n",
       "      <td>MASCULINO</td>\n",
       "      <td>0.0</td>\n",
       "      <td>IGNORADO</td>\n",
       "      <td>CAMPINAS</td>\n",
       "      <td>IGNORADO</td>\n",
       "      <td>0</td>\n",
       "      <td>IGNORADO</td>\n",
       "      <td>IGNORADO</td>\n",
       "      <td>IGNORADO</td>\n",
       "      <td>IGNORADO</td>\n",
       "    </tr>\n",
       "    <tr>\n",
       "      <th>6770926</th>\n",
       "      <td>NÃO</td>\n",
       "      <td>SIM</td>\n",
       "      <td>10/05/2020</td>\n",
       "      <td>SIM</td>\n",
       "      <td>CONFIRMADO</td>\n",
       "      <td>NÃO</td>\n",
       "      <td>NÃO</td>\n",
       "      <td>NÃO</td>\n",
       "      <td>NÃO</td>\n",
       "      <td>FEMININO</td>\n",
       "      <td>77.0</td>\n",
       "      <td>NÃO</td>\n",
       "      <td>SÃO PAULO</td>\n",
       "      <td>NÃO</td>\n",
       "      <td>1</td>\n",
       "      <td>IGNORADO</td>\n",
       "      <td>NÃO</td>\n",
       "      <td>NÃO</td>\n",
       "      <td>NÃO</td>\n",
       "    </tr>\n",
       "    <tr>\n",
       "      <th>6770927</th>\n",
       "      <td>IGNORADO</td>\n",
       "      <td>IGNORADO</td>\n",
       "      <td>07/03/2021</td>\n",
       "      <td>IGNORADO</td>\n",
       "      <td>CONFIRMADO</td>\n",
       "      <td>IGNORADO</td>\n",
       "      <td>IGNORADO</td>\n",
       "      <td>IGNORADO</td>\n",
       "      <td>IGNORADO</td>\n",
       "      <td>MASCULINO</td>\n",
       "      <td>35.0</td>\n",
       "      <td>IGNORADO</td>\n",
       "      <td>SANTO ANDRÉ</td>\n",
       "      <td>IGNORADO</td>\n",
       "      <td>0</td>\n",
       "      <td>IGNORADO</td>\n",
       "      <td>IGNORADO</td>\n",
       "      <td>IGNORADO</td>\n",
       "      <td>IGNORADO</td>\n",
       "    </tr>\n",
       "  </tbody>\n",
       "</table>\n",
       "<p>6770928 rows × 19 columns</p>\n",
       "</div>"
      ],
      "text/plain": [
       "             Asma Cardiopatia Data_Inicio_Sintomas  Diabetes  \\\n",
       "0        IGNORADO    IGNORADO           15/07/2022  IGNORADO   \n",
       "1        IGNORADO    IGNORADO           21/02/2021  IGNORADO   \n",
       "2        IGNORADO    IGNORADO           23/06/2021  IGNORADO   \n",
       "3        IGNORADO    IGNORADO           03/02/2021  IGNORADO   \n",
       "4        IGNORADO    IGNORADO           23/02/2021  IGNORADO   \n",
       "...           ...         ...                  ...       ...   \n",
       "6770923  IGNORADO    IGNORADO           11/01/2022  IGNORADO   \n",
       "6770924  IGNORADO    IGNORADO           18/05/2021  IGNORADO   \n",
       "6770925  IGNORADO    IGNORADO           02/01/2023  IGNORADO   \n",
       "6770926       NÃO         SIM           10/05/2020       SIM   \n",
       "6770927  IGNORADO    IGNORADO           07/03/2021  IGNORADO   \n",
       "\n",
       "        Diagnostico_Covid19 Doenca_Hematologica Doenca_Hepatica  \\\n",
       "0                CONFIRMADO            IGNORADO        IGNORADO   \n",
       "1                CONFIRMADO            IGNORADO        IGNORADO   \n",
       "2                CONFIRMADO            IGNORADO        IGNORADO   \n",
       "3                CONFIRMADO            IGNORADO        IGNORADO   \n",
       "4                CONFIRMADO            IGNORADO        IGNORADO   \n",
       "...                     ...                 ...             ...   \n",
       "6770923          CONFIRMADO            IGNORADO        IGNORADO   \n",
       "6770924          CONFIRMADO            IGNORADO        IGNORADO   \n",
       "6770925          CONFIRMADO            IGNORADO        IGNORADO   \n",
       "6770926          CONFIRMADO                 NÃO             NÃO   \n",
       "6770927          CONFIRMADO            IGNORADO        IGNORADO   \n",
       "\n",
       "        Doenca_Neurologica Doenca Renal     Genero  Idade Imunodepressao  \\\n",
       "0                 IGNORADO     IGNORADO  MASCULINO   69.0       IGNORADO   \n",
       "1                 IGNORADO     IGNORADO   FEMININO   60.0       IGNORADO   \n",
       "2                 IGNORADO     IGNORADO  MASCULINO   58.0       IGNORADO   \n",
       "3                 IGNORADO     IGNORADO   FEMININO   45.0       IGNORADO   \n",
       "4                 IGNORADO     IGNORADO   FEMININO   42.0       IGNORADO   \n",
       "...                    ...          ...        ...    ...            ...   \n",
       "6770923           IGNORADO     IGNORADO  MASCULINO    1.0       IGNORADO   \n",
       "6770924           IGNORADO     IGNORADO  MASCULINO    9.0       IGNORADO   \n",
       "6770925           IGNORADO     IGNORADO  MASCULINO    0.0       IGNORADO   \n",
       "6770926                NÃO          NÃO   FEMININO   77.0            NÃO   \n",
       "6770927           IGNORADO     IGNORADO  MASCULINO   35.0       IGNORADO   \n",
       "\n",
       "                     Municipio Obesidade  Obito Outros_Fatores_De_Risco  \\\n",
       "0                        ASSIS  IGNORADO      0                IGNORADO   \n",
       "1                    SÃO PAULO  IGNORADO      0                IGNORADO   \n",
       "2                   ARARAQUARA  IGNORADO      0                IGNORADO   \n",
       "3                    SÃO PAULO  IGNORADO      0                IGNORADO   \n",
       "4                    SÃO PAULO  IGNORADO      0                IGNORADO   \n",
       "...                        ...       ...    ...                     ...   \n",
       "6770923  SÃO BERNARDO DO CAMPO  IGNORADO      0                IGNORADO   \n",
       "6770924        ITAQUAQUECETUBA  IGNORADO      0                IGNORADO   \n",
       "6770925               CAMPINAS  IGNORADO      0                IGNORADO   \n",
       "6770926              SÃO PAULO       NÃO      1                IGNORADO   \n",
       "6770927            SANTO ANDRÉ  IGNORADO      0                IGNORADO   \n",
       "\n",
       "        Pneumopatia  Puérpera Síndrome_De_Down  \n",
       "0          IGNORADO  IGNORADO         IGNORADO  \n",
       "1          IGNORADO  IGNORADO         IGNORADO  \n",
       "2          IGNORADO  IGNORADO         IGNORADO  \n",
       "3          IGNORADO  IGNORADO         IGNORADO  \n",
       "4          IGNORADO  IGNORADO         IGNORADO  \n",
       "...             ...       ...              ...  \n",
       "6770923    IGNORADO  IGNORADO         IGNORADO  \n",
       "6770924    IGNORADO  IGNORADO         IGNORADO  \n",
       "6770925    IGNORADO  IGNORADO         IGNORADO  \n",
       "6770926         NÃO       NÃO              NÃO  \n",
       "6770927    IGNORADO  IGNORADO         IGNORADO  \n",
       "\n",
       "[6770928 rows x 19 columns]"
      ]
     },
     "metadata": {},
     "output_type": "display_data"
    }
   ],
   "source": [
    "display(df)"
   ]
  },
  {
   "cell_type": "markdown",
   "metadata": {},
   "source": [
    "## Análise Exploratória dos Dados"
   ]
  },
  {
   "cell_type": "markdown",
   "metadata": {},
   "source": [
    "Obter informações sobre o arquivo CSV"
   ]
  },
  {
   "cell_type": "code",
   "execution_count": 48,
   "metadata": {},
   "outputs": [
    {
     "name": "stdout",
     "output_type": "stream",
     "text": [
      "<class 'pandas.core.frame.DataFrame'>\n",
      "RangeIndex: 6770928 entries, 0 to 6770927\n",
      "Data columns (total 19 columns):\n",
      " #   Column                   Dtype  \n",
      "---  ------                   -----  \n",
      " 0   Asma                     object \n",
      " 1   Cardiopatia              object \n",
      " 2   Data_Inicio_Sintomas     object \n",
      " 3   Diabetes                 object \n",
      " 4   Diagnostico_Covid19      object \n",
      " 5   Doenca_Hematologica      object \n",
      " 6   Doenca_Hepatica          object \n",
      " 7   Doenca_Neurologica       object \n",
      " 8   Doenca Renal             object \n",
      " 9   Genero                   object \n",
      " 10  Idade                    float64\n",
      " 11  Imunodepressao           object \n",
      " 12  Municipio                object \n",
      " 13  Obesidade                object \n",
      " 14  Obito                    int64  \n",
      " 15  Outros_Fatores_De_Risco  object \n",
      " 16  Pneumopatia              object \n",
      " 17  Puérpera                 object \n",
      " 18  Síndrome_De_Down         object \n",
      "dtypes: float64(1), int64(1), object(17)\n",
      "memory usage: 981.5+ MB\n"
     ]
    }
   ],
   "source": [
    "df.info()"
   ]
  },
  {
   "cell_type": "markdown",
   "metadata": {},
   "source": [
    "Confirmando informações."
   ]
  },
  {
   "cell_type": "code",
   "execution_count": 49,
   "metadata": {},
   "outputs": [
    {
     "name": "stdout",
     "output_type": "stream",
     "text": [
      "Linhas: 6770928\n",
      "Colunas: 19\n"
     ]
    }
   ],
   "source": [
    "n_linhas, n_colunas = df.shape\n",
    "print(f\"Linhas: {n_linhas}\")\n",
    "print(f\"Colunas: {n_colunas}\")"
   ]
  },
  {
   "cell_type": "markdown",
   "metadata": {},
   "source": [
    "Variável com o nome das colunas:"
   ]
  },
  {
   "cell_type": "code",
   "execution_count": 52,
   "metadata": {},
   "outputs": [
    {
     "name": "stdout",
     "output_type": "stream",
     "text": [
      "Index(['Asma', 'Cardiopatia', 'Data_Inicio_Sintomas', 'Diabetes',\n",
      "       'Diagnostico_Covid19', 'Doenca_Hematologica', 'Doenca_Hepatica',\n",
      "       'Doenca_Neurologica', 'Doenca Renal', 'Genero', 'Idade',\n",
      "       'Imunodepressao', 'Municipio', 'Obesidade', 'Obito',\n",
      "       'Outros_Fatores_De_Risco', 'Pneumopatia', 'Puérpera',\n",
      "       'Síndrome_De_Down'],\n",
      "      dtype='object')\n"
     ]
    }
   ],
   "source": [
    "colunas = df.columns # Se quiser usar tolist()\n",
    "print(colunas)"
   ]
  },
  {
   "cell_type": "markdown",
   "metadata": {},
   "source": [
    "### Descobrindo o número de linhas vazias."
   ]
  },
  {
   "cell_type": "code",
   "execution_count": 67,
   "metadata": {},
   "outputs": [
    {
     "data": {
      "text/plain": [
       "Asma                            0\n",
       "Cardiopatia                     0\n",
       "Data_Inicio_Sintomas       244724\n",
       "Diabetes                        0\n",
       "Diagnostico_Covid19             0\n",
       "Doenca_Hematologica             0\n",
       "Doenca_Hepatica                 0\n",
       "Doenca_Neurologica              0\n",
       "Doenca Renal                    0\n",
       "Genero                          1\n",
       "Idade                      221457\n",
       "Imunodepressao                  0\n",
       "Municipio                       0\n",
       "Obesidade                       0\n",
       "Obito                           0\n",
       "Outros_Fatores_De_Risco         0\n",
       "Pneumopatia                     0\n",
       "Puérpera                        0\n",
       "Síndrome_De_Down                0\n",
       "dtype: int64"
      ]
     },
     "execution_count": 67,
     "metadata": {},
     "output_type": "execute_result"
    }
   ],
   "source": [
    "df.isna().sum()"
   ]
  },
  {
   "cell_type": "markdown",
   "metadata": {},
   "source": [
    "Estudo sobre as colunas \"Data_Inicio_Sintomas\", \"Idade\" e \"Genero\""
   ]
  },
  {
   "cell_type": "code",
   "execution_count": 97,
   "metadata": {},
   "outputs": [
    {
     "name": "stdout",
     "output_type": "stream",
     "text": [
      "(244724, 19)\n"
     ]
    }
   ],
   "source": [
    "filtro_data = df[df[\"Data_Inicio_Sintomas\"].isna()]\n",
    "print(filtro_data.shape)"
   ]
  },
  {
   "cell_type": "code",
   "execution_count": 98,
   "metadata": {},
   "outputs": [
    {
     "name": "stdout",
     "output_type": "stream",
     "text": [
      "(214413, 19)\n"
     ]
    }
   ],
   "source": [
    "filtro_data_idade = filtro_data[filtro_data['Idade'].isna()]\n",
    "print(filtro_data_idade.shape)"
   ]
  },
  {
   "cell_type": "markdown",
   "metadata": {},
   "source": [
    "É o observado que nos 244.724 casos em que é NaN na coluna \"Data_Inicio_Sintomas\", temos 214.413 linhas com NaN na coluna \"Idade\" também."
   ]
  },
  {
   "cell_type": "code",
   "execution_count": 99,
   "metadata": {},
   "outputs": [
    {
     "name": "stdout",
     "output_type": "stream",
     "text": [
      "(0, 19)\n"
     ]
    }
   ],
   "source": [
    "filtro_data_idade_genero = filtro_data_idade[filtro_data_idade['Genero'].isna()]\n",
    "print(filtro_data_idade_genero.shape)"
   ]
  },
  {
   "cell_type": "code",
   "execution_count": 100,
   "metadata": {},
   "outputs": [
    {
     "name": "stdout",
     "output_type": "stream",
     "text": [
      "(0, 19)\n"
     ]
    }
   ],
   "source": [
    "filtro_data_genero = filtro_data[filtro_data['Genero'].isna()]\n",
    "print(filtro_data_genero.shape)"
   ]
  },
  {
   "cell_type": "code",
   "execution_count": 102,
   "metadata": {},
   "outputs": [
    {
     "name": "stdout",
     "output_type": "stream",
     "text": [
      "(0, 19)\n"
     ]
    }
   ],
   "source": [
    "filtro_idade_genero = df[df['Idade'].isna() & df['Genero'].isna()]\n",
    "print(filtro_idade_genero.shape)"
   ]
  },
  {
   "cell_type": "markdown",
   "metadata": {},
   "source": [
    "# 1 - Existe diferença de incidência de COVID entre homens e mulheres?"
   ]
  },
  {
   "cell_type": "code",
   "execution_count": 2,
   "metadata": {},
   "outputs": [],
   "source": [
    "def ler_csv(path=None):\n",
    "    # Caso não informado o path, usar o caminho padrão da máquina.\n",
    "    if path is None:\n",
    "        path = \"D:\\\\Python\\\\finance\\\\Absolute\\\\Dados\\\\20240120_Casos_e_obitos_ESP\\\\tmp\\\\tmpi0lf4neq\\\\20240120_Casos_e_obitos_ESP.csv\"\n",
    "\n",
    "    # Usando a estrutura try e except para ler o arquivo.\n",
    "    try:\n",
    "        df = pd.read_csv(path, \n",
    "                         sep = ';', # Separador usando ';' como parâmetro\n",
    "                         header=0)  # Define-se a linha 0 como index.\n",
    "        return df\n",
    "    \n",
    "    except Exception as e:\n",
    "        print(f\"Ocorreu um erro ao ler o arquivo: {e}\")\n",
    "        return None"
   ]
  },
  {
   "cell_type": "code",
   "execution_count": 3,
   "metadata": {},
   "outputs": [
    {
     "data": {
      "text/html": [
       "<div>\n",
       "<style scoped>\n",
       "    .dataframe tbody tr th:only-of-type {\n",
       "        vertical-align: middle;\n",
       "    }\n",
       "\n",
       "    .dataframe tbody tr th {\n",
       "        vertical-align: top;\n",
       "    }\n",
       "\n",
       "    .dataframe thead th {\n",
       "        text-align: right;\n",
       "    }\n",
       "</style>\n",
       "<table border=\"1\" class=\"dataframe\">\n",
       "  <thead>\n",
       "    <tr style=\"text-align: right;\">\n",
       "      <th></th>\n",
       "      <th>Asma</th>\n",
       "      <th>Cardiopatia</th>\n",
       "      <th>Data_Inicio_Sintomas</th>\n",
       "      <th>Diabetes</th>\n",
       "      <th>Diagnostico_Covid19</th>\n",
       "      <th>Doenca_Hematologica</th>\n",
       "      <th>Doenca_Hepatica</th>\n",
       "      <th>Doenca_Neurologica</th>\n",
       "      <th>Doenca Renal</th>\n",
       "      <th>Genero</th>\n",
       "      <th>Idade</th>\n",
       "      <th>Imunodepressao</th>\n",
       "      <th>Municipio</th>\n",
       "      <th>Obesidade</th>\n",
       "      <th>Obito</th>\n",
       "      <th>Outros_Fatores_De_Risco</th>\n",
       "      <th>Pneumopatia</th>\n",
       "      <th>Puérpera</th>\n",
       "      <th>Síndrome_De_Down</th>\n",
       "    </tr>\n",
       "  </thead>\n",
       "  <tbody>\n",
       "    <tr>\n",
       "      <th>0</th>\n",
       "      <td>IGNORADO</td>\n",
       "      <td>IGNORADO</td>\n",
       "      <td>15/07/2022</td>\n",
       "      <td>IGNORADO</td>\n",
       "      <td>CONFIRMADO</td>\n",
       "      <td>IGNORADO</td>\n",
       "      <td>IGNORADO</td>\n",
       "      <td>IGNORADO</td>\n",
       "      <td>IGNORADO</td>\n",
       "      <td>MASCULINO</td>\n",
       "      <td>69.0</td>\n",
       "      <td>IGNORADO</td>\n",
       "      <td>ASSIS</td>\n",
       "      <td>IGNORADO</td>\n",
       "      <td>0</td>\n",
       "      <td>IGNORADO</td>\n",
       "      <td>IGNORADO</td>\n",
       "      <td>IGNORADO</td>\n",
       "      <td>IGNORADO</td>\n",
       "    </tr>\n",
       "    <tr>\n",
       "      <th>1</th>\n",
       "      <td>IGNORADO</td>\n",
       "      <td>IGNORADO</td>\n",
       "      <td>21/02/2021</td>\n",
       "      <td>IGNORADO</td>\n",
       "      <td>CONFIRMADO</td>\n",
       "      <td>IGNORADO</td>\n",
       "      <td>IGNORADO</td>\n",
       "      <td>IGNORADO</td>\n",
       "      <td>IGNORADO</td>\n",
       "      <td>FEMININO</td>\n",
       "      <td>60.0</td>\n",
       "      <td>IGNORADO</td>\n",
       "      <td>SÃO PAULO</td>\n",
       "      <td>IGNORADO</td>\n",
       "      <td>0</td>\n",
       "      <td>IGNORADO</td>\n",
       "      <td>IGNORADO</td>\n",
       "      <td>IGNORADO</td>\n",
       "      <td>IGNORADO</td>\n",
       "    </tr>\n",
       "    <tr>\n",
       "      <th>2</th>\n",
       "      <td>IGNORADO</td>\n",
       "      <td>IGNORADO</td>\n",
       "      <td>23/06/2021</td>\n",
       "      <td>IGNORADO</td>\n",
       "      <td>CONFIRMADO</td>\n",
       "      <td>IGNORADO</td>\n",
       "      <td>IGNORADO</td>\n",
       "      <td>IGNORADO</td>\n",
       "      <td>IGNORADO</td>\n",
       "      <td>MASCULINO</td>\n",
       "      <td>58.0</td>\n",
       "      <td>IGNORADO</td>\n",
       "      <td>ARARAQUARA</td>\n",
       "      <td>IGNORADO</td>\n",
       "      <td>0</td>\n",
       "      <td>IGNORADO</td>\n",
       "      <td>IGNORADO</td>\n",
       "      <td>IGNORADO</td>\n",
       "      <td>IGNORADO</td>\n",
       "    </tr>\n",
       "    <tr>\n",
       "      <th>3</th>\n",
       "      <td>IGNORADO</td>\n",
       "      <td>IGNORADO</td>\n",
       "      <td>03/02/2021</td>\n",
       "      <td>IGNORADO</td>\n",
       "      <td>CONFIRMADO</td>\n",
       "      <td>IGNORADO</td>\n",
       "      <td>IGNORADO</td>\n",
       "      <td>IGNORADO</td>\n",
       "      <td>IGNORADO</td>\n",
       "      <td>FEMININO</td>\n",
       "      <td>45.0</td>\n",
       "      <td>IGNORADO</td>\n",
       "      <td>SÃO PAULO</td>\n",
       "      <td>IGNORADO</td>\n",
       "      <td>0</td>\n",
       "      <td>IGNORADO</td>\n",
       "      <td>IGNORADO</td>\n",
       "      <td>IGNORADO</td>\n",
       "      <td>IGNORADO</td>\n",
       "    </tr>\n",
       "    <tr>\n",
       "      <th>4</th>\n",
       "      <td>IGNORADO</td>\n",
       "      <td>IGNORADO</td>\n",
       "      <td>23/02/2021</td>\n",
       "      <td>IGNORADO</td>\n",
       "      <td>CONFIRMADO</td>\n",
       "      <td>IGNORADO</td>\n",
       "      <td>IGNORADO</td>\n",
       "      <td>IGNORADO</td>\n",
       "      <td>IGNORADO</td>\n",
       "      <td>FEMININO</td>\n",
       "      <td>42.0</td>\n",
       "      <td>IGNORADO</td>\n",
       "      <td>SÃO PAULO</td>\n",
       "      <td>IGNORADO</td>\n",
       "      <td>0</td>\n",
       "      <td>IGNORADO</td>\n",
       "      <td>IGNORADO</td>\n",
       "      <td>IGNORADO</td>\n",
       "      <td>IGNORADO</td>\n",
       "    </tr>\n",
       "  </tbody>\n",
       "</table>\n",
       "</div>"
      ],
      "text/plain": [
       "       Asma Cardiopatia Data_Inicio_Sintomas  Diabetes Diagnostico_Covid19  \\\n",
       "0  IGNORADO    IGNORADO           15/07/2022  IGNORADO          CONFIRMADO   \n",
       "1  IGNORADO    IGNORADO           21/02/2021  IGNORADO          CONFIRMADO   \n",
       "2  IGNORADO    IGNORADO           23/06/2021  IGNORADO          CONFIRMADO   \n",
       "3  IGNORADO    IGNORADO           03/02/2021  IGNORADO          CONFIRMADO   \n",
       "4  IGNORADO    IGNORADO           23/02/2021  IGNORADO          CONFIRMADO   \n",
       "\n",
       "  Doenca_Hematologica Doenca_Hepatica Doenca_Neurologica Doenca Renal  \\\n",
       "0            IGNORADO        IGNORADO           IGNORADO     IGNORADO   \n",
       "1            IGNORADO        IGNORADO           IGNORADO     IGNORADO   \n",
       "2            IGNORADO        IGNORADO           IGNORADO     IGNORADO   \n",
       "3            IGNORADO        IGNORADO           IGNORADO     IGNORADO   \n",
       "4            IGNORADO        IGNORADO           IGNORADO     IGNORADO   \n",
       "\n",
       "      Genero  Idade Imunodepressao   Municipio Obesidade  Obito  \\\n",
       "0  MASCULINO   69.0       IGNORADO       ASSIS  IGNORADO      0   \n",
       "1   FEMININO   60.0       IGNORADO   SÃO PAULO  IGNORADO      0   \n",
       "2  MASCULINO   58.0       IGNORADO  ARARAQUARA  IGNORADO      0   \n",
       "3   FEMININO   45.0       IGNORADO   SÃO PAULO  IGNORADO      0   \n",
       "4   FEMININO   42.0       IGNORADO   SÃO PAULO  IGNORADO      0   \n",
       "\n",
       "  Outros_Fatores_De_Risco Pneumopatia  Puérpera Síndrome_De_Down  \n",
       "0                IGNORADO    IGNORADO  IGNORADO         IGNORADO  \n",
       "1                IGNORADO    IGNORADO  IGNORADO         IGNORADO  \n",
       "2                IGNORADO    IGNORADO  IGNORADO         IGNORADO  \n",
       "3                IGNORADO    IGNORADO  IGNORADO         IGNORADO  \n",
       "4                IGNORADO    IGNORADO  IGNORADO         IGNORADO  "
      ]
     },
     "execution_count": 3,
     "metadata": {},
     "output_type": "execute_result"
    }
   ],
   "source": [
    "exercicio_1 = ler_csv()\n",
    "exercicio_1.head()"
   ]
  },
  {
   "cell_type": "code",
   "execution_count": 16,
   "metadata": {},
   "outputs": [
    {
     "data": {
      "text/plain": [
       "(6770928, 19)"
      ]
     },
     "execution_count": 16,
     "metadata": {},
     "output_type": "execute_result"
    }
   ],
   "source": [
    "exercicio_1.shape"
   ]
  },
  {
   "cell_type": "code",
   "execution_count": 4,
   "metadata": {},
   "outputs": [
    {
     "data": {
      "text/plain": [
       "Asma                            0\n",
       "Cardiopatia                     0\n",
       "Data_Inicio_Sintomas       244724\n",
       "Diabetes                        0\n",
       "Diagnostico_Covid19             0\n",
       "Doenca_Hematologica             0\n",
       "Doenca_Hepatica                 0\n",
       "Doenca_Neurologica              0\n",
       "Doenca Renal                    0\n",
       "Genero                          1\n",
       "Idade                      221457\n",
       "Imunodepressao                  0\n",
       "Municipio                       0\n",
       "Obesidade                       0\n",
       "Obito                           0\n",
       "Outros_Fatores_De_Risco         0\n",
       "Pneumopatia                     0\n",
       "Puérpera                        0\n",
       "Síndrome_De_Down                0\n",
       "dtype: int64"
      ]
     },
     "execution_count": 4,
     "metadata": {},
     "output_type": "execute_result"
    }
   ],
   "source": [
    "exercicio_1.isna().sum()"
   ]
  },
  {
   "cell_type": "code",
   "execution_count": 8,
   "metadata": {},
   "outputs": [
    {
     "data": {
      "text/plain": [
       "FEMININO      3714415\n",
       "MASCULINO     3053061\n",
       "INDEFINIDO       3442\n",
       "IGNORADO            9\n",
       "Name: Genero, dtype: int64"
      ]
     },
     "execution_count": 8,
     "metadata": {},
     "output_type": "execute_result"
    }
   ],
   "source": [
    "exercicio_1['Genero'].value_counts()"
   ]
  },
  {
   "cell_type": "markdown",
   "metadata": {},
   "source": [
    "Realizaremos os seguintes tratamentos:\n",
    "<li>Tratar os dados da coluna \"Genero\", retirando os NaN e os dados divergentes de FEMININO e MASCULINO</li>\n",
    "<li>Obter o número de casos para FEMININO e MASCULINO</li>\n",
    "<li>Obter o número de Óbitos para FEMININO e MASCULINO</li>\n",
    "<li>Obter a taxa de mortalidade para FEMININO e MASCULINO</li>\n",
    "<li>Estudar qual apresenta mais casos de doenças Pré-Existentes</li>\n"
   ]
  },
  {
   "cell_type": "markdown",
   "metadata": {},
   "source": [
    "## 1.1 - Tratamento da Coluna \"Genero\", removendo os NaN e os dados divergentes"
   ]
  },
  {
   "cell_type": "code",
   "execution_count": 11,
   "metadata": {},
   "outputs": [],
   "source": [
    "def tratamento_coluna_genero(df_dados):\n",
    "\n",
    "    # Realizar o tratamento de excluir as linhas que são vazias na coluna 'Idade'\n",
    "    try:\n",
    "        # Verificar se a coluna 'Idade' existe no DataFrame\n",
    "        if 'Genero' not in df_dados.columns:\n",
    "            raise KeyError(\"A coluna 'Genero' não existe no DataFrame.\")\n",
    "        \n",
    "        # Excluir linhas com NaN na coluna 'Idade'\n",
    "        df_dados = df_dados.dropna(subset=['Genero'])\n",
    "\n",
    "        # Exculir linhas que divergem de \"FEMININO\" e \"MASCULINO\"\n",
    "        df_dados['Genero'] = df_dados['Genero'].astype(str)\n",
    "        df_dados = df_dados[(df_dados['Genero'] != \"INDEFINIDO\") & (df_dados['Genero'] != \"IGNORADO\")]\n",
    "\n",
    "        # Resetar os índices do DataFrame\n",
    "        df_dados = df_dados.reset_index(drop=True)\n",
    "\n",
    "    except KeyError as e:\n",
    "        print(f\"Erro de chave: {e}\")\n",
    "    except Exception as e:\n",
    "        print(f\"Ocorreu um erro ao realizar o tratamento dos dados: {e}\")\n",
    "\n",
    "    return df_dados"
   ]
  },
  {
   "cell_type": "code",
   "execution_count": 12,
   "metadata": {},
   "outputs": [],
   "source": [
    "novo_exercicio_1 = tratamento_coluna_genero(df_dados=exercicio_1)"
   ]
  },
  {
   "cell_type": "code",
   "execution_count": 13,
   "metadata": {},
   "outputs": [
    {
     "data": {
      "text/plain": [
       "FEMININO     3714415\n",
       "MASCULINO    3053061\n",
       "Name: Genero, dtype: int64"
      ]
     },
     "execution_count": 13,
     "metadata": {},
     "output_type": "execute_result"
    }
   ],
   "source": [
    "novo_exercicio_1['Genero'].value_counts()"
   ]
  },
  {
   "cell_type": "code",
   "execution_count": 15,
   "metadata": {},
   "outputs": [
    {
     "data": {
      "text/plain": [
       "(6767476, 19)"
      ]
     },
     "execution_count": 15,
     "metadata": {},
     "output_type": "execute_result"
    }
   ],
   "source": [
    "novo_exercicio_1.shape"
   ]
  },
  {
   "cell_type": "markdown",
   "metadata": {},
   "source": [
    "## 1.2 - Obter casos de COVID e Óbitos, consolidando a Taxa de Mortalidade"
   ]
  },
  {
   "cell_type": "code",
   "execution_count": 19,
   "metadata": {},
   "outputs": [
    {
     "name": "stdout",
     "output_type": "stream",
     "text": [
      "Genero     Obito\n",
      "FEMININO   0        3634564\n",
      "           1          79851\n",
      "MASCULINO  0        2950561\n",
      "           1         102500\n",
      "Name: Genero, dtype: int64\n"
     ]
    }
   ],
   "source": [
    "grupo = novo_exercicio_1.groupby(['Genero', 'Obito'])['Genero'].count()\n",
    "print(grupo)"
   ]
  },
  {
   "cell_type": "code",
   "execution_count": 28,
   "metadata": {},
   "outputs": [
    {
     "data": {
      "text/plain": [
       "2950561"
      ]
     },
     "execution_count": 28,
     "metadata": {},
     "output_type": "execute_result"
    }
   ],
   "source": [
    "grupo.loc['MASCULINO',0]"
   ]
  },
  {
   "cell_type": "code",
   "execution_count": 108,
   "metadata": {},
   "outputs": [],
   "source": [
    "def casos_covid_obito(df_dados):\n",
    "    try:\n",
    "        # Fazendo uma cópia do DataFrame para evitar modificar o original\n",
    "        df_dados = df_dados.copy()\n",
    "\n",
    "        # Agrupamento dos dados por 'Genero' e 'Obito' e contagem dos casos\n",
    "        dados = df_dados.groupby(['Genero', 'Obito'])['Genero'].count()\n",
    "\n",
    "        # Total de Casos de Covid em 'FEMININO'\n",
    "        total_fem = dados.loc['FEMININO', 0] + dados.loc['FEMININO', 1]\n",
    "\n",
    "        # Total de Óbitos de Covid em 'FEMININO'\n",
    "        total_obt_fem = dados.loc['FEMININO', 1]\n",
    "\n",
    "        # Total de Casos de Covid em 'MASCULINO'\n",
    "        total_mas = dados.loc['MASCULINO', 0] + dados.loc['MASCULINO', 1]\n",
    "\n",
    "        # Total de Óbitos de Covid em 'MASCULINO'\n",
    "        total_obt_mas = dados.loc['MASCULINO', 1]\n",
    "\n",
    "        # Taxa do Total de Casos de COVID em 'FEMININ0'\n",
    "        total_porc_fem = (total_fem / (total_fem + total_mas)) * 100\n",
    "\n",
    "        # Taxa do Total de Casos de COVID em 'MASCULINO'\n",
    "        total_porc_masc = (total_mas / (total_fem + total_mas)) * 100\n",
    "\n",
    "        # Taxa do Total do Obito de COVID em 'FEMININ0'\n",
    "        total_perc_obit_fem = (total_obt_fem / (total_obt_fem + total_obt_mas)) * 100\n",
    "\n",
    "        # Taxa do Total do Obito de COVID em 'MASCULINO'\n",
    "        total_perc_obit_mas = (total_obt_mas / (total_obt_fem + total_obt_mas)) * 100\n",
    "\n",
    "        # Taxa de Mortalidade 'FEMININA'\n",
    "        taxa_mort_fem = (total_obt_fem / total_fem) * 100\n",
    "\n",
    "        # Taxa de Mortalidade 'MASCULINA'\n",
    "        taxa_mort_mas = (total_obt_mas / total_mas) * 100\n",
    "\n",
    "        # Criação de um DataFrame com os resultados\n",
    "        data = [\n",
    "            ['FEMININO', total_fem, total_obt_fem, taxa_mort_fem, total_porc_fem, total_perc_obit_fem],\n",
    "            ['MASCULINO', total_mas, total_obt_mas, taxa_mort_mas, total_porc_masc, total_perc_obit_mas]\n",
    "        ]\n",
    "\n",
    "        new_dados = pd.DataFrame(data=data, columns=['Genero', 'Total de Casos', 'Total de Óbitos', 'Taxa de Mortalidade', 'Taxa do Total de COVID', 'Taxa do Total dos Óbitos'])\n",
    "\n",
    "        return new_dados\n",
    "\n",
    "    except KeyError as e:\n",
    "        print(f\"Erro de chave: {e}. Verifique se as colunas 'Genero' e 'Obito' estão presentes no DataFrame e se há dados suficientes para os grupos especificados.\")\n",
    "        return None\n",
    "\n",
    "    except ZeroDivisionError as e:\n",
    "        print(f\"Erro de divisão por zero: {e}. Verifique se há casos suficientes em cada grupo para calcular as taxas de mortalidade.\")\n",
    "        return None\n",
    "\n",
    "    except Exception as e:\n",
    "        print(f\"Ocorreu um erro ao processar os dados: {e}\")\n",
    "        return None"
   ]
  },
  {
   "cell_type": "code",
   "execution_count": 137,
   "metadata": {},
   "outputs": [],
   "source": [
    "def grafico_taxa_mortalidade(df_dados):\n",
    "    # Fazendo uma cópia do DataFrame para evitar modificar o original\n",
    "    df_dados = df_dados.copy()\n",
    "    \n",
    "    # Criar uma figura com 5 subplots, um embaixo do outro\n",
    "    fig, axs = plt.subplots(5, 1, figsize=(14, 28))\n",
    "    \n",
    "    # Primeiro gráfico: Total de Casos\n",
    "    axs[0].bar(df_dados['Genero'], df_dados['Total de Casos'], color='steelblue')\n",
    "    axs[0].set_xlabel('Gênero', fontsize=12, fontweight='bold')\n",
    "    axs[0].set_ylabel('Total de Casos de COVID', fontsize=12, fontweight='bold')\n",
    "    axs[0].set_title('Total de Casos de COVID por Gênero')\n",
    "    axs[0].grid(axis='y', linestyle='--', color='black')\n",
    "    axs[0].set_ylim(0, df_dados['Total de Casos'].max() * 1.1)  # Ajuste de altura\n",
    "    \n",
    "    for i, valor in enumerate(df_dados['Total de Casos']):\n",
    "        axs[0].text(i, valor + 100, str(valor), ha='center', va='bottom', fontsize=11)\n",
    "    \n",
    "    # Segundo gráfico: Taxa do Total de Casos\n",
    "    axs[1].bar(df_dados['Genero'], df_dados['Taxa do Total de COVID'], color='royalblue')\n",
    "    axs[1].set_xlabel('Gênero', fontsize=12, fontweight='bold')\n",
    "    axs[1].set_ylabel('Taxa do Total de Casos de COVID (%)', fontsize=12, fontweight='bold')\n",
    "    axs[1].set_title('Taxa do Total de Casos de COVID por Gênero')\n",
    "    axs[1].grid(axis='y', linestyle='--', color='black')\n",
    "    axs[1].set_ylim(0, df_dados['Taxa do Total de COVID'].max() * 1.1)  # Ajuste de altura\n",
    "    \n",
    "    for i, valor in enumerate(df_dados['Taxa do Total de COVID']):\n",
    "        axs[1].text(i, valor, f\"{valor:.2f}%\", ha='center', va='bottom', fontsize=11)\n",
    "\n",
    "    # Terceiro gráfico: Total de Óbitos\n",
    "    axs[2].bar(df_dados['Genero'], df_dados['Total de Óbitos'], color='lightblue')\n",
    "    axs[2].set_xlabel('Gênero', fontsize=12, fontweight='bold')\n",
    "    axs[2].set_ylabel('Total de Óbitos de COVID', fontsize=12, fontweight='bold')\n",
    "    axs[2].set_title('Total de Óbitos de COVID por Gênero')\n",
    "    axs[2].grid(axis='y', linestyle='--', color='black')\n",
    "    axs[2].set_ylim(0, df_dados['Total de Óbitos'].max() * 1.2)  # Ajuste de altura\n",
    "    \n",
    "    for i, valor in enumerate(df_dados['Total de Óbitos']):\n",
    "        axs[2].text(i, valor + 1, str(valor), ha='center', va='bottom', fontsize=11)\n",
    "\n",
    "    # Quarto gráfico: Taxa do Total de Óbitos\n",
    "    axs[3].bar(df_dados['Genero'], df_dados['Taxa do Total dos Óbitos'], color='limegreen')\n",
    "    axs[3].set_xlabel('Gênero', fontsize=12, fontweight='bold')\n",
    "    axs[3].set_ylabel('Taxa do Total de Óbitos de COVID (%)', fontsize=12, fontweight='bold')\n",
    "    axs[3].set_title('Taxa do Total de Óbitos de COVID por Gênero')\n",
    "    axs[3].grid(axis='y', linestyle='--', color='black')\n",
    "    axs[3].set_ylim(0, df_dados['Taxa do Total dos Óbitos'].max() * 1.1)  # Ajuste de altura\n",
    "    \n",
    "    for i, valor in enumerate(df_dados['Taxa do Total dos Óbitos']):\n",
    "        axs[3].text(i, valor + 1, f\"{valor:.2f}%\", ha='center', va='bottom', fontsize=11)\n",
    "    \n",
    "    # Quinto gráfico: Taxa de Mortalidade\n",
    "    axs[4].bar(df_dados['Genero'], df_dados['Taxa de Mortalidade'], color='darkgreen')\n",
    "    axs[4].set_xlabel('Gênero', fontsize=12, fontweight='bold')\n",
    "    axs[4].set_ylabel('Taxa de Mortalidade (%)', fontsize=12, fontweight='bold')\n",
    "    axs[4].set_title('Taxa de Mortalidade por COVID por Gênero')\n",
    "    axs[4].grid(axis='y', linestyle='--', color='black')\n",
    "    axs[4].set_ylim(0, df_dados['Taxa de Mortalidade'].max() * 1.1)  # Ajuste de altura\n",
    "    \n",
    "    for i, valor in enumerate(df_dados['Taxa de Mortalidade']):\n",
    "        axs[4].text(i, valor, f\"{valor:.2f}%\", ha='center', va='bottom', fontsize=11)\n",
    "    \n",
    "    # Ajustar layout para que os gráficos não se sobreponham\n",
    "    plt.tight_layout()\n",
    "    \n",
    "    # Ajustar o espaçamento vertical entre os subplots\n",
    "    plt.subplots_adjust(hspace=0.5)  # Ajuste o valor conforme necessário\n",
    "    \n",
    "    # Adicionar um título geral à figura\n",
    "    fig.suptitle('Análise de COVID-19 por Gênero', fontsize=16, y=1.02)\n",
    "    \n",
    "    # Mostrar os gráficos\n",
    "    plt.show()"
   ]
  },
  {
   "cell_type": "code",
   "execution_count": 110,
   "metadata": {},
   "outputs": [],
   "source": [
    "planilha_grafico_ex_1 = casos_covid_obito(df_dados=novo_exercicio_1)"
   ]
  },
  {
   "cell_type": "code",
   "execution_count": 111,
   "metadata": {},
   "outputs": [
    {
     "data": {
      "text/html": [
       "<div>\n",
       "<style scoped>\n",
       "    .dataframe tbody tr th:only-of-type {\n",
       "        vertical-align: middle;\n",
       "    }\n",
       "\n",
       "    .dataframe tbody tr th {\n",
       "        vertical-align: top;\n",
       "    }\n",
       "\n",
       "    .dataframe thead th {\n",
       "        text-align: right;\n",
       "    }\n",
       "</style>\n",
       "<table border=\"1\" class=\"dataframe\">\n",
       "  <thead>\n",
       "    <tr style=\"text-align: right;\">\n",
       "      <th></th>\n",
       "      <th>Genero</th>\n",
       "      <th>Total de Casos</th>\n",
       "      <th>Total de Óbitos</th>\n",
       "      <th>Taxa de Mortalidade</th>\n",
       "      <th>Taxa do Total de COVID</th>\n",
       "      <th>Taxa do Total dos Óbitos</th>\n",
       "    </tr>\n",
       "  </thead>\n",
       "  <tbody>\n",
       "    <tr>\n",
       "      <th>0</th>\n",
       "      <td>FEMININO</td>\n",
       "      <td>3714415</td>\n",
       "      <td>79851</td>\n",
       "      <td>2.149760</td>\n",
       "      <td>54.886268</td>\n",
       "      <td>43.789724</td>\n",
       "    </tr>\n",
       "    <tr>\n",
       "      <th>1</th>\n",
       "      <td>MASCULINO</td>\n",
       "      <td>3053061</td>\n",
       "      <td>102500</td>\n",
       "      <td>3.357286</td>\n",
       "      <td>45.113732</td>\n",
       "      <td>56.210276</td>\n",
       "    </tr>\n",
       "  </tbody>\n",
       "</table>\n",
       "</div>"
      ],
      "text/plain": [
       "      Genero  Total de Casos  Total de Óbitos  Taxa de Mortalidade  \\\n",
       "0   FEMININO         3714415            79851             2.149760   \n",
       "1  MASCULINO         3053061           102500             3.357286   \n",
       "\n",
       "   Taxa do Total de COVID  Taxa do Total dos Óbitos  \n",
       "0               54.886268                 43.789724  \n",
       "1               45.113732                 56.210276  "
      ]
     },
     "metadata": {},
     "output_type": "display_data"
    }
   ],
   "source": [
    "display(planilha_grafico_ex_1)"
   ]
  },
  {
   "cell_type": "code",
   "execution_count": 138,
   "metadata": {},
   "outputs": [
    {
     "data": {
      "image/png": "[encoded data removed]",
      "text/plain": [
       "<Figure size 1400x2800 with 5 Axes>"
      ]
     },
     "metadata": {},
     "output_type": "display_data"
    }
   ],
   "source": [
    "grafico_taxa_mortalidade(df_dados=planilha_grafico_ex_1)"
   ]
  },
  {
   "cell_type": "markdown",
   "metadata": {},
   "source": [
    "### Resposta: \n",
    "\n",
    "Pode-se observar que as mulheres são a maioria dos casos de COVID, porém, os Homens são a maioria das mortes"
   ]
  },
  {
   "cell_type": "markdown",
   "metadata": {},
   "source": [
    "# 2 - Faça um gráfico da mortalidade por faixas de idade."
   ]
  },
  {
   "cell_type": "markdown",
   "metadata": {},
   "source": [
    "É preciso definar as faixas estárias, segue a divisão:\n",
    "<li> Infantil:      0 - 12 anos </li>\n",
    "<li> Adolescente:   13 - 17 anos </li>\n",
    "<li> Adulto:        18 - 64 anos </li>\n",
    "<li> Idoso :        +65 anos </li>"
   ]
  },
  {
   "cell_type": "code",
   "execution_count": 2,
   "metadata": {},
   "outputs": [],
   "source": [
    "def ler_csv(path=None):\n",
    "    # Caso não informado o path, usar o caminho padrão da máquina.\n",
    "    if path is None:\n",
    "        path = \"D:\\\\Python\\\\finance\\\\Absolute\\\\Dados\\\\20240120_Casos_e_obitos_ESP\\\\tmp\\\\tmpi0lf4neq\\\\20240120_Casos_e_obitos_ESP.csv\"\n",
    "\n",
    "    # Usando a estrutura try e except para ler o arquivo.\n",
    "    try:\n",
    "        df = pd.read_csv(path, \n",
    "                         sep = ';', # Separador usando ';' como parâmetro\n",
    "                         header=0)  # Define-se a linha 0 como index.\n",
    "        return df\n",
    "    \n",
    "    except Exception as e:\n",
    "        print(f\"Ocorreu um erro ao ler o arquivo: {e}\")\n",
    "        return None"
   ]
  },
  {
   "cell_type": "code",
   "execution_count": 22,
   "metadata": {},
   "outputs": [
    {
     "data": {
      "text/html": [
       "<div>\n",
       "<style scoped>\n",
       "    .dataframe tbody tr th:only-of-type {\n",
       "        vertical-align: middle;\n",
       "    }\n",
       "\n",
       "    .dataframe tbody tr th {\n",
       "        vertical-align: top;\n",
       "    }\n",
       "\n",
       "    .dataframe thead th {\n",
       "        text-align: right;\n",
       "    }\n",
       "</style>\n",
       "<table border=\"1\" class=\"dataframe\">\n",
       "  <thead>\n",
       "    <tr style=\"text-align: right;\">\n",
       "      <th></th>\n",
       "      <th>Asma</th>\n",
       "      <th>Cardiopatia</th>\n",
       "      <th>Data_Inicio_Sintomas</th>\n",
       "      <th>Diabetes</th>\n",
       "      <th>Diagnostico_Covid19</th>\n",
       "      <th>Doenca_Hematologica</th>\n",
       "      <th>Doenca_Hepatica</th>\n",
       "      <th>Doenca_Neurologica</th>\n",
       "      <th>Doenca Renal</th>\n",
       "      <th>Genero</th>\n",
       "      <th>Idade</th>\n",
       "      <th>Imunodepressao</th>\n",
       "      <th>Municipio</th>\n",
       "      <th>Obesidade</th>\n",
       "      <th>Obito</th>\n",
       "      <th>Outros_Fatores_De_Risco</th>\n",
       "      <th>Pneumopatia</th>\n",
       "      <th>Puérpera</th>\n",
       "      <th>Síndrome_De_Down</th>\n",
       "    </tr>\n",
       "  </thead>\n",
       "  <tbody>\n",
       "    <tr>\n",
       "      <th>0</th>\n",
       "      <td>IGNORADO</td>\n",
       "      <td>IGNORADO</td>\n",
       "      <td>15/07/2022</td>\n",
       "      <td>IGNORADO</td>\n",
       "      <td>CONFIRMADO</td>\n",
       "      <td>IGNORADO</td>\n",
       "      <td>IGNORADO</td>\n",
       "      <td>IGNORADO</td>\n",
       "      <td>IGNORADO</td>\n",
       "      <td>MASCULINO</td>\n",
       "      <td>69.0</td>\n",
       "      <td>IGNORADO</td>\n",
       "      <td>ASSIS</td>\n",
       "      <td>IGNORADO</td>\n",
       "      <td>0</td>\n",
       "      <td>IGNORADO</td>\n",
       "      <td>IGNORADO</td>\n",
       "      <td>IGNORADO</td>\n",
       "      <td>IGNORADO</td>\n",
       "    </tr>\n",
       "    <tr>\n",
       "      <th>1</th>\n",
       "      <td>IGNORADO</td>\n",
       "      <td>IGNORADO</td>\n",
       "      <td>21/02/2021</td>\n",
       "      <td>IGNORADO</td>\n",
       "      <td>CONFIRMADO</td>\n",
       "      <td>IGNORADO</td>\n",
       "      <td>IGNORADO</td>\n",
       "      <td>IGNORADO</td>\n",
       "      <td>IGNORADO</td>\n",
       "      <td>FEMININO</td>\n",
       "      <td>60.0</td>\n",
       "      <td>IGNORADO</td>\n",
       "      <td>SÃO PAULO</td>\n",
       "      <td>IGNORADO</td>\n",
       "      <td>0</td>\n",
       "      <td>IGNORADO</td>\n",
       "      <td>IGNORADO</td>\n",
       "      <td>IGNORADO</td>\n",
       "      <td>IGNORADO</td>\n",
       "    </tr>\n",
       "    <tr>\n",
       "      <th>2</th>\n",
       "      <td>IGNORADO</td>\n",
       "      <td>IGNORADO</td>\n",
       "      <td>23/06/2021</td>\n",
       "      <td>IGNORADO</td>\n",
       "      <td>CONFIRMADO</td>\n",
       "      <td>IGNORADO</td>\n",
       "      <td>IGNORADO</td>\n",
       "      <td>IGNORADO</td>\n",
       "      <td>IGNORADO</td>\n",
       "      <td>MASCULINO</td>\n",
       "      <td>58.0</td>\n",
       "      <td>IGNORADO</td>\n",
       "      <td>ARARAQUARA</td>\n",
       "      <td>IGNORADO</td>\n",
       "      <td>0</td>\n",
       "      <td>IGNORADO</td>\n",
       "      <td>IGNORADO</td>\n",
       "      <td>IGNORADO</td>\n",
       "      <td>IGNORADO</td>\n",
       "    </tr>\n",
       "    <tr>\n",
       "      <th>3</th>\n",
       "      <td>IGNORADO</td>\n",
       "      <td>IGNORADO</td>\n",
       "      <td>03/02/2021</td>\n",
       "      <td>IGNORADO</td>\n",
       "      <td>CONFIRMADO</td>\n",
       "      <td>IGNORADO</td>\n",
       "      <td>IGNORADO</td>\n",
       "      <td>IGNORADO</td>\n",
       "      <td>IGNORADO</td>\n",
       "      <td>FEMININO</td>\n",
       "      <td>45.0</td>\n",
       "      <td>IGNORADO</td>\n",
       "      <td>SÃO PAULO</td>\n",
       "      <td>IGNORADO</td>\n",
       "      <td>0</td>\n",
       "      <td>IGNORADO</td>\n",
       "      <td>IGNORADO</td>\n",
       "      <td>IGNORADO</td>\n",
       "      <td>IGNORADO</td>\n",
       "    </tr>\n",
       "    <tr>\n",
       "      <th>4</th>\n",
       "      <td>IGNORADO</td>\n",
       "      <td>IGNORADO</td>\n",
       "      <td>23/02/2021</td>\n",
       "      <td>IGNORADO</td>\n",
       "      <td>CONFIRMADO</td>\n",
       "      <td>IGNORADO</td>\n",
       "      <td>IGNORADO</td>\n",
       "      <td>IGNORADO</td>\n",
       "      <td>IGNORADO</td>\n",
       "      <td>FEMININO</td>\n",
       "      <td>42.0</td>\n",
       "      <td>IGNORADO</td>\n",
       "      <td>SÃO PAULO</td>\n",
       "      <td>IGNORADO</td>\n",
       "      <td>0</td>\n",
       "      <td>IGNORADO</td>\n",
       "      <td>IGNORADO</td>\n",
       "      <td>IGNORADO</td>\n",
       "      <td>IGNORADO</td>\n",
       "    </tr>\n",
       "  </tbody>\n",
       "</table>\n",
       "</div>"
      ],
      "text/plain": [
       "       Asma Cardiopatia Data_Inicio_Sintomas  Diabetes Diagnostico_Covid19  \\\n",
       "0  IGNORADO    IGNORADO           15/07/2022  IGNORADO          CONFIRMADO   \n",
       "1  IGNORADO    IGNORADO           21/02/2021  IGNORADO          CONFIRMADO   \n",
       "2  IGNORADO    IGNORADO           23/06/2021  IGNORADO          CONFIRMADO   \n",
       "3  IGNORADO    IGNORADO           03/02/2021  IGNORADO          CONFIRMADO   \n",
       "4  IGNORADO    IGNORADO           23/02/2021  IGNORADO          CONFIRMADO   \n",
       "\n",
       "  Doenca_Hematologica Doenca_Hepatica Doenca_Neurologica Doenca Renal  \\\n",
       "0            IGNORADO        IGNORADO           IGNORADO     IGNORADO   \n",
       "1            IGNORADO        IGNORADO           IGNORADO     IGNORADO   \n",
       "2            IGNORADO        IGNORADO           IGNORADO     IGNORADO   \n",
       "3            IGNORADO        IGNORADO           IGNORADO     IGNORADO   \n",
       "4            IGNORADO        IGNORADO           IGNORADO     IGNORADO   \n",
       "\n",
       "      Genero  Idade Imunodepressao   Municipio Obesidade  Obito  \\\n",
       "0  MASCULINO   69.0       IGNORADO       ASSIS  IGNORADO      0   \n",
       "1   FEMININO   60.0       IGNORADO   SÃO PAULO  IGNORADO      0   \n",
       "2  MASCULINO   58.0       IGNORADO  ARARAQUARA  IGNORADO      0   \n",
       "3   FEMININO   45.0       IGNORADO   SÃO PAULO  IGNORADO      0   \n",
       "4   FEMININO   42.0       IGNORADO   SÃO PAULO  IGNORADO      0   \n",
       "\n",
       "  Outros_Fatores_De_Risco Pneumopatia  Puérpera Síndrome_De_Down  \n",
       "0                IGNORADO    IGNORADO  IGNORADO         IGNORADO  \n",
       "1                IGNORADO    IGNORADO  IGNORADO         IGNORADO  \n",
       "2                IGNORADO    IGNORADO  IGNORADO         IGNORADO  \n",
       "3                IGNORADO    IGNORADO  IGNORADO         IGNORADO  \n",
       "4                IGNORADO    IGNORADO  IGNORADO         IGNORADO  "
      ]
     },
     "execution_count": 22,
     "metadata": {},
     "output_type": "execute_result"
    }
   ],
   "source": [
    "exercio_2 = ler_csv()\n",
    "exercio_2.head()"
   ]
  },
  {
   "cell_type": "markdown",
   "metadata": {},
   "source": [
    "Será realizado os seguintes tratamentos:\n",
    "<li>Excluir as linhas que não apresentam dados na coluna \"Idade\"</li>\n",
    "<li>Adicionar uma nova coluna com nome de \"Faixa_Etaria\"</li>\n",
    "<li>Classificar cada linha de acordo com as Faixas Etárias equivalentes</li>\n",
    "<li>Realizar o calculo do número de casos por Faixa Etária e o número de mortes por Faixa Etária</li>\n",
    "<li>Plotar o gráfico dos dados obtidos</li>\n"
   ]
  },
  {
   "cell_type": "markdown",
   "metadata": {},
   "source": [
    "## 2.1 - Tratamento da Coluna \"Idade\" removendo as linhas NaN."
   ]
  },
  {
   "cell_type": "code",
   "execution_count": 3,
   "metadata": {},
   "outputs": [],
   "source": [
    "def tratamento_coluna_idade(df_dados):\n",
    "\n",
    "    # Realizar o tratamento de excluir as linhas que são vazias na coluna 'Idade'\n",
    "    try:\n",
    "        # Verificar se a coluna 'Idade' existe no DataFrame\n",
    "        if 'Idade' not in df_dados.columns:\n",
    "            raise KeyError(\"A coluna 'Idade' não existe no DataFrame.\")\n",
    "        \n",
    "        # Excluir linhas com NaN na coluna 'Idade'\n",
    "        df_dados = df_dados.dropna(subset=['Idade']).reset_index(drop=True)\n",
    "\n",
    "    except KeyError as e:\n",
    "        print(f\"Erro de chave: {e}\")\n",
    "    except Exception as e:\n",
    "        print(f\"Ocorreu um erro ao realizar o tratamento dos dados: {e}\")\n",
    "\n",
    "    return df_dados"
   ]
  },
  {
   "cell_type": "code",
   "execution_count": 34,
   "metadata": {},
   "outputs": [
    {
     "data": {
      "text/plain": [
       "Asma                           0\n",
       "Cardiopatia                    0\n",
       "Data_Inicio_Sintomas       30311\n",
       "Diabetes                       0\n",
       "Diagnostico_Covid19            0\n",
       "Doenca_Hematologica            0\n",
       "Doenca_Hepatica                0\n",
       "Doenca_Neurologica             0\n",
       "Doenca Renal                   0\n",
       "Genero                         1\n",
       "Idade                          0\n",
       "Imunodepressao                 0\n",
       "Municipio                      0\n",
       "Obesidade                      0\n",
       "Obito                          0\n",
       "Outros_Fatores_De_Risco        0\n",
       "Pneumopatia                    0\n",
       "Puérpera                       0\n",
       "Síndrome_De_Down               0\n",
       "dtype: int64"
      ]
     },
     "execution_count": 34,
     "metadata": {},
     "output_type": "execute_result"
    }
   ],
   "source": [
    "novo_exercio_2 = tratamento_coluna_idade(df_dados=exercio_2)\n",
    "novo_exercio_2.isna().sum()"
   ]
  },
  {
   "cell_type": "markdown",
   "metadata": {},
   "source": [
    "Não temos mais nenhuma linha da coluna \"Idade\" sem dados, agora seguiremos para o tratamento de inserir a nova coluna \"Faixa_Etaria\" e preenche-la"
   ]
  },
  {
   "cell_type": "markdown",
   "metadata": {},
   "source": [
    "## 2.2 - Preenchendo a nova coluna \"Faixa_Etaria\""
   ]
  },
  {
   "cell_type": "code",
   "execution_count": 4,
   "metadata": {},
   "outputs": [],
   "source": [
    "def coluna_faixa_etaria(df_dados):\n",
    "    '''\n",
    "    Adicionar a nova coluna Faixa_Etaria com NaN\n",
    "    '''\n",
    "    try:\n",
    "        # Fazer uma cópia do DataFrame para evitar modificar o original\n",
    "        df_dados = df_dados.copy()\n",
    "\n",
    "        # Verificar se a coluna 'Idade' existe no DataFrame\n",
    "        if 'Idade' not in df_dados.columns:\n",
    "            raise KeyError(\"A coluna 'Idade' não existe no DataFrame.\")\n",
    "        \n",
    "        df_dados['Faixa_Etaria'] = np.nan\n",
    "\n",
    "        '''\n",
    "        Realizar o preenchimento da coluna Faixa_Etaria.\n",
    "        Considerar a seguinte classificação:\n",
    "        Infantil:      0 - 12 anos\n",
    "        Adolescente:   13 - 17 anos\n",
    "        Adulto:        18 - 64 anos\n",
    "        Idoso :        +65 anos \n",
    "\n",
    "        Prencher as linhas da seguinte maneira:\n",
    "        Infantil = 0\n",
    "        Adolescente = 1\n",
    "        Adulto = 2\n",
    "        Idoso = 3\n",
    "        '''\n",
    "        '''\n",
    "        for i in range(0, len(df_dados)):\n",
    "            # Obtemos o elemento da coluna \"Idade\" na lina \"i\".\n",
    "            posicao_i = df_dados['Idade'].iloc[i]\n",
    "\n",
    "            if posicao_i >= 0 and posicao_i <= 12:\n",
    "                df_dados['Faixa_Etaria'].iloc[i] = 0\n",
    "            elif posicao_i >= 13 and posicao_i <= 17:\n",
    "                df_dados['Faixa_Etaria'].iloc[i] = 1\n",
    "            elif posicao_i >= 18 and posicao_i <= 64:\n",
    "                df_dados['Faixa_Etaria'].iloc[i] = 2\n",
    "            else:\n",
    "                df_dados['Faixa_Etaria'].iloc[i] = 3\n",
    "        '''\n",
    "        # Função auxiliar para categorizar a faixa etária\n",
    "        def categorizar_faixa_etaria(idade):\n",
    "            if pd.isna(idade):\n",
    "                return np.nan\n",
    "            elif idade >= 0 and idade <= 12:\n",
    "                return 0\n",
    "            elif idade >= 13 and idade <= 17:\n",
    "                return 1\n",
    "            elif idade >= 18 and idade <= 64:\n",
    "                return 2\n",
    "            elif idade >= 65:\n",
    "                return 3\n",
    "            else:\n",
    "                return np.nan\n",
    "            \n",
    "        # Aplicar a função auxiliar a cada valor da coluna 'Idade'\n",
    "        df_dados['Faixa_Etaria'] = df_dados['Idade'].apply(categorizar_faixa_etaria)\n",
    "\n",
    "        # Converter os valores para inteiros\n",
    "        df_dados['Faixa_Etaria'] = df_dados['Faixa_Etaria'].astype(int)\n",
    "\n",
    "    except KeyError as e:\n",
    "        print(f\"Erro de chave: {e}\")\n",
    "\n",
    "    except Exception as e:\n",
    "        print(f\"Ocorreu um erro ao adicionar a coluna 'Faixa_Etaria': {e}\")\n",
    "\n",
    "    return df_dados"
   ]
  },
  {
   "cell_type": "code",
   "execution_count": 36,
   "metadata": {},
   "outputs": [],
   "source": [
    "novo_exercicio_2_faixa = coluna_faixa_etaria(novo_exercio_2)"
   ]
  },
  {
   "cell_type": "code",
   "execution_count": 30,
   "metadata": {},
   "outputs": [
    {
     "data": {
      "text/html": [
       "<div>\n",
       "<style scoped>\n",
       "    .dataframe tbody tr th:only-of-type {\n",
       "        vertical-align: middle;\n",
       "    }\n",
       "\n",
       "    .dataframe tbody tr th {\n",
       "        vertical-align: top;\n",
       "    }\n",
       "\n",
       "    .dataframe thead th {\n",
       "        text-align: right;\n",
       "    }\n",
       "</style>\n",
       "<table border=\"1\" class=\"dataframe\">\n",
       "  <thead>\n",
       "    <tr style=\"text-align: right;\">\n",
       "      <th></th>\n",
       "      <th>Asma</th>\n",
       "      <th>Cardiopatia</th>\n",
       "      <th>Data_Inicio_Sintomas</th>\n",
       "      <th>Diabetes</th>\n",
       "      <th>Diagnostico_Covid19</th>\n",
       "      <th>Doenca_Hematologica</th>\n",
       "      <th>Doenca_Hepatica</th>\n",
       "      <th>Doenca_Neurologica</th>\n",
       "      <th>Doenca Renal</th>\n",
       "      <th>Genero</th>\n",
       "      <th>Idade</th>\n",
       "      <th>Imunodepressao</th>\n",
       "      <th>Municipio</th>\n",
       "      <th>Obesidade</th>\n",
       "      <th>Obito</th>\n",
       "      <th>Outros_Fatores_De_Risco</th>\n",
       "      <th>Pneumopatia</th>\n",
       "      <th>Puérpera</th>\n",
       "      <th>Síndrome_De_Down</th>\n",
       "      <th>Faixa_Etaria</th>\n",
       "    </tr>\n",
       "  </thead>\n",
       "  <tbody>\n",
       "    <tr>\n",
       "      <th>6770923</th>\n",
       "      <td>IGNORADO</td>\n",
       "      <td>IGNORADO</td>\n",
       "      <td>11/01/2022</td>\n",
       "      <td>IGNORADO</td>\n",
       "      <td>CONFIRMADO</td>\n",
       "      <td>IGNORADO</td>\n",
       "      <td>IGNORADO</td>\n",
       "      <td>IGNORADO</td>\n",
       "      <td>IGNORADO</td>\n",
       "      <td>MASCULINO</td>\n",
       "      <td>1.0</td>\n",
       "      <td>IGNORADO</td>\n",
       "      <td>SÃO BERNARDO DO CAMPO</td>\n",
       "      <td>IGNORADO</td>\n",
       "      <td>0</td>\n",
       "      <td>IGNORADO</td>\n",
       "      <td>IGNORADO</td>\n",
       "      <td>IGNORADO</td>\n",
       "      <td>IGNORADO</td>\n",
       "      <td>0</td>\n",
       "    </tr>\n",
       "    <tr>\n",
       "      <th>6770924</th>\n",
       "      <td>IGNORADO</td>\n",
       "      <td>IGNORADO</td>\n",
       "      <td>18/05/2021</td>\n",
       "      <td>IGNORADO</td>\n",
       "      <td>CONFIRMADO</td>\n",
       "      <td>IGNORADO</td>\n",
       "      <td>IGNORADO</td>\n",
       "      <td>IGNORADO</td>\n",
       "      <td>IGNORADO</td>\n",
       "      <td>MASCULINO</td>\n",
       "      <td>9.0</td>\n",
       "      <td>IGNORADO</td>\n",
       "      <td>ITAQUAQUECETUBA</td>\n",
       "      <td>IGNORADO</td>\n",
       "      <td>0</td>\n",
       "      <td>IGNORADO</td>\n",
       "      <td>IGNORADO</td>\n",
       "      <td>IGNORADO</td>\n",
       "      <td>IGNORADO</td>\n",
       "      <td>0</td>\n",
       "    </tr>\n",
       "    <tr>\n",
       "      <th>6770925</th>\n",
       "      <td>IGNORADO</td>\n",
       "      <td>IGNORADO</td>\n",
       "      <td>02/01/2023</td>\n",
       "      <td>IGNORADO</td>\n",
       "      <td>CONFIRMADO</td>\n",
       "      <td>IGNORADO</td>\n",
       "      <td>IGNORADO</td>\n",
       "      <td>IGNORADO</td>\n",
       "      <td>IGNORADO</td>\n",
       "      <td>MASCULINO</td>\n",
       "      <td>0.0</td>\n",
       "      <td>IGNORADO</td>\n",
       "      <td>CAMPINAS</td>\n",
       "      <td>IGNORADO</td>\n",
       "      <td>0</td>\n",
       "      <td>IGNORADO</td>\n",
       "      <td>IGNORADO</td>\n",
       "      <td>IGNORADO</td>\n",
       "      <td>IGNORADO</td>\n",
       "      <td>0</td>\n",
       "    </tr>\n",
       "    <tr>\n",
       "      <th>6770926</th>\n",
       "      <td>NÃO</td>\n",
       "      <td>SIM</td>\n",
       "      <td>10/05/2020</td>\n",
       "      <td>SIM</td>\n",
       "      <td>CONFIRMADO</td>\n",
       "      <td>NÃO</td>\n",
       "      <td>NÃO</td>\n",
       "      <td>NÃO</td>\n",
       "      <td>NÃO</td>\n",
       "      <td>FEMININO</td>\n",
       "      <td>77.0</td>\n",
       "      <td>NÃO</td>\n",
       "      <td>SÃO PAULO</td>\n",
       "      <td>NÃO</td>\n",
       "      <td>1</td>\n",
       "      <td>IGNORADO</td>\n",
       "      <td>NÃO</td>\n",
       "      <td>NÃO</td>\n",
       "      <td>NÃO</td>\n",
       "      <td>3</td>\n",
       "    </tr>\n",
       "    <tr>\n",
       "      <th>6770927</th>\n",
       "      <td>IGNORADO</td>\n",
       "      <td>IGNORADO</td>\n",
       "      <td>07/03/2021</td>\n",
       "      <td>IGNORADO</td>\n",
       "      <td>CONFIRMADO</td>\n",
       "      <td>IGNORADO</td>\n",
       "      <td>IGNORADO</td>\n",
       "      <td>IGNORADO</td>\n",
       "      <td>IGNORADO</td>\n",
       "      <td>MASCULINO</td>\n",
       "      <td>35.0</td>\n",
       "      <td>IGNORADO</td>\n",
       "      <td>SANTO ANDRÉ</td>\n",
       "      <td>IGNORADO</td>\n",
       "      <td>0</td>\n",
       "      <td>IGNORADO</td>\n",
       "      <td>IGNORADO</td>\n",
       "      <td>IGNORADO</td>\n",
       "      <td>IGNORADO</td>\n",
       "      <td>2</td>\n",
       "    </tr>\n",
       "  </tbody>\n",
       "</table>\n",
       "</div>"
      ],
      "text/plain": [
       "             Asma Cardiopatia Data_Inicio_Sintomas  Diabetes  \\\n",
       "6770923  IGNORADO    IGNORADO           11/01/2022  IGNORADO   \n",
       "6770924  IGNORADO    IGNORADO           18/05/2021  IGNORADO   \n",
       "6770925  IGNORADO    IGNORADO           02/01/2023  IGNORADO   \n",
       "6770926       NÃO         SIM           10/05/2020       SIM   \n",
       "6770927  IGNORADO    IGNORADO           07/03/2021  IGNORADO   \n",
       "\n",
       "        Diagnostico_Covid19 Doenca_Hematologica Doenca_Hepatica  \\\n",
       "6770923          CONFIRMADO            IGNORADO        IGNORADO   \n",
       "6770924          CONFIRMADO            IGNORADO        IGNORADO   \n",
       "6770925          CONFIRMADO            IGNORADO        IGNORADO   \n",
       "6770926          CONFIRMADO                 NÃO             NÃO   \n",
       "6770927          CONFIRMADO            IGNORADO        IGNORADO   \n",
       "\n",
       "        Doenca_Neurologica Doenca Renal     Genero  Idade Imunodepressao  \\\n",
       "6770923           IGNORADO     IGNORADO  MASCULINO    1.0       IGNORADO   \n",
       "6770924           IGNORADO     IGNORADO  MASCULINO    9.0       IGNORADO   \n",
       "6770925           IGNORADO     IGNORADO  MASCULINO    0.0       IGNORADO   \n",
       "6770926                NÃO          NÃO   FEMININO   77.0            NÃO   \n",
       "6770927           IGNORADO     IGNORADO  MASCULINO   35.0       IGNORADO   \n",
       "\n",
       "                     Municipio Obesidade  Obito Outros_Fatores_De_Risco  \\\n",
       "6770923  SÃO BERNARDO DO CAMPO  IGNORADO      0                IGNORADO   \n",
       "6770924        ITAQUAQUECETUBA  IGNORADO      0                IGNORADO   \n",
       "6770925               CAMPINAS  IGNORADO      0                IGNORADO   \n",
       "6770926              SÃO PAULO       NÃO      1                IGNORADO   \n",
       "6770927            SANTO ANDRÉ  IGNORADO      0                IGNORADO   \n",
       "\n",
       "        Pneumopatia  Puérpera Síndrome_De_Down  Faixa_Etaria  \n",
       "6770923    IGNORADO  IGNORADO         IGNORADO             0  \n",
       "6770924    IGNORADO  IGNORADO         IGNORADO             0  \n",
       "6770925    IGNORADO  IGNORADO         IGNORADO             0  \n",
       "6770926         NÃO       NÃO              NÃO             3  \n",
       "6770927    IGNORADO  IGNORADO         IGNORADO             2  "
      ]
     },
     "execution_count": 30,
     "metadata": {},
     "output_type": "execute_result"
    }
   ],
   "source": [
    "novo_exercicio_2_faixa.tail()"
   ]
  },
  {
   "cell_type": "markdown",
   "metadata": {},
   "source": [
    "Estudar os dados obtidos, focando no número de Obitos por Faixa Etária."
   ]
  },
  {
   "cell_type": "code",
   "execution_count": 81,
   "metadata": {},
   "outputs": [
    {
     "name": "stdout",
     "output_type": "stream",
     "text": [
      "Faixa_Etaria  Obito\n",
      "0             0         333655\n",
      "              1            371\n",
      "1             0         218849\n",
      "              1            163\n",
      "2             0        5170247\n",
      "              1          75221\n",
      "3             0         644369\n",
      "              1         106596\n",
      "Name: Obito, dtype: int64\n"
     ]
    }
   ],
   "source": [
    "# Divisão da coluna \"Obito\" para cada caracter da coluna \"Faixa_Etaria\"\n",
    "dados_gerados = novo_exercicio_2_faixa.groupby('Faixa_Etaria')['Obito'].value_counts()\n",
    "print(dados_gerados)"
   ]
  },
  {
   "cell_type": "code",
   "execution_count": 80,
   "metadata": {},
   "outputs": [
    {
     "data": {
      "text/html": [
       "<div>\n",
       "<style scoped>\n",
       "    .dataframe tbody tr th:only-of-type {\n",
       "        vertical-align: middle;\n",
       "    }\n",
       "\n",
       "    .dataframe tbody tr th {\n",
       "        vertical-align: top;\n",
       "    }\n",
       "\n",
       "    .dataframe thead th {\n",
       "        text-align: right;\n",
       "    }\n",
       "</style>\n",
       "<table border=\"1\" class=\"dataframe\">\n",
       "  <thead>\n",
       "    <tr style=\"text-align: right;\">\n",
       "      <th></th>\n",
       "      <th>count</th>\n",
       "      <th>sum</th>\n",
       "    </tr>\n",
       "    <tr>\n",
       "      <th>Faixa_Etaria</th>\n",
       "      <th></th>\n",
       "      <th></th>\n",
       "    </tr>\n",
       "  </thead>\n",
       "  <tbody>\n",
       "    <tr>\n",
       "      <th>0</th>\n",
       "      <td>334026</td>\n",
       "      <td>371</td>\n",
       "    </tr>\n",
       "    <tr>\n",
       "      <th>1</th>\n",
       "      <td>219012</td>\n",
       "      <td>163</td>\n",
       "    </tr>\n",
       "    <tr>\n",
       "      <th>2</th>\n",
       "      <td>5245468</td>\n",
       "      <td>75221</td>\n",
       "    </tr>\n",
       "    <tr>\n",
       "      <th>3</th>\n",
       "      <td>750965</td>\n",
       "      <td>106596</td>\n",
       "    </tr>\n",
       "  </tbody>\n",
       "</table>\n",
       "</div>"
      ],
      "text/plain": [
       "                count     sum\n",
       "Faixa_Etaria                 \n",
       "0              334026     371\n",
       "1              219012     163\n",
       "2             5245468   75221\n",
       "3              750965  106596"
      ]
     },
     "execution_count": 80,
     "metadata": {},
     "output_type": "execute_result"
    }
   ],
   "source": [
    "novo_exercicio_2_faixa.groupby('Faixa_Etaria')['Obito'].agg(['count', 'sum'])"
   ]
  },
  {
   "cell_type": "code",
   "execution_count": 49,
   "metadata": {},
   "outputs": [
    {
     "data": {
      "text/plain": [
       "[0, 1, 2, 3]"
      ]
     },
     "execution_count": 49,
     "metadata": {},
     "output_type": "execute_result"
    }
   ],
   "source": [
    "sorted(novo_exercicio_2_faixa['Faixa_Etaria'].unique())"
   ]
  },
  {
   "cell_type": "markdown",
   "metadata": {},
   "source": [
    "## 2.3 - Função para obter a Contagem dos Casos e Óbitos por Faixa de Idade"
   ]
  },
  {
   "cell_type": "code",
   "execution_count": 8,
   "metadata": {},
   "outputs": [],
   "source": [
    "def contagem_faixa_obito(df_dados):\n",
    "    # Obtendo as faixas etárias únicas em ordem\n",
    "    faixas_etarias = sorted(df_dados['Faixa_Etaria'].unique())\n",
    "\n",
    "    # Criando um DataFrame vazio para armazenar os resultados\n",
    "    dados_faixa_etaria = pd.DataFrame(columns=['Faixa_Etaria', 'N_Casos', 'N_Obitos'])\n",
    "\n",
    "    # Iterando sobre as faixas etárias\n",
    "    for j in faixas_etarias:\n",
    "        # Inicializando as contagens\n",
    "        contagem = 0\n",
    "        contagem_obitos = 0\n",
    "\n",
    "        # Iterando sobre as linhas do DataFrame\n",
    "        for i in range(0, len(df_dados)):\n",
    "            # Verificando se a faixa etária na linha atual corresponde à faixa etária atual do loop externo\n",
    "            if df_dados['Faixa_Etaria'].iloc[i] == j:\n",
    "                contagem += 1\n",
    "                if df_dados['Obito'].iloc[i] == 1:\n",
    "                    contagem_obitos += 1\n",
    "\n",
    "        # Adicionando os resultados para a faixa etária atual ao DataFrame de resultados  \n",
    "        dados_faixa_etaria = dados_faixa_etaria.append({'Faixa_Etaria': j,\n",
    "                                                        'N_Casos': contagem,\n",
    "                                                        'N_Obitos': contagem_obitos},\n",
    "                                                       ignore_index=True)  \n",
    "        '''\n",
    "        dados_faixa_etaria['Faixa_Etaria'] = j\n",
    "        dados_faixa_etaria['N_Casos'] = contagem\n",
    "        dados_faixa_etaria['N_Obitos'] = contagem_obitos\n",
    "        '''\n",
    "\n",
    "    return dados_faixa_etaria"
   ]
  },
  {
   "cell_type": "code",
   "execution_count": 82,
   "metadata": {},
   "outputs": [],
   "source": [
    "dados_faixa_etaria = contagem_faixa_obito(df_dados=novo_exercicio_2_faixa)"
   ]
  },
  {
   "cell_type": "markdown",
   "metadata": {},
   "source": [
    "Tenhos os dados do Número de Casos e Óbitos para cada Faixa Etária, próximo passo é plotar o gráfico."
   ]
  },
  {
   "cell_type": "code",
   "execution_count": 83,
   "metadata": {},
   "outputs": [
    {
     "data": {
      "text/html": [
       "<div>\n",
       "<style scoped>\n",
       "    .dataframe tbody tr th:only-of-type {\n",
       "        vertical-align: middle;\n",
       "    }\n",
       "\n",
       "    .dataframe tbody tr th {\n",
       "        vertical-align: top;\n",
       "    }\n",
       "\n",
       "    .dataframe thead th {\n",
       "        text-align: right;\n",
       "    }\n",
       "</style>\n",
       "<table border=\"1\" class=\"dataframe\">\n",
       "  <thead>\n",
       "    <tr style=\"text-align: right;\">\n",
       "      <th></th>\n",
       "      <th>Faixa_Etaria</th>\n",
       "      <th>N_Casos</th>\n",
       "      <th>N_Obitos</th>\n",
       "    </tr>\n",
       "  </thead>\n",
       "  <tbody>\n",
       "    <tr>\n",
       "      <th>0</th>\n",
       "      <td>0</td>\n",
       "      <td>334026</td>\n",
       "      <td>371</td>\n",
       "    </tr>\n",
       "    <tr>\n",
       "      <th>1</th>\n",
       "      <td>1</td>\n",
       "      <td>219012</td>\n",
       "      <td>163</td>\n",
       "    </tr>\n",
       "    <tr>\n",
       "      <th>2</th>\n",
       "      <td>2</td>\n",
       "      <td>5245468</td>\n",
       "      <td>75221</td>\n",
       "    </tr>\n",
       "    <tr>\n",
       "      <th>3</th>\n",
       "      <td>3</td>\n",
       "      <td>750965</td>\n",
       "      <td>106596</td>\n",
       "    </tr>\n",
       "  </tbody>\n",
       "</table>\n",
       "</div>"
      ],
      "text/plain": [
       "  Faixa_Etaria  N_Casos N_Obitos\n",
       "0            0   334026      371\n",
       "1            1   219012      163\n",
       "2            2  5245468    75221\n",
       "3            3   750965   106596"
      ]
     },
     "metadata": {},
     "output_type": "display_data"
    }
   ],
   "source": [
    "display(dados_faixa_etaria)"
   ]
  },
  {
   "cell_type": "markdown",
   "metadata": {},
   "source": [
    "## 2.4 - Plotar o Gráfico"
   ]
  },
  {
   "cell_type": "code",
   "execution_count": 6,
   "metadata": {},
   "outputs": [],
   "source": [
    "def plotar_grafico(df_dados):\n",
    "    # Mapeamento dos números de faixa etária para os intervalos de idade\n",
    "    mapeamento_faixa_etaria = {\n",
    "        0: '0 - 12 anos',\n",
    "        1: '13 - 17 anos',\n",
    "        2: '18 - 64 anos',\n",
    "        3: '+65 anos'\n",
    "    }\n",
    "\n",
    "    # Fazendo uma cópia do DataFrame para evitar modificar o original\n",
    "    df_dados = df_dados.copy()\n",
    "    \n",
    "    # Substituir os números de faixa etária pelos intervalos de idade correspondentes\n",
    "    df_dados['Faixa_Etaria'] = df_dados['Faixa_Etaria'].map(mapeamento_faixa_etaria)\n",
    "\n",
    "    #Adicionar a coluna \"Taxa_Mortalidade\"\n",
    "    df_dados['Taxa_Mortalidade'] = (df_dados['N_Obitos'] / df_dados['N_Casos']) * 100\n",
    "    #print(df_dados)\n",
    "\n",
    "    # Cores para cada barra\n",
    "    #cores = ['blue', 'orange', 'green', 'red']\n",
    "\n",
    "    plt.figure(figsize=(8, 6))\n",
    "    bars = plt.bar(df_dados['Faixa_Etaria'], df_dados['Taxa_Mortalidade'], color= 'darkblue')\n",
    "    plt.xlabel('Faixa Etária')\n",
    "    plt.ylabel('Taxa de Mortalidade (%)')\n",
    "    plt.title('Taxa de Mortalidade por Faixa Etária')\n",
    "    plt.grid(axis='y',  which=\"both\")\n",
    "\n",
    "    # Adicionando as porcentagens acima das barras\n",
    "    for bar in bars:\n",
    "        height = bar.get_height()\n",
    "        plt.text(bar.get_x() + bar.get_width() / 2, height, f'{height:.2f}%', ha='center', va='bottom', fontsize=10)\n",
    "\n",
    "    # Configurando a escala do eixo Y em logaritmo\n",
    "    plt.yscale('log')\n",
    "    plt.yticks([0.1, 1, 10], ['0.1', '1', '10'])  # Define os rótulos personalizados\n",
    "\n",
    "    plt.show()"
   ]
  },
  {
   "cell_type": "code",
   "execution_count": 141,
   "metadata": {},
   "outputs": [
    {
     "data": {
      "image/png": "[encoded data removed]",
      "text/plain": [
       "<Figure size 800x600 with 1 Axes>"
      ]
     },
     "metadata": {},
     "output_type": "display_data"
    }
   ],
   "source": [
    "plotar_grafico(dados_faixa_etaria)"
   ]
  },
  {
   "cell_type": "markdown",
   "metadata": {},
   "source": [
    "## 2.5 - Versão Final Consolidada."
   ]
  },
  {
   "cell_type": "markdown",
   "metadata": {},
   "source": [
    "Aqui teremos a execução de todo o programa em uma célula"
   ]
  },
  {
   "cell_type": "code",
   "execution_count": 9,
   "metadata": {},
   "outputs": [
    {
     "data": {
      "image/png": "[encoded data removed]",
      "text/plain": [
       "<Figure size 800x600 with 1 Axes>"
      ]
     },
     "metadata": {},
     "output_type": "display_data"
    }
   ],
   "source": [
    "path = \"D:\\\\Python\\\\finance\\\\Absolute\\\\Dados\\\\20240120_Casos_e_obitos_ESP\\\\tmp\\\\tmpi0lf4neq\\\\20240120_Casos_e_obitos_ESP.csv\"\n",
    "\n",
    "# Lendo CSV\n",
    "dados_csv = ler_csv(path= path)\n",
    "\n",
    "# Tratamento da Coluna \"Idade\" removendo as linhas NaN.\n",
    "dados_csv_1 = tratamento_coluna_idade(df_dados= dados_csv)\n",
    "\n",
    "# Preenchendo a nova coluna \"Faixa_Etaria\"\n",
    "dados_csv_2 = coluna_faixa_etaria(df_dados= dados_csv_1)\n",
    "\n",
    "# Função para obter a Contagem dos Casos e Óbitos por Faixa de Idade\n",
    "dados_csv_3 = contagem_faixa_obito(df_dados= dados_csv_2)\n",
    "\n",
    "# Plotar o Gráfico\n",
    "plotar_grafico(df_dados= dados_csv_3)"
   ]
  },
  {
   "cell_type": "markdown",
   "metadata": {},
   "source": [
    "# 3 - Qual a doença pré-existente mais provável de se encontrar numa pessoa com COVID?"
   ]
  },
  {
   "cell_type": "markdown",
   "metadata": {},
   "source": [
    "Ler o arquivo e seguiremos com o desenvolvimento da solução para a doença pré-existente mais provável."
   ]
  },
  {
   "cell_type": "code",
   "execution_count": 10,
   "metadata": {},
   "outputs": [],
   "source": [
    "def ler_csv(path=None):\n",
    "    # Caso não informado o path, usar o caminho padrão da máquina.\n",
    "    if path is None:\n",
    "        path = \"D:\\\\Python\\\\finance\\\\Absolute\\\\Dados\\\\20240120_Casos_e_obitos_ESP\\\\tmp\\\\tmpi0lf4neq\\\\20240120_Casos_e_obitos_ESP.csv\"\n",
    "\n",
    "    # Usando a estrutura try e except para ler o arquivo.\n",
    "    try:\n",
    "        df = pd.read_csv(path, \n",
    "                         sep = ';', # Separador usando ';' como parâmetro\n",
    "                         header=0)  # Define-se a linha 0 como index.\n",
    "        return df\n",
    "    \n",
    "    except Exception as e:\n",
    "        print(f\"Ocorreu um erro ao ler o arquivo: {e}\")\n",
    "        return None"
   ]
  },
  {
   "cell_type": "code",
   "execution_count": 11,
   "metadata": {},
   "outputs": [],
   "source": [
    "exercicio_3 = ler_csv()"
   ]
  },
  {
   "cell_type": "code",
   "execution_count": 12,
   "metadata": {},
   "outputs": [
    {
     "data": {
      "text/html": [
       "<div>\n",
       "<style scoped>\n",
       "    .dataframe tbody tr th:only-of-type {\n",
       "        vertical-align: middle;\n",
       "    }\n",
       "\n",
       "    .dataframe tbody tr th {\n",
       "        vertical-align: top;\n",
       "    }\n",
       "\n",
       "    .dataframe thead th {\n",
       "        text-align: right;\n",
       "    }\n",
       "</style>\n",
       "<table border=\"1\" class=\"dataframe\">\n",
       "  <thead>\n",
       "    <tr style=\"text-align: right;\">\n",
       "      <th></th>\n",
       "      <th>Asma</th>\n",
       "      <th>Cardiopatia</th>\n",
       "      <th>Data_Inicio_Sintomas</th>\n",
       "      <th>Diabetes</th>\n",
       "      <th>Diagnostico_Covid19</th>\n",
       "      <th>Doenca_Hematologica</th>\n",
       "      <th>Doenca_Hepatica</th>\n",
       "      <th>Doenca_Neurologica</th>\n",
       "      <th>Doenca Renal</th>\n",
       "      <th>Genero</th>\n",
       "      <th>Idade</th>\n",
       "      <th>Imunodepressao</th>\n",
       "      <th>Municipio</th>\n",
       "      <th>Obesidade</th>\n",
       "      <th>Obito</th>\n",
       "      <th>Outros_Fatores_De_Risco</th>\n",
       "      <th>Pneumopatia</th>\n",
       "      <th>Puérpera</th>\n",
       "      <th>Síndrome_De_Down</th>\n",
       "    </tr>\n",
       "  </thead>\n",
       "  <tbody>\n",
       "    <tr>\n",
       "      <th>0</th>\n",
       "      <td>IGNORADO</td>\n",
       "      <td>IGNORADO</td>\n",
       "      <td>15/07/2022</td>\n",
       "      <td>IGNORADO</td>\n",
       "      <td>CONFIRMADO</td>\n",
       "      <td>IGNORADO</td>\n",
       "      <td>IGNORADO</td>\n",
       "      <td>IGNORADO</td>\n",
       "      <td>IGNORADO</td>\n",
       "      <td>MASCULINO</td>\n",
       "      <td>69.0</td>\n",
       "      <td>IGNORADO</td>\n",
       "      <td>ASSIS</td>\n",
       "      <td>IGNORADO</td>\n",
       "      <td>0</td>\n",
       "      <td>IGNORADO</td>\n",
       "      <td>IGNORADO</td>\n",
       "      <td>IGNORADO</td>\n",
       "      <td>IGNORADO</td>\n",
       "    </tr>\n",
       "    <tr>\n",
       "      <th>1</th>\n",
       "      <td>IGNORADO</td>\n",
       "      <td>IGNORADO</td>\n",
       "      <td>21/02/2021</td>\n",
       "      <td>IGNORADO</td>\n",
       "      <td>CONFIRMADO</td>\n",
       "      <td>IGNORADO</td>\n",
       "      <td>IGNORADO</td>\n",
       "      <td>IGNORADO</td>\n",
       "      <td>IGNORADO</td>\n",
       "      <td>FEMININO</td>\n",
       "      <td>60.0</td>\n",
       "      <td>IGNORADO</td>\n",
       "      <td>SÃO PAULO</td>\n",
       "      <td>IGNORADO</td>\n",
       "      <td>0</td>\n",
       "      <td>IGNORADO</td>\n",
       "      <td>IGNORADO</td>\n",
       "      <td>IGNORADO</td>\n",
       "      <td>IGNORADO</td>\n",
       "    </tr>\n",
       "    <tr>\n",
       "      <th>2</th>\n",
       "      <td>IGNORADO</td>\n",
       "      <td>IGNORADO</td>\n",
       "      <td>23/06/2021</td>\n",
       "      <td>IGNORADO</td>\n",
       "      <td>CONFIRMADO</td>\n",
       "      <td>IGNORADO</td>\n",
       "      <td>IGNORADO</td>\n",
       "      <td>IGNORADO</td>\n",
       "      <td>IGNORADO</td>\n",
       "      <td>MASCULINO</td>\n",
       "      <td>58.0</td>\n",
       "      <td>IGNORADO</td>\n",
       "      <td>ARARAQUARA</td>\n",
       "      <td>IGNORADO</td>\n",
       "      <td>0</td>\n",
       "      <td>IGNORADO</td>\n",
       "      <td>IGNORADO</td>\n",
       "      <td>IGNORADO</td>\n",
       "      <td>IGNORADO</td>\n",
       "    </tr>\n",
       "    <tr>\n",
       "      <th>3</th>\n",
       "      <td>IGNORADO</td>\n",
       "      <td>IGNORADO</td>\n",
       "      <td>03/02/2021</td>\n",
       "      <td>IGNORADO</td>\n",
       "      <td>CONFIRMADO</td>\n",
       "      <td>IGNORADO</td>\n",
       "      <td>IGNORADO</td>\n",
       "      <td>IGNORADO</td>\n",
       "      <td>IGNORADO</td>\n",
       "      <td>FEMININO</td>\n",
       "      <td>45.0</td>\n",
       "      <td>IGNORADO</td>\n",
       "      <td>SÃO PAULO</td>\n",
       "      <td>IGNORADO</td>\n",
       "      <td>0</td>\n",
       "      <td>IGNORADO</td>\n",
       "      <td>IGNORADO</td>\n",
       "      <td>IGNORADO</td>\n",
       "      <td>IGNORADO</td>\n",
       "    </tr>\n",
       "    <tr>\n",
       "      <th>4</th>\n",
       "      <td>IGNORADO</td>\n",
       "      <td>IGNORADO</td>\n",
       "      <td>23/02/2021</td>\n",
       "      <td>IGNORADO</td>\n",
       "      <td>CONFIRMADO</td>\n",
       "      <td>IGNORADO</td>\n",
       "      <td>IGNORADO</td>\n",
       "      <td>IGNORADO</td>\n",
       "      <td>IGNORADO</td>\n",
       "      <td>FEMININO</td>\n",
       "      <td>42.0</td>\n",
       "      <td>IGNORADO</td>\n",
       "      <td>SÃO PAULO</td>\n",
       "      <td>IGNORADO</td>\n",
       "      <td>0</td>\n",
       "      <td>IGNORADO</td>\n",
       "      <td>IGNORADO</td>\n",
       "      <td>IGNORADO</td>\n",
       "      <td>IGNORADO</td>\n",
       "    </tr>\n",
       "  </tbody>\n",
       "</table>\n",
       "</div>"
      ],
      "text/plain": [
       "       Asma Cardiopatia Data_Inicio_Sintomas  Diabetes Diagnostico_Covid19  \\\n",
       "0  IGNORADO    IGNORADO           15/07/2022  IGNORADO          CONFIRMADO   \n",
       "1  IGNORADO    IGNORADO           21/02/2021  IGNORADO          CONFIRMADO   \n",
       "2  IGNORADO    IGNORADO           23/06/2021  IGNORADO          CONFIRMADO   \n",
       "3  IGNORADO    IGNORADO           03/02/2021  IGNORADO          CONFIRMADO   \n",
       "4  IGNORADO    IGNORADO           23/02/2021  IGNORADO          CONFIRMADO   \n",
       "\n",
       "  Doenca_Hematologica Doenca_Hepatica Doenca_Neurologica Doenca Renal  \\\n",
       "0            IGNORADO        IGNORADO           IGNORADO     IGNORADO   \n",
       "1            IGNORADO        IGNORADO           IGNORADO     IGNORADO   \n",
       "2            IGNORADO        IGNORADO           IGNORADO     IGNORADO   \n",
       "3            IGNORADO        IGNORADO           IGNORADO     IGNORADO   \n",
       "4            IGNORADO        IGNORADO           IGNORADO     IGNORADO   \n",
       "\n",
       "      Genero  Idade Imunodepressao   Municipio Obesidade  Obito  \\\n",
       "0  MASCULINO   69.0       IGNORADO       ASSIS  IGNORADO      0   \n",
       "1   FEMININO   60.0       IGNORADO   SÃO PAULO  IGNORADO      0   \n",
       "2  MASCULINO   58.0       IGNORADO  ARARAQUARA  IGNORADO      0   \n",
       "3   FEMININO   45.0       IGNORADO   SÃO PAULO  IGNORADO      0   \n",
       "4   FEMININO   42.0       IGNORADO   SÃO PAULO  IGNORADO      0   \n",
       "\n",
       "  Outros_Fatores_De_Risco Pneumopatia  Puérpera Síndrome_De_Down  \n",
       "0                IGNORADO    IGNORADO  IGNORADO         IGNORADO  \n",
       "1                IGNORADO    IGNORADO  IGNORADO         IGNORADO  \n",
       "2                IGNORADO    IGNORADO  IGNORADO         IGNORADO  \n",
       "3                IGNORADO    IGNORADO  IGNORADO         IGNORADO  \n",
       "4                IGNORADO    IGNORADO  IGNORADO         IGNORADO  "
      ]
     },
     "execution_count": 12,
     "metadata": {},
     "output_type": "execute_result"
    }
   ],
   "source": [
    "exercicio_3.head()"
   ]
  },
  {
   "cell_type": "code",
   "execution_count": 14,
   "metadata": {},
   "outputs": [
    {
     "data": {
      "text/plain": [
       "(6770928, 19)"
      ]
     },
     "execution_count": 14,
     "metadata": {},
     "output_type": "execute_result"
    }
   ],
   "source": [
    "exercicio_3.shape"
   ]
  },
  {
   "cell_type": "code",
   "execution_count": 13,
   "metadata": {},
   "outputs": [
    {
     "data": {
      "text/plain": [
       "CONFIRMADO    6770928\n",
       "Name: Diagnostico_Covid19, dtype: int64"
      ]
     },
     "execution_count": 13,
     "metadata": {},
     "output_type": "execute_result"
    }
   ],
   "source": [
    "exercicio_3['Diagnostico_Covid19'].value_counts()"
   ]
  },
  {
   "cell_type": "code",
   "execution_count": 15,
   "metadata": {},
   "outputs": [
    {
     "data": {
      "text/plain": [
       "IGNORADO    6488159\n",
       "SIM          154341\n",
       "NÃO          128428\n",
       "Name: Outros_Fatores_De_Risco, dtype: int64"
      ]
     },
     "execution_count": 15,
     "metadata": {},
     "output_type": "execute_result"
    }
   ],
   "source": [
    "exercicio_3['Outros_Fatores_De_Risco'].value_counts()"
   ]
  },
  {
   "cell_type": "code",
   "execution_count": 16,
   "metadata": {},
   "outputs": [
    {
     "data": {
      "text/plain": [
       "Index(['Asma', 'Cardiopatia', 'Data_Inicio_Sintomas', 'Diabetes',\n",
       "       'Diagnostico_Covid19', 'Doenca_Hematologica', 'Doenca_Hepatica',\n",
       "       'Doenca_Neurologica', 'Doenca Renal', 'Genero', 'Idade',\n",
       "       'Imunodepressao', 'Municipio', 'Obesidade', 'Obito',\n",
       "       'Outros_Fatores_De_Risco', 'Pneumopatia', 'Puérpera',\n",
       "       'Síndrome_De_Down'],\n",
       "      dtype='object')"
      ]
     },
     "execution_count": 16,
     "metadata": {},
     "output_type": "execute_result"
    }
   ],
   "source": [
    "exercicio_3.columns"
   ]
  },
  {
   "cell_type": "code",
   "execution_count": 30,
   "metadata": {},
   "outputs": [
    {
     "name": "stdout",
     "output_type": "stream",
     "text": [
      "<class 'pandas.core.frame.DataFrame'>\n",
      "RangeIndex: 6770928 entries, 0 to 6770927\n",
      "Data columns (total 19 columns):\n",
      " #   Column                   Dtype  \n",
      "---  ------                   -----  \n",
      " 0   Asma                     object \n",
      " 1   Cardiopatia              object \n",
      " 2   Data_Inicio_Sintomas     object \n",
      " 3   Diabetes                 object \n",
      " 4   Diagnostico_Covid19      object \n",
      " 5   Doenca_Hematologica      object \n",
      " 6   Doenca_Hepatica          object \n",
      " 7   Doenca_Neurologica       object \n",
      " 8   Doenca Renal             object \n",
      " 9   Genero                   object \n",
      " 10  Idade                    float64\n",
      " 11  Imunodepressao           object \n",
      " 12  Municipio                object \n",
      " 13  Obesidade                object \n",
      " 14  Obito                    int64  \n",
      " 15  Outros_Fatores_De_Risco  object \n",
      " 16  Pneumopatia              object \n",
      " 17  Puérpera                 object \n",
      " 18  Síndrome_De_Down         object \n",
      "dtypes: float64(1), int64(1), object(17)\n",
      "memory usage: 981.5+ MB\n"
     ]
    }
   ],
   "source": [
    "exercicio_3.info()"
   ]
  },
  {
   "cell_type": "markdown",
   "metadata": {},
   "source": [
    "## 3.1 - Criar novo DataFrame.\n",
    "Com as seguinte colunas [\"Doenca\", \"N_Casos\", \"Taxa_de_Incidencia\"]"
   ]
  },
  {
   "cell_type": "markdown",
   "metadata": {},
   "source": [
    "Dentre as colunas existentes, as seguintes representam doenças pré-existentes que serão as linhas da coluna **\"Doenca\"**:\n",
    "<li>Asma </li>\n",
    "<li>Cardiopatia</li>\n",
    "<li>Diabetes</li>\n",
    "<li>Doenca_Hematologica</li>\n",
    "<li>Doenca_Hepatica</li>\n",
    "<li>Doenca_Neurologica</li>\n",
    "<li>Doenca Renal</li>\n",
    "<li>Imunodepressao</li>\n",
    "<li>Obesidade</li>\n",
    "<li>Pneumopatia</li>\n",
    "<li>Puérpera</li>\n",
    "<li>Síndrome_De_Down</li>"
   ]
  },
  {
   "cell_type": "markdown",
   "metadata": {},
   "source": [
    "Como os dados ausentes (NaN) estão presentes em colunas não relevantes para esta análise, optamos por não realizar exclusões."
   ]
  },
  {
   "cell_type": "code",
   "execution_count": 17,
   "metadata": {},
   "outputs": [],
   "source": [
    "def criar_dataframe(linhas=None):\n",
    "    try:\n",
    "        # Verificar se 'linhas' é vazia ou None, e usar a configuração padrão se necessário\n",
    "        if not linhas:\n",
    "            linhas = [\n",
    "                'Asma', 'Cardiopatia', 'Diabetes', 'Doenca_Hematologica', \n",
    "                'Doenca_Hepatica', 'Doenca_Neurologica', 'Doenca Renal', \n",
    "                'Imunodepressao', 'Obesidade', 'Pneumopatia', 'Puérpera', \n",
    "                'Síndrome_De_Down'\n",
    "            ]\n",
    "        \n",
    "        # Criar o DataFrame com as colunas especificadas\n",
    "        novo_df = pd.DataFrame(columns=['Doenca', 'N_Casos', 'Taxa_de_Incidencia'])\n",
    "        novo_df['Doenca'] = linhas[:]\n",
    "        \n",
    "        return novo_df\n",
    "\n",
    "    except Exception as e:\n",
    "        print(f\"Ocorreu um erro ao criar o DataFrame: {e}\")\n",
    "        return None"
   ]
  },
  {
   "cell_type": "code",
   "execution_count": 20,
   "metadata": {},
   "outputs": [
    {
     "data": {
      "text/html": [
       "<div>\n",
       "<style scoped>\n",
       "    .dataframe tbody tr th:only-of-type {\n",
       "        vertical-align: middle;\n",
       "    }\n",
       "\n",
       "    .dataframe tbody tr th {\n",
       "        vertical-align: top;\n",
       "    }\n",
       "\n",
       "    .dataframe thead th {\n",
       "        text-align: right;\n",
       "    }\n",
       "</style>\n",
       "<table border=\"1\" class=\"dataframe\">\n",
       "  <thead>\n",
       "    <tr style=\"text-align: right;\">\n",
       "      <th></th>\n",
       "      <th>Doenca</th>\n",
       "      <th>N_Casos</th>\n",
       "      <th>Taxa_de_Incidencia</th>\n",
       "    </tr>\n",
       "  </thead>\n",
       "  <tbody>\n",
       "    <tr>\n",
       "      <th>0</th>\n",
       "      <td>Asma</td>\n",
       "      <td>NaN</td>\n",
       "      <td>NaN</td>\n",
       "    </tr>\n",
       "    <tr>\n",
       "      <th>1</th>\n",
       "      <td>Cardiopatia</td>\n",
       "      <td>NaN</td>\n",
       "      <td>NaN</td>\n",
       "    </tr>\n",
       "    <tr>\n",
       "      <th>2</th>\n",
       "      <td>Diabetes</td>\n",
       "      <td>NaN</td>\n",
       "      <td>NaN</td>\n",
       "    </tr>\n",
       "    <tr>\n",
       "      <th>3</th>\n",
       "      <td>Doenca_Hematologica</td>\n",
       "      <td>NaN</td>\n",
       "      <td>NaN</td>\n",
       "    </tr>\n",
       "    <tr>\n",
       "      <th>4</th>\n",
       "      <td>Doenca_Hepatica</td>\n",
       "      <td>NaN</td>\n",
       "      <td>NaN</td>\n",
       "    </tr>\n",
       "    <tr>\n",
       "      <th>5</th>\n",
       "      <td>Doenca_Neurologica</td>\n",
       "      <td>NaN</td>\n",
       "      <td>NaN</td>\n",
       "    </tr>\n",
       "    <tr>\n",
       "      <th>6</th>\n",
       "      <td>Doenca Renal</td>\n",
       "      <td>NaN</td>\n",
       "      <td>NaN</td>\n",
       "    </tr>\n",
       "    <tr>\n",
       "      <th>7</th>\n",
       "      <td>Imunodepressao</td>\n",
       "      <td>NaN</td>\n",
       "      <td>NaN</td>\n",
       "    </tr>\n",
       "    <tr>\n",
       "      <th>8</th>\n",
       "      <td>Obesidade</td>\n",
       "      <td>NaN</td>\n",
       "      <td>NaN</td>\n",
       "    </tr>\n",
       "    <tr>\n",
       "      <th>9</th>\n",
       "      <td>Pneumopatia</td>\n",
       "      <td>NaN</td>\n",
       "      <td>NaN</td>\n",
       "    </tr>\n",
       "    <tr>\n",
       "      <th>10</th>\n",
       "      <td>Puérpera</td>\n",
       "      <td>NaN</td>\n",
       "      <td>NaN</td>\n",
       "    </tr>\n",
       "    <tr>\n",
       "      <th>11</th>\n",
       "      <td>Síndrome_De_Down</td>\n",
       "      <td>NaN</td>\n",
       "      <td>NaN</td>\n",
       "    </tr>\n",
       "  </tbody>\n",
       "</table>\n",
       "</div>"
      ],
      "text/plain": [
       "                 Doenca N_Casos Taxa_de_Incidencia\n",
       "0                  Asma     NaN                NaN\n",
       "1           Cardiopatia     NaN                NaN\n",
       "2              Diabetes     NaN                NaN\n",
       "3   Doenca_Hematologica     NaN                NaN\n",
       "4       Doenca_Hepatica     NaN                NaN\n",
       "5    Doenca_Neurologica     NaN                NaN\n",
       "6          Doenca Renal     NaN                NaN\n",
       "7        Imunodepressao     NaN                NaN\n",
       "8             Obesidade     NaN                NaN\n",
       "9           Pneumopatia     NaN                NaN\n",
       "10             Puérpera     NaN                NaN\n",
       "11     Síndrome_De_Down     NaN                NaN"
      ]
     },
     "metadata": {},
     "output_type": "display_data"
    }
   ],
   "source": [
    "df_vazio = criar_dataframe()\n",
    "display(df_vazio)"
   ]
  },
  {
   "cell_type": "code",
   "execution_count": 22,
   "metadata": {},
   "outputs": [
    {
     "data": {
      "text/html": [
       "<div>\n",
       "<style scoped>\n",
       "    .dataframe tbody tr th:only-of-type {\n",
       "        vertical-align: middle;\n",
       "    }\n",
       "\n",
       "    .dataframe tbody tr th {\n",
       "        vertical-align: top;\n",
       "    }\n",
       "\n",
       "    .dataframe thead th {\n",
       "        text-align: right;\n",
       "    }\n",
       "</style>\n",
       "<table border=\"1\" class=\"dataframe\">\n",
       "  <thead>\n",
       "    <tr style=\"text-align: right;\">\n",
       "      <th></th>\n",
       "      <th>Doenca</th>\n",
       "      <th>N_Casos</th>\n",
       "      <th>Taxa_de_Incidencia</th>\n",
       "    </tr>\n",
       "  </thead>\n",
       "  <tbody>\n",
       "    <tr>\n",
       "      <th>0</th>\n",
       "      <td>Cancer</td>\n",
       "      <td>NaN</td>\n",
       "      <td>NaN</td>\n",
       "    </tr>\n",
       "    <tr>\n",
       "      <th>1</th>\n",
       "      <td>Miopia</td>\n",
       "      <td>NaN</td>\n",
       "      <td>NaN</td>\n",
       "    </tr>\n",
       "  </tbody>\n",
       "</table>\n",
       "</div>"
      ],
      "text/plain": [
       "   Doenca N_Casos Taxa_de_Incidencia\n",
       "0  Cancer     NaN                NaN\n",
       "1  Miopia     NaN                NaN"
      ]
     },
     "metadata": {},
     "output_type": "display_data"
    }
   ],
   "source": [
    "lista_diferente = ['Cancer', 'Miopia']\n",
    "nova_df = criar_dataframe(lista_diferente)\n",
    "display(nova_df)"
   ]
  },
  {
   "cell_type": "markdown",
   "metadata": {},
   "source": [
    "## 3.2 - Preencher a nova planilha criada usando com referencia o CSV padrão."
   ]
  },
  {
   "cell_type": "code",
   "execution_count": 31,
   "metadata": {},
   "outputs": [],
   "source": [
    "def preencher_dataframe(df_vazio: pd.DataFrame, df_padrao: pd.DataFrame):\n",
    "\n",
    "    try:\n",
    "        # Fazer uma cópia dos DataFrames para evitar modificar os dados originais\n",
    "        df_vazio = df_vazio.copy()\n",
    "        df_padrao = df_padrao.copy()\n",
    "\n",
    "        \"\"\"\n",
    "        for i in range(0, len(df_vazio)):\n",
    "            coluna = df_vazio['Doenca'].iloc[i]\n",
    "            contagem = 0\n",
    "            \n",
    "            # Verificar se a coluna existe em df_padrao\n",
    "            if coluna not in df_padrao.columns:\n",
    "                raise KeyError(f\"Coluna {coluna} não encontrada em df_padrao\")\n",
    "            \n",
    "            for j in range(0, len(df_padrao)):\n",
    "                # A confirmação da presença de uma doença pré-existente se dá com o preenchimento do valor \"SIM\"\n",
    "                if str(df_padrao[coluna].iloc[j]).strip().upper() == \"SIM\":\n",
    "                    contagem += 1\n",
    "\n",
    "            df_vazio['N_Casos'].iloc[i] = contagem\n",
    "        \"\"\"\n",
    "\n",
    "        # Contar o número de casos de 'SIM' para cada coluna em df_vazio['Doenca']\n",
    "        for i in range(len(df_vazio)):\n",
    "            coluna = df_vazio['Doenca'].iloc[i]\n",
    "            df_padrao[coluna] = df_padrao[coluna].astype(str)\n",
    "            contagem = df_padrao[coluna].value_counts().get('SIM', 0)\n",
    "            df_vazio['N_Casos'].iloc[i] = contagem\n",
    "        \n",
    "        \n",
    "        # Considerando pelo estudo que todos os casos do CSV são casos Confirmados de COVID19\n",
    "        total_casos = len(df_padrao)\n",
    "\n",
    "        # Calcular a taxa de incidência\n",
    "        df_vazio['Taxa_de_Incidencia'] = (df_vazio['N_Casos'] / total_casos) * 100\n",
    "\n",
    "        return df_vazio\n",
    "    \n",
    "    except KeyError as e:\n",
    "        print(f\"Erro: {e}\")\n",
    "    except Exception as e:\n",
    "        print(f\"Ocorreu um erro ao preencher o DataFrame: {e}\")\n",
    "        return None"
   ]
  },
  {
   "cell_type": "code",
   "execution_count": 32,
   "metadata": {},
   "outputs": [],
   "source": [
    "df_preenchido = preencher_dataframe(df_vazio=df_vazio, df_padrao=exercicio_3)"
   ]
  },
  {
   "cell_type": "code",
   "execution_count": 33,
   "metadata": {},
   "outputs": [
    {
     "data": {
      "text/html": [
       "<div>\n",
       "<style scoped>\n",
       "    .dataframe tbody tr th:only-of-type {\n",
       "        vertical-align: middle;\n",
       "    }\n",
       "\n",
       "    .dataframe tbody tr th {\n",
       "        vertical-align: top;\n",
       "    }\n",
       "\n",
       "    .dataframe thead th {\n",
       "        text-align: right;\n",
       "    }\n",
       "</style>\n",
       "<table border=\"1\" class=\"dataframe\">\n",
       "  <thead>\n",
       "    <tr style=\"text-align: right;\">\n",
       "      <th></th>\n",
       "      <th>Doenca</th>\n",
       "      <th>N_Casos</th>\n",
       "      <th>Taxa_de_Incidencia</th>\n",
       "    </tr>\n",
       "  </thead>\n",
       "  <tbody>\n",
       "    <tr>\n",
       "      <th>0</th>\n",
       "      <td>Asma</td>\n",
       "      <td>16414</td>\n",
       "      <td>0.242419</td>\n",
       "    </tr>\n",
       "    <tr>\n",
       "      <th>1</th>\n",
       "      <td>Cardiopatia</td>\n",
       "      <td>475333</td>\n",
       "      <td>7.020205</td>\n",
       "    </tr>\n",
       "    <tr>\n",
       "      <th>2</th>\n",
       "      <td>Diabetes</td>\n",
       "      <td>316266</td>\n",
       "      <td>4.67094</td>\n",
       "    </tr>\n",
       "    <tr>\n",
       "      <th>3</th>\n",
       "      <td>Doenca_Hematologica</td>\n",
       "      <td>4655</td>\n",
       "      <td>0.06875</td>\n",
       "    </tr>\n",
       "    <tr>\n",
       "      <th>4</th>\n",
       "      <td>Doenca_Hepatica</td>\n",
       "      <td>4800</td>\n",
       "      <td>0.070891</td>\n",
       "    </tr>\n",
       "    <tr>\n",
       "      <th>5</th>\n",
       "      <td>Doenca_Neurologica</td>\n",
       "      <td>24415</td>\n",
       "      <td>0.360586</td>\n",
       "    </tr>\n",
       "    <tr>\n",
       "      <th>6</th>\n",
       "      <td>Doenca Renal</td>\n",
       "      <td>32514</td>\n",
       "      <td>0.4802</td>\n",
       "    </tr>\n",
       "    <tr>\n",
       "      <th>7</th>\n",
       "      <td>Imunodepressao</td>\n",
       "      <td>39757</td>\n",
       "      <td>0.587172</td>\n",
       "    </tr>\n",
       "    <tr>\n",
       "      <th>8</th>\n",
       "      <td>Obesidade</td>\n",
       "      <td>48910</td>\n",
       "      <td>0.722353</td>\n",
       "    </tr>\n",
       "    <tr>\n",
       "      <th>9</th>\n",
       "      <td>Pneumopatia</td>\n",
       "      <td>20554</td>\n",
       "      <td>0.303563</td>\n",
       "    </tr>\n",
       "    <tr>\n",
       "      <th>10</th>\n",
       "      <td>Puérpera</td>\n",
       "      <td>1736</td>\n",
       "      <td>0.025639</td>\n",
       "    </tr>\n",
       "    <tr>\n",
       "      <th>11</th>\n",
       "      <td>Síndrome_De_Down</td>\n",
       "      <td>1483</td>\n",
       "      <td>0.021902</td>\n",
       "    </tr>\n",
       "  </tbody>\n",
       "</table>\n",
       "</div>"
      ],
      "text/plain": [
       "                 Doenca N_Casos Taxa_de_Incidencia\n",
       "0                  Asma   16414           0.242419\n",
       "1           Cardiopatia  475333           7.020205\n",
       "2              Diabetes  316266            4.67094\n",
       "3   Doenca_Hematologica    4655            0.06875\n",
       "4       Doenca_Hepatica    4800           0.070891\n",
       "5    Doenca_Neurologica   24415           0.360586\n",
       "6          Doenca Renal   32514             0.4802\n",
       "7        Imunodepressao   39757           0.587172\n",
       "8             Obesidade   48910           0.722353\n",
       "9           Pneumopatia   20554           0.303563\n",
       "10             Puérpera    1736           0.025639\n",
       "11     Síndrome_De_Down    1483           0.021902"
      ]
     },
     "metadata": {},
     "output_type": "display_data"
    }
   ],
   "source": [
    "display(df_preenchido)"
   ]
  },
  {
   "cell_type": "markdown",
   "metadata": {},
   "source": [
    "Checar os dados gerados"
   ]
  },
  {
   "cell_type": "code",
   "execution_count": 34,
   "metadata": {},
   "outputs": [
    {
     "data": {
      "text/plain": [
       "Index(['Asma', 'Cardiopatia', 'Data_Inicio_Sintomas', 'Diabetes',\n",
       "       'Diagnostico_Covid19', 'Doenca_Hematologica', 'Doenca_Hepatica',\n",
       "       'Doenca_Neurologica', 'Doenca Renal', 'Genero', 'Idade',\n",
       "       'Imunodepressao', 'Municipio', 'Obesidade', 'Obito',\n",
       "       'Outros_Fatores_De_Risco', 'Pneumopatia', 'Puérpera',\n",
       "       'Síndrome_De_Down'],\n",
       "      dtype='object')"
      ]
     },
     "execution_count": 34,
     "metadata": {},
     "output_type": "execute_result"
    }
   ],
   "source": [
    "exercicio_3.columns"
   ]
  },
  {
   "cell_type": "code",
   "execution_count": 51,
   "metadata": {},
   "outputs": [
    {
     "name": "stdout",
     "output_type": "stream",
     "text": [
      "6770928\n",
      "\n",
      "IGNORADO    6534550\n",
      "NÃO          219964\n",
      "SIM           16414\n",
      "Name: Asma, dtype: int64\n",
      "\n",
      "Asma : 16414\n",
      "Cardiopatia : 475333\n",
      "Diabetes : 316266\n",
      "Doenca_Hematologica : 4655\n",
      "Doenca_Hepatica : 4800\n",
      "Doenca_Neurologica : 24415\n",
      "Doenca Renal : 32514\n",
      "Imunodepressao : 39757\n",
      "Obesidade : 48910\n",
      "Pneumopatia : 20554\n",
      "Puérpera : 1736\n",
      "Síndrome_De_Down : 1483\n"
     ]
    }
   ],
   "source": [
    "print(exercicio_3.shape[0])\n",
    "print()\n",
    "print(exercicio_3['Asma'].value_counts())\n",
    "print()\n",
    "colunas = [\n",
    "        'Asma', 'Cardiopatia', 'Diabetes', 'Doenca_Hematologica', \n",
    "        'Doenca_Hepatica', 'Doenca_Neurologica', 'Doenca Renal', \n",
    "        'Imunodepressao', 'Obesidade', 'Pneumopatia', 'Puérpera', \n",
    "        'Síndrome_De_Down'\n",
    "            ]\n",
    "for i in colunas:\n",
    "    print(f\"{i} : {exercicio_3[i].value_counts().get('SIM', 0)}\")\n"
   ]
  },
  {
   "cell_type": "markdown",
   "metadata": {},
   "source": [
    "## 3.3 - Plotar Gráfico."
   ]
  },
  {
   "cell_type": "code",
   "execution_count": 82,
   "metadata": {},
   "outputs": [],
   "source": [
    "def plotar_grafico_ex_3(df_dados):\n",
    "\n",
    "    # Fazendo uma cópia do DataFrame para evitar modificar o original\n",
    "    df_dados = df_dados.copy()\n",
    "\n",
    "    # Cores para cada barra\n",
    "    #cores = ['blue', 'orange', 'green', 'red']\n",
    "\n",
    "    plt.figure(figsize=(20, 6))\n",
    "    bars = plt.bar(df_dados['Doenca'], df_dados['Taxa_de_Incidencia'], color= 'darkblue')\n",
    "    plt.xlabel('Doenças', fontsize=12, fontweight='bold')\n",
    "    plt.ylabel('Taxa de Incidência (%)', fontsize=12, fontweight='bold')\n",
    "    plt.title('Taxa de Incidência por Doença', fontsize=12, fontweight='bold')\n",
    "    plt.grid(axis='y',  which=\"both\")\n",
    "\n",
    "    # Adicionando as porcentagens acima das barras\n",
    "    for bar in bars:\n",
    "        height = bar.get_height()\n",
    "        plt.text(bar.get_x() + bar.get_width() / 2, height, f'{height:.2f}%', ha='center', va='bottom', fontsize=10)\n",
    "\n",
    "    # Configurando a escala do eixo Y em logaritmo\n",
    "    plt.yscale('log')\n",
    "    plt.yticks([0.1, 1, 10], ['0.1', '1', '10'], fontsize=12)  # Define os rótulos personalizados\n",
    "\n",
    "    # Reduzindo o tamanho dos rótulos no eixo x\n",
    "    plt.xticks(rotation=45, ha='right', fontsize=10)\n",
    "\n",
    "    plt.show()"
   ]
  },
  {
   "cell_type": "code",
   "execution_count": 83,
   "metadata": {},
   "outputs": [
    {
     "data": {
      "image/png": "[encoded data removed]",
      "text/plain": [
       "<Figure size 2000x600 with 1 Axes>"
      ]
     },
     "metadata": {},
     "output_type": "display_data"
    }
   ],
   "source": [
    "plotar_grafico_ex_3(df_preenchido)"
   ]
  },
  {
   "cell_type": "markdown",
   "metadata": {},
   "source": [
    "## 3.4 - Versão Final Consolidada."
   ]
  },
  {
   "cell_type": "code",
   "execution_count": 84,
   "metadata": {},
   "outputs": [
    {
     "data": {
      "image/png": "[encoded data removed]",
      "text/plain": [
       "<Figure size 2000x600 with 1 Axes>"
      ]
     },
     "metadata": {},
     "output_type": "display_data"
    }
   ],
   "source": [
    "path = \"D:\\\\Python\\\\finance\\\\Absolute\\\\Dados\\\\20240120_Casos_e_obitos_ESP\\\\tmp\\\\tmpi0lf4neq\\\\20240120_Casos_e_obitos_ESP.csv\"\n",
    "\n",
    "# Lendo CSV dos dados padrões.\n",
    "dados_csv_ex_3 = ler_csv(path= path)\n",
    "\n",
    "# Criar novo DataFrame usado para a análise.\n",
    "novo_data_ex_3 = criar_dataframe()\n",
    "\n",
    "# Preencher a nova planilha criada usando com referencia o CSV padrão.\n",
    "novo_data_ex_3 = preencher_dataframe(df_vazio = novo_data_ex_3, df_padrao = dados_csv_ex_3)\n",
    "\n",
    "# Plotar o Gráfico\n",
    "plotar_grafico_ex_3(df_dados= novo_data_ex_3)"
   ]
  },
  {
   "cell_type": "markdown",
   "metadata": {},
   "source": [
    "## Resposta:\n",
    "Analisando os dados obtidos, a doença mais provável de se encontrar com COVID é Cardiopatia com 7.02%, seguida por Diabetes com 4.67% e Obesidade com 0.72%."
   ]
  }
 ],
 "metadata": {
  "kernelspec": {
   "display_name": "Python 3",
   "language": "python",
   "name": "python3"
  },
  "language_info": {
   "codemirror_mode": {
    "name": "ipython",
    "version": 3
   },
   "file_extension": ".py",
   "mimetype": "text/x-python",
   "name": "python",
   "nbconvert_exporter": "python",
   "pygments_lexer": "ipython3",
   "version": "3.9.10"
  }
 },
 "nbformat": 4,
 "nbformat_minor": 2
}
